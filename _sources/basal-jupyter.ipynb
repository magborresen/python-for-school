{
 "cells": [
  {
   "cell_type": "markdown",
   "metadata": {},
   "source": [
    "# Hvad er Jupyter Notebooks?"
   ]
  },
  {
   "cell_type": "markdown",
   "metadata": {},
   "source": []
  },
  {
   "cell_type": "markdown",
   "metadata": {},
   "source": [
    "Jupyter Notebooks er ved denne bog er skrevet i. Det er web baseret platform, der gør det muligt at skrive Python scripts. Jupyter Notebooks fungere som et celle baseret værktøj. Det betyder, at man i én notebook, faktisk kan skrive så mange scripts som man har lyst til. Dette gøres blot i individuelle celler. Hvis scriptet har et output, vil det blot blive vist under den pågældende celle. \n",
    "\n",
    "Jupyter Notebooks muliggøre desuden brugen af Markdown. Derfor kan en notebook også bruges som en tekstbehandler, såsom Microsoft Word. Dog på et noget lavere niveau. Hvor Word er mere \"What You See Is What You Get\", så kræver Markdown at man kender de forskellige genveje. Men det skal jeg nok komme videre ind på, det er heldigvis ikke særlig svært. \n",
    "\n",
    "Udover Markdown, giver Jupyter Notebooks, mulighed for at benytte Latex formattering. Det er super fedt, i forhold til at skrive ligninger i en notebook. Vi kan endda konfigurere vores notebook, således at når vi laver matematik vha. Python, så bliver resultater også formateret i Latex, så det er letlæseligt. \n",
    "\n",
    "I Jupyter Notebooks, har elever mulighed for at lave matematik og naturvidenskabelige afleveringer. Fordi der er en celle opdeling af notebooks, betyder det at de er letlæselige. Desuden findes der en udvidelse til Jupyter, der giver mulighed for at lave og rette opgaver, direkte i Jupyter Notebooks. Udvidelsen giver også mulighed for at autorette funktioner. Denne udvidelse hedder `nbgrader`. Den skal vi nok komme til at snakke mere om."
   ]
  },
  {
   "cell_type": "markdown",
   "metadata": {},
   "source": [
    "## Hvad er Markdown?"
   ]
  },
  {
   "cell_type": "markdown",
   "metadata": {},
   "source": [
    "Markdown benyttes i Jupyter Notebooks til tekst formatering. Det er super nemt at lære, selvom der ikke er noget generelt interface som der er i Microsoft Word. Vi er også lidt mere begrænsede end vi er i Word. Men til det vi har tænkt os at bruge det til, så har vi mere end rigeligt funktionalitet. Som tidligere nævnt, så er denne bog skrevet i Jupyter Notebooks. Men selve formateringen af hele bogen er mere eller mindre i Markdown. Undtagen kode blokkene selvfølgelig. "
   ]
  }
 ],
 "metadata": {
  "kernelspec": {
   "display_name": "Python 3",
   "language": "python",
   "name": "python3"
  },
  "language_info": {
   "codemirror_mode": {
    "name": "ipython",
    "version": 3
   },
   "file_extension": ".py",
   "mimetype": "text/x-python",
   "name": "python",
   "nbconvert_exporter": "python",
   "pygments_lexer": "ipython3",
   "version": "3.7.2"
  }
 },
 "nbformat": 4,
 "nbformat_minor": 2
}

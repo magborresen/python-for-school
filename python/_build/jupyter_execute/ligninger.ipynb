{
 "cells": [
  {
   "cell_type": "markdown",
   "metadata": {},
   "source": [
    "## Ligninger\n",
    "\n",
    "Meget matematik på gymnasiet vil foregå ved ligningsløsning. Ofte bliver ligninger så komplekse, at det ikke længere giver mening at løse dem i hånden. Derfor bruger man normalt et CAS værktøj. CAS værktøjet kender vi normalt som WordMat, TI-Nspire eller Maple osv. I Pythons biblioteker, findes der også CAS værktøjer. Det vil altså sige at CAS ikke er en medfødt funktion i Python. Men man skal altså importere et bibliotek, ligesom vi har set før, for at benytte sig af CAS. Der er forskellige biblioteker til dette. Nogle større, nogle mindre. Det bibliotek jeg vil bruge her, hedder `Sympy` og er uden tvivl et af de største biblioteker (Hvis ikke det største). \n",
    "\n",
    "Det vil sige at vi jo først skal have importeret `Sympy` for at kunne bruge det. Det ved vi jo allerede hvordan man gør. Jeg har tænkt mig at importere det, således at jeg blot kan bruge forkortelsen `sp` for at benytty dets funktioner. Vi kommer desuden til at bruge `math` biblioteket også, så det må vi hellere importere på samme tid.\n",
    "\n",
    "For at få vores resultater til at se godt ud, kan vi også importere `init_printing` fra sympy. Derefter kører vi funktionen. Resultatet af dette kan ses længere nede."
   ]
  },
  {
   "cell_type": "code",
   "execution_count": 1,
   "metadata": {
    "execution": {
     "iopub.execute_input": "2020-08-11T19:00:03.100605Z",
     "iopub.status.busy": "2020-08-11T19:00:03.099608Z",
     "iopub.status.idle": "2020-08-11T19:00:04.372204Z",
     "shell.execute_reply": "2020-08-11T19:00:04.373201Z"
    }
   },
   "outputs": [],
   "source": [
    "import sympy as sp\n",
    "from sympy import init_printing\n",
    "import math\n",
    "\n",
    "init_printing()"
   ]
  },
  {
   "cell_type": "markdown",
   "metadata": {},
   "source": [
    "Sådan, nu har vi altså adgang til alle funktioner som sympy kommer med. Men da vi i først omgang kun skal bruge det, til at løse ligninger. Giver det mening kun at importere den funktionalitet. I Python kan man importere \"under biblioteker\" kaldet klasser, for kun at benytte de funktioner som kommer i disse. Den klasse som indeholder ligningsløsning i `sympy` hedder `solvers`, hvori der i den klasse findes en metode der hedder `solve`. `solve` er selve den funktion (metode) som vi bruger til at finde løsningen til en ligning. Derfor kan vi importere `solve` således"
   ]
  },
  {
   "cell_type": "code",
   "execution_count": 2,
   "metadata": {
    "execution": {
     "iopub.execute_input": "2020-08-11T19:00:04.378190Z",
     "iopub.status.busy": "2020-08-11T19:00:04.377190Z",
     "iopub.status.idle": "2020-08-11T19:00:04.381181Z",
     "shell.execute_reply": "2020-08-11T19:00:04.380184Z"
    }
   },
   "outputs": [],
   "source": [
    "from sympy.solvers import solve"
   ]
  },
  {
   "cell_type": "markdown",
   "metadata": {},
   "source": [
    "Nu er vi klar til nemt at kunne løse ligninger. Hvis vi får opgivet en ligning der er opgivet som lig med 0, kan vi altså løse den. \n",
    "\n",
    "F.eks. ligningen $x+5x-7=0$\n",
    "\n",
    "I Python fungere potenser ved at man sætter `**` mellem sit tal/variabel og potensen. I `solve` funktionen indsætter vi først den venstre side af den ovenstående funktion. Derefter sætter vi et komma og specificire hvilken variabel vi vil løse for. Men da `x` endnu ikke er defineret som noget, skal vi først have gjort det. Her kan vi importere variablen fra `sympy` så den ved hvad vi snakker om. Klassen `sympy.abc` indeholder alle bogstaver som variable. Derfor kan vi importere følgende"
   ]
  },
  {
   "cell_type": "code",
   "execution_count": 3,
   "metadata": {
    "execution": {
     "iopub.execute_input": "2020-08-11T19:00:04.386168Z",
     "iopub.status.busy": "2020-08-11T19:00:04.385172Z",
     "iopub.status.idle": "2020-08-11T19:00:04.394147Z",
     "shell.execute_reply": "2020-08-11T19:00:04.395143Z"
    }
   },
   "outputs": [],
   "source": [
    "from sympy.abc import x"
   ]
  },
  {
   "cell_type": "markdown",
   "metadata": {},
   "source": [
    "Hvorefter vi kan løse ligning "
   ]
  },
  {
   "cell_type": "code",
   "execution_count": 4,
   "metadata": {
    "execution": {
     "iopub.execute_input": "2020-08-11T19:00:04.408111Z",
     "iopub.status.busy": "2020-08-11T19:00:04.407110Z",
     "iopub.status.idle": "2020-08-11T19:00:05.394577Z",
     "shell.execute_reply": "2020-08-11T19:00:05.395575Z"
    }
   },
   "outputs": [
    {
     "data": {
      "image/png": "[encoded data removed]",
      "text/latex": [
       "$\\displaystyle \\left[ \\frac{7}{6}\\right]$"
      ],
      "text/plain": [
       "[7/6]"
      ]
     },
     "execution_count": 4,
     "metadata": {
      "filenames": {
       "image/png": "C:\\Users\\mabo\\Documents\\python-for-school\\python\\_build\\jupyter_execute\\ligninger_7_0.png"
      }
     },
     "output_type": "execute_result"
    }
   ],
   "source": [
    "solve(x+5*x-7, x)"
   ]
  },
  {
   "cell_type": "markdown",
   "metadata": {},
   "source": [
    "Vi kan se at vores resultat er fint printet pga. vi har importeret og kørt `init_printing`"
   ]
  },
  {
   "cell_type": "markdown",
   "metadata": {},
   "source": [
    "Ligninger med flere variable klarer `sympy` også uden problemer. Vi skal blot lige definere en ekstra variabel først, ligesom vi definerede `x` tidligere. Så lad os definere `y` denne gang."
   ]
  },
  {
   "cell_type": "code",
   "execution_count": 5,
   "metadata": {
    "execution": {
     "iopub.execute_input": "2020-08-11T19:00:05.400606Z",
     "iopub.status.busy": "2020-08-11T19:00:05.399565Z",
     "iopub.status.idle": "2020-08-11T19:00:05.403598Z",
     "shell.execute_reply": "2020-08-11T19:00:05.402596Z"
    }
   },
   "outputs": [],
   "source": [
    "from sympy.abc import y"
   ]
  },
  {
   "cell_type": "markdown",
   "metadata": {},
   "source": [
    "Nu kan vi så forsøge at løse en ligning der indeholder flere variable. Vi bliver selvfølgelig stadig nødt til at løse ligningen for en variabel ad gangen, men vi bliver i det mindste hjulpet på vej.\n",
    "\n",
    "Lad os prøve at løse ligningen \n",
    "\n",
    "$$5x+17y+7=0$$\n",
    "\n",
    "Når vi skal indsætte vores variabel efter kommaet, definere vi blot den variabel vi vil løse for. Det vil sige at hvis vi vil løse ligningen for `x` gør vi som nedenstående eksempel."
   ]
  },
  {
   "cell_type": "code",
   "execution_count": 6,
   "metadata": {
    "execution": {
     "iopub.execute_input": "2020-08-11T19:00:05.430481Z",
     "iopub.status.busy": "2020-08-11T19:00:05.417557Z",
     "iopub.status.idle": "2020-08-11T19:00:05.484336Z",
     "shell.execute_reply": "2020-08-11T19:00:05.483339Z"
    }
   },
   "outputs": [
    {
     "data": {
      "image/png": "[encoded data removed]",
      "text/latex": [
       "$\\displaystyle \\left[ - \\frac{17 y}{5} - \\frac{7}{5}\\right]$"
      ],
      "text/plain": [
       "⎡  17⋅y   7⎤\n",
       "⎢- ──── - ─⎥\n",
       "⎣   5     5⎦"
      ]
     },
     "execution_count": 6,
     "metadata": {
      "filenames": {
       "image/png": "C:\\Users\\mabo\\Documents\\python-for-school\\python\\_build\\jupyter_execute\\ligninger_12_0.png"
      }
     },
     "output_type": "execute_result"
    }
   ],
   "source": [
    "solve(5*x+17*y+7, x)"
   ]
  },
  {
   "cell_type": "markdown",
   "metadata": {},
   "source": [
    "Hvis vi istedet vil løse for `y`, ser det således ud."
   ]
  },
  {
   "cell_type": "code",
   "execution_count": 7,
   "metadata": {
    "execution": {
     "iopub.execute_input": "2020-08-11T19:00:05.505281Z",
     "iopub.status.busy": "2020-08-11T19:00:05.499299Z",
     "iopub.status.idle": "2020-08-11T19:00:05.561130Z",
     "shell.execute_reply": "2020-08-11T19:00:05.563128Z"
    }
   },
   "outputs": [
    {
     "data": {
      "image/png": "[encoded data removed]",
      "text/latex": [
       "$\\displaystyle \\left[ - \\frac{5 x}{17} - \\frac{7}{17}\\right]$"
      ],
      "text/plain": [
       "⎡  5⋅x   7 ⎤\n",
       "⎢- ─── - ──⎥\n",
       "⎣   17   17⎦"
      ]
     },
     "execution_count": 7,
     "metadata": {
      "filenames": {
       "image/png": "C:\\Users\\mabo\\Documents\\python-for-school\\python\\_build\\jupyter_execute\\ligninger_14_0.png"
      }
     },
     "output_type": "execute_result"
    }
   ],
   "source": [
    "solve(5*x+17*y+7, y)"
   ]
  },
  {
   "cell_type": "markdown",
   "metadata": {},
   "source": [
    "Løsningerne kan nu bruges til at bestemme de to variable. "
   ]
  },
  {
   "cell_type": "markdown",
   "metadata": {},
   "source": [
    "### Absolutte værdier\n",
    "\n",
    "I Python arbejder vi selvfølgelig også med absolutte værdier. Så der findes altså en funktion, som kommer indbygget i Python, der finder den absolutte værdi af hvad end man fodre den med. Denne funktion hedder blot `abs()` af det engelske __absolute__. Lad os prøve den af og se om det virker."
   ]
  },
  {
   "cell_type": "code",
   "execution_count": 8,
   "metadata": {
    "execution": {
     "iopub.execute_input": "2020-08-11T19:00:05.568116Z",
     "iopub.status.busy": "2020-08-11T19:00:05.567118Z",
     "iopub.status.idle": "2020-08-11T19:00:05.607052Z",
     "shell.execute_reply": "2020-08-11T19:00:05.607052Z"
    }
   },
   "outputs": [
    {
     "data": {
      "image/png": "[encoded data removed]",
      "text/latex": [
       "$\\displaystyle 7$"
      ],
      "text/plain": [
       "7"
      ]
     },
     "execution_count": 8,
     "metadata": {
      "filenames": {
       "image/png": "C:\\Users\\mabo\\Documents\\python-for-school\\python\\_build\\jupyter_execute\\ligninger_17_0.png"
      }
     },
     "output_type": "execute_result"
    }
   ],
   "source": [
    "abs(-7)"
   ]
  },
  {
   "cell_type": "code",
   "execution_count": 9,
   "metadata": {
    "execution": {
     "iopub.execute_input": "2020-08-11T19:00:05.612992Z",
     "iopub.status.busy": "2020-08-11T19:00:05.611996Z",
     "iopub.status.idle": "2020-08-11T19:00:05.651928Z",
     "shell.execute_reply": "2020-08-11T19:00:05.651928Z"
    }
   },
   "outputs": [
    {
     "data": {
      "image/png": "[encoded data removed]",
      "text/latex": [
       "$\\displaystyle 12$"
      ],
      "text/plain": [
       "12"
      ]
     },
     "execution_count": 9,
     "metadata": {
      "filenames": {
       "image/png": "C:\\Users\\mabo\\Documents\\python-for-school\\python\\_build\\jupyter_execute\\ligninger_18_0.png"
      }
     },
     "output_type": "execute_result"
    }
   ],
   "source": [
    "abs(15-27)"
   ]
  },
  {
   "cell_type": "code",
   "execution_count": 10,
   "metadata": {
    "execution": {
     "iopub.execute_input": "2020-08-11T19:00:05.658911Z",
     "iopub.status.busy": "2020-08-11T19:00:05.656876Z",
     "iopub.status.idle": "2020-08-11T19:00:05.699803Z",
     "shell.execute_reply": "2020-08-11T19:00:05.698765Z"
    }
   },
   "outputs": [
    {
     "data": {
      "image/png": "[encoded data removed]",
      "text/latex": [
       "$\\displaystyle 40$"
      ],
      "text/plain": [
       "40"
      ]
     },
     "execution_count": 10,
     "metadata": {
      "filenames": {
       "image/png": "C:\\Users\\mabo\\Documents\\python-for-school\\python\\_build\\jupyter_execute\\ligninger_19_0.png"
      }
     },
     "output_type": "execute_result"
    }
   ],
   "source": [
    "abs(-2*20)"
   ]
  },
  {
   "cell_type": "markdown",
   "metadata": {},
   "source": [
    "Vi ser altså funktionen virker med alle de udtryk vi fodre den med. Den kan også bruges hvis vi f.eks. vil gange den absolutte værdi af et tal, med et andet tal. Lad os prøve at gange den absolutte værdi af $-20$ med $4$."
   ]
  },
  {
   "cell_type": "code",
   "execution_count": 11,
   "metadata": {
    "execution": {
     "iopub.execute_input": "2020-08-11T19:00:05.704750Z",
     "iopub.status.busy": "2020-08-11T19:00:05.703752Z",
     "iopub.status.idle": "2020-08-11T19:00:05.745683Z",
     "shell.execute_reply": "2020-08-11T19:00:05.744640Z"
    }
   },
   "outputs": [
    {
     "data": {
      "image/png": "[encoded data removed]",
      "text/latex": [
       "$\\displaystyle 80$"
      ],
      "text/plain": [
       "80"
      ]
     },
     "execution_count": 11,
     "metadata": {
      "filenames": {
       "image/png": "C:\\Users\\mabo\\Documents\\python-for-school\\python\\_build\\jupyter_execute\\ligninger_21_0.png"
      }
     },
     "output_type": "execute_result"
    }
   ],
   "source": [
    "abs(-20)*4"
   ]
  },
  {
   "cell_type": "markdown",
   "metadata": {},
   "source": [
    "Så vi kan uden problemer regne med absolutte værdier i Python."
   ]
  },
  {
   "cell_type": "markdown",
   "metadata": {},
   "source": [
    "### Andengradsligningen\n",
    "\n",
    "Andengradsligningen som vi allesammen kender den, kommer på formen $ax^2+bx+c=0$. Denne kan vi selvfølgelig også regne i Python. Dette gøres igen blot med `sympy`'s `solve` funktion. Lad os prøve med 3 forskellige andengradsligninger som vi ved giver enten 2 løsninger, 1 løsning eller ingen løsninger.\n",
    "\n",
    "Ligningen $2x^2+6x+4=0$ bør give os to løsninger."
   ]
  },
  {
   "cell_type": "code",
   "execution_count": 12,
   "metadata": {
    "execution": {
     "iopub.execute_input": "2020-08-11T19:00:05.754614Z",
     "iopub.status.busy": "2020-08-11T19:00:05.753617Z",
     "iopub.status.idle": "2020-08-11T19:00:05.812502Z",
     "shell.execute_reply": "2020-08-11T19:00:05.812502Z"
    }
   },
   "outputs": [
    {
     "data": {
      "image/png": "[encoded data removed]",
      "text/latex": [
       "$\\displaystyle \\left[ -2, \\  -1\\right]$"
      ],
      "text/plain": [
       "[-2, -1]"
      ]
     },
     "execution_count": 12,
     "metadata": {
      "filenames": {
       "image/png": "C:\\Users\\mabo\\Documents\\python-for-school\\python\\_build\\jupyter_execute\\ligninger_24_0.png"
      }
     },
     "output_type": "execute_result"
    }
   ],
   "source": [
    "solve(2*x**2+6*x+4, x)"
   ]
  },
  {
   "cell_type": "markdown",
   "metadata": {},
   "source": [
    "Det gør den altså også.\n",
    "\n",
    "Lad os prøve med ligningen $x^2-2x+1=0$ som bør give os én enkelt løsning."
   ]
  },
  {
   "cell_type": "code",
   "execution_count": 13,
   "metadata": {
    "execution": {
     "iopub.execute_input": "2020-08-11T19:00:05.826422Z",
     "iopub.status.busy": "2020-08-11T19:00:05.825426Z",
     "iopub.status.idle": "2020-08-11T19:00:05.873300Z",
     "shell.execute_reply": "2020-08-11T19:00:05.874296Z"
    }
   },
   "outputs": [
    {
     "data": {
      "image/png": "[encoded data removed]",
      "text/latex": [
       "$\\displaystyle \\left[ 1\\right]$"
      ],
      "text/plain": [
       "[1]"
      ]
     },
     "execution_count": 13,
     "metadata": {
      "filenames": {
       "image/png": "C:\\Users\\mabo\\Documents\\python-for-school\\python\\_build\\jupyter_execute\\ligninger_26_0.png"
      }
     },
     "output_type": "execute_result"
    }
   ],
   "source": [
    "solve(x**2-2*x+1, x)"
   ]
  },
  {
   "cell_type": "markdown",
   "metadata": {},
   "source": [
    "Det holder altså også stik.\n",
    "\n",
    "Lad os til sidst forsøge os med ligningen $2x^2-2x+1=0$ som bør give os 0 løsninger."
   ]
  },
  {
   "cell_type": "code",
   "execution_count": 14,
   "metadata": {
    "execution": {
     "iopub.execute_input": "2020-08-11T19:00:05.918181Z",
     "iopub.status.busy": "2020-08-11T19:00:05.916184Z",
     "iopub.status.idle": "2020-08-11T19:00:06.096699Z",
     "shell.execute_reply": "2020-08-11T19:00:06.097697Z"
    }
   },
   "outputs": [
    {
     "data": {
      "image/png": "[encoded data removed]",
      "text/latex": [
       "$\\displaystyle \\left[ \\frac{1}{2} - \\frac{i}{2}, \\  \\frac{1}{2} + \\frac{i}{2}\\right]$"
      ],
      "text/plain": [
       "⎡1   ⅈ  1   ⅈ⎤\n",
       "⎢─ - ─, ─ + ─⎥\n",
       "⎣2   2  2   2⎦"
      ]
     },
     "execution_count": 14,
     "metadata": {
      "filenames": {
       "image/png": "C:\\Users\\mabo\\Documents\\python-for-school\\python\\_build\\jupyter_execute\\ligninger_28_0.png"
      }
     },
     "output_type": "execute_result"
    }
   ],
   "source": [
    "solve(2*x**2-2*x+1, x)"
   ]
  },
  {
   "cell_type": "markdown",
   "metadata": {},
   "source": [
    "Ah, denne løsninger giver os altså noget med nogle komplekse tal. Det skal man lige have i baghovedet. Python kan godt finde ud af at arbejde med komplekse tal. Når man så arbejder på gymnasie niveau, vil der selvfølgelig være nogle tidspunkter, som i andengradsligningen, hvor der egentlig findes en løsning. Men vi vælger at sige at der ingen løsning er, fordi vi endnu ikke har lært at arbejde med komplekse tal.\n",
    "\n",
    "Så vi kan altså sagtens, ved hjælp af `sympy`, arbejde med andengradsligninger. \n",
    "\n",
    "Men lad os nu for sjovs skyld, sige at vi er interesseret i at vide hvordan flowet for udregningen ser ud for et værktøj som `sympy`. Det kan vi nemlig nemt ved bare at lave vores egen funktion til at løse andengradsligningen. Det kunne også være at vi godt kunne tænke os at få skrevet diskriminanten ud i stedet for blot resultatet. \n",
    "\n",
    "Hvis vi skal laves vores egen Python funktion, så er der lige et par basale ting vi skal vide først. For at definere en funktion, skal vi blot skrive `def` efterfulgt af et mellemrum, et funktionsnavn, to parenteser og et kolon. Det kunne f.eks. så sådan her ud `def dette_er_en_funktion()`. Husk at vi stadig ikke kan bruge mellemrum imellem variabel navne i Python og det kan vi altså heller ikke i funktions navne. Derfor bruger jeg underscores. \n",
    "\n",
    "Indenfor de to parenteser kan vi definere det vi kalder for parametre. Det er altså ligesom når vi bruge `solve()` funktionen i `sympy`. Her har vi 2 parametre i og med at vi først indsætter en ligningen eftefulgt af et komma og derefter den variabel vi vil løse med hensyn til. Det samme kan vi gøre for vores egen funktion. De parametre der er vigtig for os at vide for at løse en andengradsligning er, selvfølgelig `a`, `b` og `c`. Så vi kan altså lave en funktion som ser således ud `def andengrads_loser(a, b, c):`. Lad os prøve det i en kode celle."
   ]
  },
  {
   "cell_type": "code",
   "execution_count": 15,
   "metadata": {
    "execution": {
     "iopub.execute_input": "2020-08-11T19:00:06.105675Z",
     "iopub.status.busy": "2020-08-11T19:00:06.104678Z",
     "iopub.status.idle": "2020-08-11T19:00:06.109665Z",
     "shell.execute_reply": "2020-08-11T19:00:06.109665Z"
    }
   },
   "outputs": [],
   "source": [
    "# Definér funktionen\n",
    "def andengrads_loser(a, b, c):\n",
    "    # Alt hvad der er indrykket med 4 mellemrum fortæller Python at det hører til denne funktion\n",
    "    \n",
    "    # Først findes diskriminanten ved den kendte formel\n",
    "    d = b**2 - 4 * a * c\n",
    "    \n",
    "    # Der benyttes et boolsk udtryk til at vurdere om determinaten er større eller mindre end 0\n",
    "    if d < 0:\n",
    "        # Hvis determinanten er mindre end 0\n",
    "        print (\"Der er ingen løsninger til denne ligning\")\n",
    "    else:\n",
    "        # Hvis determinanten er større end 0\n",
    "        x1 = (-b + math.sqrt(d))/(2*a)\n",
    "        x2 = (-b - math.sqrt(d))/(2*a)\n",
    "        \n",
    "        print (\"Diskriminanten er: \" + str(d))\n",
    "        print (\"Den ene løsning er: \" + str(x1))\n",
    "        print (\"Den anden løsning er: \" + str(x2))"
   ]
  },
  {
   "cell_type": "markdown",
   "metadata": {},
   "source": [
    "Jeg er lige blevet nødt til at skrive alt koden på én gang, da man ikke bare kan definere funktioner uden at give nogen form for kode. Men det er også okay. Jeg har skrevet nogle kommentarer ned igennem koden, der gerne skulle gøre det nemmere at følge med i. Vi beregner altså først determinanten ud fra de parametre som er givet ved `a`, `b` og `c` når funktionen bliver kaldt. Herefter benyttes et boolsk udtryk til at finde ud af om determinanten er større eller mindre end 0. Hvis determinanten er mindre end 0, printer vi til brugeren at der ikke findes nogen løsninger. Det vil altså sige at hvis `d < 0` er sand, vil der ikke være nogen løsninger. Hvis den derimod er falsk, vil løsningerne blive udreget og printet til brugeren. \n",
    "\n",
    "Men hvad nu hvis determinanten er præcis $0$? Tja, lige nu vil koden bare finde frem til løsningen og derefter printe den 2 gange. Men vi kan sagtens tage højde for tilfældet blot ved at indsætte et lille stykke boolsk logik mere. Se nedenfor."
   ]
  },
  {
   "cell_type": "code",
   "execution_count": 16,
   "metadata": {
    "execution": {
     "iopub.execute_input": "2020-08-11T19:00:06.119638Z",
     "iopub.status.busy": "2020-08-11T19:00:06.118641Z",
     "iopub.status.idle": "2020-08-11T19:00:06.123628Z",
     "shell.execute_reply": "2020-08-11T19:00:06.123628Z"
    }
   },
   "outputs": [],
   "source": [
    "# Definér funktionen\n",
    "def andengrads_loser(a, b, c):\n",
    "    # Alt hvad der er indrykket med 4 mellemrum fortæller Python at det hører til denne funktion\n",
    "    \n",
    "    # Først findes diskriminanten ved den kendte formel\n",
    "    d = b**2 - 4 * a * c\n",
    "    \n",
    "    # Der benyttes et boolsk udtryk til at vurdere om determinaten er større eller mindre end 0\n",
    "    if d < 0:\n",
    "        # Hvis determinanten er mindre end 0\n",
    "        print (\"Der er ingen løsninger til denne ligning\")\n",
    "    elif d == 0:\n",
    "        x1 = (-b + math.sqrt(d))/(2*a)\n",
    "        \n",
    "        print (\"Diskriminanten er: \" + str(d))\n",
    "        print (\"Den eneste løsning der findes er: \" + str(d))\n",
    "    else:\n",
    "        # Hvis determinanten er større end 0\n",
    "        x1 = (-b + math.sqrt(d))/(2*a)\n",
    "        x2 = (-b - math.sqrt(d))/(2*a)\n",
    "        \n",
    "        print (\"Diskriminanten er: \" + str(d))\n",
    "        print (\"Den ene løsning er: \" + str(x1))\n",
    "        print (\"Den anden løsning er: \" + str(x2))"
   ]
  },
  {
   "cell_type": "markdown",
   "metadata": {},
   "source": [
    "Med disse få ekstra linjer kode, kan vi også tjekke om diskriminanten er lig med $0$ og printe dette ud til brugeren. \n",
    "\n",
    "Lad os teste vores nye funktion med de samme andengradsligninger, vi testede tidligere."
   ]
  },
  {
   "cell_type": "code",
   "execution_count": 17,
   "metadata": {
    "execution": {
     "iopub.execute_input": "2020-08-11T19:00:06.129611Z",
     "iopub.status.busy": "2020-08-11T19:00:06.128617Z",
     "iopub.status.idle": "2020-08-11T19:00:06.134598Z",
     "shell.execute_reply": "2020-08-11T19:00:06.135638Z"
    }
   },
   "outputs": [
    {
     "name": "stdout",
     "output_type": "stream",
     "text": [
      "Diskriminanten er: 4\n",
      "Den ene løsning er: -1.0\n",
      "Den anden løsning er: -2.0\n"
     ]
    }
   ],
   "source": [
    "andengrads_loser(2, 6, 4)"
   ]
  },
  {
   "cell_type": "code",
   "execution_count": 18,
   "metadata": {
    "execution": {
     "iopub.execute_input": "2020-08-11T19:00:06.140584Z",
     "iopub.status.busy": "2020-08-11T19:00:06.139587Z",
     "iopub.status.idle": "2020-08-11T19:00:06.144614Z",
     "shell.execute_reply": "2020-08-11T19:00:06.143576Z"
    }
   },
   "outputs": [
    {
     "name": "stdout",
     "output_type": "stream",
     "text": [
      "Diskriminanten er: 0\n",
      "Den eneste løsning der findes er: 0\n"
     ]
    }
   ],
   "source": [
    "andengrads_loser(1, 2, 1)"
   ]
  },
  {
   "cell_type": "code",
   "execution_count": 19,
   "metadata": {
    "execution": {
     "iopub.execute_input": "2020-08-11T19:00:06.149560Z",
     "iopub.status.busy": "2020-08-11T19:00:06.147564Z",
     "iopub.status.idle": "2020-08-11T19:00:06.152550Z",
     "shell.execute_reply": "2020-08-11T19:00:06.153547Z"
    }
   },
   "outputs": [
    {
     "name": "stdout",
     "output_type": "stream",
     "text": [
      "Der er ingen løsninger til denne ligning\n"
     ]
    }
   ],
   "source": [
    "andengrads_loser(2, -2, 1)"
   ]
  },
  {
   "cell_type": "markdown",
   "metadata": {},
   "source": [
    "Vores andengradsligningsløser fungere altså ganske fint efter hensigten."
   ]
  },
  {
   "cell_type": "markdown",
   "metadata": {},
   "source": [
    "### Simplificering\n",
    "\n",
    "Nogle gange kan der være behov for at simplicere nogle tal. Det kan man gøre med `sympy`. Det vil sige at vi altså tager et stort udtryk og gør det mindre. Det gør vi med `sympy` funktionen `simplify`, så den skal vi selvfølgelig lige have importeret først. "
   ]
  },
  {
   "cell_type": "code",
   "execution_count": 20,
   "metadata": {
    "execution": {
     "iopub.execute_input": "2020-08-11T19:00:06.158534Z",
     "iopub.status.busy": "2020-08-11T19:00:06.157540Z",
     "iopub.status.idle": "2020-08-11T19:00:06.162565Z",
     "shell.execute_reply": "2020-08-11T19:00:06.161526Z"
    }
   },
   "outputs": [],
   "source": [
    "from sympy import simplify, cos, sin"
   ]
  },
  {
   "cell_type": "markdown",
   "metadata": {},
   "source": [
    "Nu kan vi så bruge funktionen til at simplificere et stort eller træls udtryk. Det kan f.eks. være $cos^2(x)+sin^2(x)$, som vi jo allesammen ved er det samme som $1$. Men ved `sympy` også det?"
   ]
  },
  {
   "cell_type": "code",
   "execution_count": 21,
   "metadata": {
    "execution": {
     "iopub.execute_input": "2020-08-11T19:00:06.215383Z",
     "iopub.status.busy": "2020-08-11T19:00:06.205450Z",
     "iopub.status.idle": "2020-08-11T19:00:06.255276Z",
     "shell.execute_reply": "2020-08-11T19:00:06.256318Z"
    }
   },
   "outputs": [
    {
     "data": {
      "image/png": "[encoded data removed]",
      "text/latex": [
       "$\\displaystyle 1$"
      ],
      "text/plain": [
       "1"
      ]
     },
     "execution_count": 21,
     "metadata": {
      "filenames": {
       "image/png": "C:\\Users\\mabo\\Documents\\python-for-school\\python\\_build\\jupyter_execute\\ligninger_41_0.png"
      }
     },
     "output_type": "execute_result"
    }
   ],
   "source": [
    "simplify(cos(x)**2+sin(x)**2)"
   ]
  },
  {
   "cell_type": "markdown",
   "metadata": {},
   "source": [
    "Selvfølgelig ved `sympy` det! Men hvad nu hvis vi har en stor brøk som vi gerne vil have skaleret lidt ned? Vi kan jo prøve med brøken\n",
    "\n",
    "$$\\frac{x^3+x^1-x-1}{x^2+2x+1}$$\n",
    "\n",
    "Den kan simplificeres helt ned til $x-1$ så lad os se om `sympy` kan det."
   ]
  },
  {
   "cell_type": "code",
   "execution_count": 22,
   "metadata": {
    "execution": {
     "iopub.execute_input": "2020-08-11T19:00:06.271233Z",
     "iopub.status.busy": "2020-08-11T19:00:06.259265Z",
     "iopub.status.idle": "2020-08-11T19:00:06.341047Z",
     "shell.execute_reply": "2020-08-11T19:00:06.340049Z"
    }
   },
   "outputs": [
    {
     "data": {
      "image/png": "[encoded data removed]",
      "text/latex": [
       "$\\displaystyle x - 1$"
      ],
      "text/plain": [
       "x - 1"
      ]
     },
     "execution_count": 22,
     "metadata": {
      "filenames": {
       "image/png": "C:\\Users\\mabo\\Documents\\python-for-school\\python\\_build\\jupyter_execute\\ligninger_43_0.png"
      }
     },
     "output_type": "execute_result"
    }
   ],
   "source": [
    "simplify((x**3 + x**2 - x - 1)/(x**2 + 2*x + 1))"
   ]
  },
  {
   "cell_type": "markdown",
   "metadata": {},
   "source": [
    "Ingen problem."
   ]
  },
  {
   "cell_type": "markdown",
   "metadata": {},
   "source": [
    "### Expandering\n",
    "\n",
    "Af mangel på bedre ord, kommer dette afsnit til at hedde ekspandering. Vi kan altså nogle gange have behov for at få udvidet en udtryk der står inden for et par parenteser. Eller vi kan have flere parenteser der skal ganges sammen. Det kan `sympy` selvfølgelig hjælpe med. Vi skal bare bruge funktionen `expand()`. Så den får vi lige importeret."
   ]
  },
  {
   "cell_type": "code",
   "execution_count": 23,
   "metadata": {
    "execution": {
     "iopub.execute_input": "2020-08-11T19:00:06.345036Z",
     "iopub.status.busy": "2020-08-11T19:00:06.345036Z",
     "iopub.status.idle": "2020-08-11T19:00:06.348029Z",
     "shell.execute_reply": "2020-08-11T19:00:06.349027Z"
    }
   },
   "outputs": [],
   "source": [
    "from sympy import expand"
   ]
  },
  {
   "cell_type": "markdown",
   "metadata": {},
   "source": [
    "Så, lad os prøve at se hvordan vi kan udvide et udtryk som $(x-1)^2$."
   ]
  },
  {
   "cell_type": "code",
   "execution_count": 24,
   "metadata": {
    "execution": {
     "iopub.execute_input": "2020-08-11T19:00:06.356006Z",
     "iopub.status.busy": "2020-08-11T19:00:06.355009Z",
     "iopub.status.idle": "2020-08-11T19:00:06.410859Z",
     "shell.execute_reply": "2020-08-11T19:00:06.411901Z"
    }
   },
   "outputs": [
    {
     "data": {
      "image/png": "[encoded data removed]",
      "text/latex": [
       "$\\displaystyle x^{2} - 2 x + 1$"
      ],
      "text/plain": [
       " 2          \n",
       "x  - 2⋅x + 1"
      ]
     },
     "execution_count": 24,
     "metadata": {
      "filenames": {
       "image/png": "C:\\Users\\mabo\\Documents\\python-for-school\\python\\_build\\jupyter_execute\\ligninger_48_0.png"
      }
     },
     "output_type": "execute_result"
    }
   ],
   "source": [
    "expand((x-1)**2)"
   ]
  },
  {
   "cell_type": "markdown",
   "metadata": {},
   "source": [
    "Det giver altså det resultat som vi havde forventet. Hvad så hvis, vi har 2 parenteser der er ganget sammen? Som f.eks. $(x+1)\\cdot (x-1)$"
   ]
  },
  {
   "cell_type": "code",
   "execution_count": 25,
   "metadata": {
    "execution": {
     "iopub.execute_input": "2020-08-11T19:00:06.418845Z",
     "iopub.status.busy": "2020-08-11T19:00:06.418845Z",
     "iopub.status.idle": "2020-08-11T19:00:06.470740Z",
     "shell.execute_reply": "2020-08-11T19:00:06.471736Z"
    }
   },
   "outputs": [
    {
     "data": {
      "image/png": "[encoded data removed]",
      "text/latex": [
       "$\\displaystyle x^{2} - 1$"
      ],
      "text/plain": [
       " 2    \n",
       "x  - 1"
      ]
     },
     "execution_count": 25,
     "metadata": {
      "filenames": {
       "image/png": "C:\\Users\\mabo\\Documents\\python-for-school\\python\\_build\\jupyter_execute\\ligninger_50_0.png"
      }
     },
     "output_type": "execute_result"
    }
   ],
   "source": [
    "expand((x+1)*(x-1))"
   ]
  },
  {
   "cell_type": "markdown",
   "metadata": {},
   "source": [
    "Det er heller ingen problem. Kan vi mon gøre det med flere end 2 parenteser."
   ]
  },
  {
   "cell_type": "code",
   "execution_count": 26,
   "metadata": {
    "execution": {
     "iopub.execute_input": "2020-08-11T19:00:06.482668Z",
     "iopub.status.busy": "2020-08-11T19:00:06.476684Z",
     "iopub.status.idle": "2020-08-11T19:00:06.535568Z",
     "shell.execute_reply": "2020-08-11T19:00:06.535568Z"
    }
   },
   "outputs": [
    {
     "data": {
      "image/png": "[encoded data removed]",
      "text/latex": [
       "$\\displaystyle x^{3} + 2 x^{2} - x - 2$"
      ],
      "text/plain": [
       " 3      2        \n",
       "x  + 2⋅x  - x - 2"
      ]
     },
     "execution_count": 26,
     "metadata": {
      "filenames": {
       "image/png": "C:\\Users\\mabo\\Documents\\python-for-school\\python\\_build\\jupyter_execute\\ligninger_52_0.png"
      }
     },
     "output_type": "execute_result"
    }
   ],
   "source": [
    "expand((x+1)*(x-1)*(x+2))"
   ]
  },
  {
   "cell_type": "markdown",
   "metadata": {},
   "source": [
    "Selvfølgelig."
   ]
  },
  {
   "cell_type": "markdown",
   "metadata": {},
   "source": [
    "### Faktorisering\n",
    "\n",
    "Faktorisering er en af de ting man bliver rigtig glad for at man er god til. Men man kan selvfølgelig altid blive hjulpet lidt på vej af vores yndlingsværktøj, `sympy`. Vi skal blot bruge funktionen `factor`, så vi må hellere lige importere den."
   ]
  },
  {
   "cell_type": "code",
   "execution_count": 27,
   "metadata": {
    "execution": {
     "iopub.execute_input": "2020-08-11T19:00:06.540554Z",
     "iopub.status.busy": "2020-08-11T19:00:06.539517Z",
     "iopub.status.idle": "2020-08-11T19:00:06.543548Z",
     "shell.execute_reply": "2020-08-11T19:00:06.542509Z"
    }
   },
   "outputs": [],
   "source": [
    "from sympy import factor"
   ]
  },
  {
   "cell_type": "markdown",
   "metadata": {},
   "source": [
    "Lad os så prøve at faktorisere et begreb som $x^3-x^2+x-1$."
   ]
  },
  {
   "cell_type": "code",
   "execution_count": 28,
   "metadata": {
    "execution": {
     "iopub.execute_input": "2020-08-11T19:00:06.553478Z",
     "iopub.status.busy": "2020-08-11T19:00:06.552482Z",
     "iopub.status.idle": "2020-08-11T19:00:06.606337Z",
     "shell.execute_reply": "2020-08-11T19:00:06.607334Z"
    }
   },
   "outputs": [
    {
     "data": {
      "image/png": "[encoded data removed]",
      "text/latex": [
       "$\\displaystyle \\left(x - 1\\right) \\left(x^{2} + 1\\right)$"
      ],
      "text/plain": [
       "        ⎛ 2    ⎞\n",
       "(x - 1)⋅⎝x  + 1⎠"
      ]
     },
     "execution_count": 28,
     "metadata": {
      "filenames": {
       "image/png": "C:\\Users\\mabo\\Documents\\python-for-school\\python\\_build\\jupyter_execute\\ligninger_57_0.png"
      }
     },
     "output_type": "execute_result"
    }
   ],
   "source": [
    "factor(x**3-x**2+x-1)"
   ]
  },
  {
   "cell_type": "markdown",
   "metadata": {},
   "source": [
    "Det klarer vi uden problemer. Det virker selvfølgelig også med udtryk der indeholder flere variable. Vi skal bare huske at importere alle vores variable først fra `sympy.abc`. Hvilket betyder, at hvis vi vil faktorisere et udtryk med flere variable, skal de importeres som vi har set tidligere, men ser igen her."
   ]
  },
  {
   "cell_type": "code",
   "execution_count": 29,
   "metadata": {
    "execution": {
     "iopub.execute_input": "2020-08-11T19:00:06.612362Z",
     "iopub.status.busy": "2020-08-11T19:00:06.611323Z",
     "iopub.status.idle": "2020-08-11T19:00:06.614315Z",
     "shell.execute_reply": "2020-08-11T19:00:06.615354Z"
    }
   },
   "outputs": [],
   "source": [
    "from sympy.abc import y, z"
   ]
  },
  {
   "cell_type": "markdown",
   "metadata": {},
   "source": [
    "Nu har vi altså importeret `y` og `z` og kan bruge disse på ligefod med `x`. Lad os prøve at faktorisere et lidt større udtryk med flere variable, såsom $$x^2\\cdot z + 4\\cdot x\\cdot y\\cdot z + 4\\cdot y^2\\cdot z$$"
   ]
  },
  {
   "cell_type": "code",
   "execution_count": 30,
   "metadata": {
    "execution": {
     "iopub.execute_input": "2020-08-11T19:00:06.629276Z",
     "iopub.status.busy": "2020-08-11T19:00:06.628278Z",
     "iopub.status.idle": "2020-08-11T19:00:06.682134Z",
     "shell.execute_reply": "2020-08-11T19:00:06.683176Z"
    }
   },
   "outputs": [
    {
     "data": {
      "image/png": "[encoded data removed]",
      "text/latex": [
       "$\\displaystyle z \\left(x + 2 y\\right)^{2}$"
      ],
      "text/plain": [
       "           2\n",
       "z⋅(x + 2⋅y) "
      ]
     },
     "execution_count": 30,
     "metadata": {
      "filenames": {
       "image/png": "C:\\Users\\mabo\\Documents\\python-for-school\\python\\_build\\jupyter_execute\\ligninger_61_0.png"
      }
     },
     "output_type": "execute_result"
    }
   ],
   "source": [
    "factor(x**2*z + 4*x*y*z + 4*y**2*z)"
   ]
  },
  {
   "cell_type": "markdown",
   "metadata": {},
   "source": [
    "Uden problemer. "
   ]
  }
 ],
 "metadata": {
  "kernelspec": {
   "display_name": "Python 3",
   "language": "python",
   "name": "python3"
  },
  "language_info": {
   "codemirror_mode": {
    "name": "ipython",
    "version": 3
   },
   "file_extension": ".py",
   "mimetype": "text/x-python",
   "name": "python",
   "nbconvert_exporter": "python",
   "pygments_lexer": "ipython3",
   "version": "3.7.2"
  }
 },
 "nbformat": 4,
 "nbformat_minor": 2
}
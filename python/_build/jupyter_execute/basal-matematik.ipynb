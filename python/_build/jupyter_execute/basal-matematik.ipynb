{
 "cells": [
  {
   "cell_type": "markdown",
   "metadata": {},
   "source": [
    "## Basal Matematik"
   ]
  },
  {
   "cell_type": "markdown",
   "metadata": {},
   "source": [
    "Python kan ud af boksen, finde ud af en masse ting selv. Dette inkludere basale matematiske operatorer, såsom addition, substration, multiplikation og division. Dette gøres mere eller mindre, som på en normal lommeregner. Python indbyggede logik gør, at alle matematiske regler er forudindstillede. Derved ved Python f.eks. godt at division og multiplikation kommer før addition og subtraktion."
   ]
  },
  {
   "cell_type": "code",
   "execution_count": 1,
   "metadata": {
    "execution": {
     "iopub.execute_input": "2020-08-11T18:59:45.045664Z",
     "iopub.status.busy": "2020-08-11T18:59:45.043666Z",
     "iopub.status.idle": "2020-08-11T18:59:45.050649Z",
     "shell.execute_reply": "2020-08-11T18:59:45.049653Z"
    }
   },
   "outputs": [
    {
     "data": {
      "text/plain": [
       "6"
      ]
     },
     "execution_count": 1,
     "metadata": {},
     "output_type": "execute_result"
    }
   ],
   "source": [
    "# Addtion\n",
    "3 + 3"
   ]
  },
  {
   "cell_type": "code",
   "execution_count": 2,
   "metadata": {
    "execution": {
     "iopub.execute_input": "2020-08-11T18:59:45.055635Z",
     "iopub.status.busy": "2020-08-11T18:59:45.054637Z",
     "iopub.status.idle": "2020-08-11T18:59:45.060667Z",
     "shell.execute_reply": "2020-08-11T18:59:45.060667Z"
    }
   },
   "outputs": [
    {
     "data": {
      "text/plain": [
       "-1"
      ]
     },
     "execution_count": 2,
     "metadata": {},
     "output_type": "execute_result"
    }
   ],
   "source": [
    "# Subtraktion\n",
    "3 - 4"
   ]
  },
  {
   "cell_type": "code",
   "execution_count": 3,
   "metadata": {
    "execution": {
     "iopub.execute_input": "2020-08-11T18:59:45.066606Z",
     "iopub.status.busy": "2020-08-11T18:59:45.065609Z",
     "iopub.status.idle": "2020-08-11T18:59:45.070638Z",
     "shell.execute_reply": "2020-08-11T18:59:45.069598Z"
    }
   },
   "outputs": [
    {
     "data": {
      "text/plain": [
       "50"
      ]
     },
     "execution_count": 3,
     "metadata": {},
     "output_type": "execute_result"
    }
   ],
   "source": [
    "# Multiplikation\n",
    "5 * 10"
   ]
  },
  {
   "cell_type": "code",
   "execution_count": 4,
   "metadata": {
    "execution": {
     "iopub.execute_input": "2020-08-11T18:59:45.075583Z",
     "iopub.status.busy": "2020-08-11T18:59:45.075583Z",
     "iopub.status.idle": "2020-08-11T18:59:45.080569Z",
     "shell.execute_reply": "2020-08-11T18:59:45.082603Z"
    }
   },
   "outputs": [
    {
     "data": {
      "text/plain": [
       "2.0"
      ]
     },
     "execution_count": 4,
     "metadata": {},
     "output_type": "execute_result"
    }
   ],
   "source": [
    "# Divsion\n",
    "10 / 5"
   ]
  },
  {
   "cell_type": "code",
   "execution_count": 5,
   "metadata": {
    "execution": {
     "iopub.execute_input": "2020-08-11T18:59:45.087549Z",
     "iopub.status.busy": "2020-08-11T18:59:45.086553Z",
     "iopub.status.idle": "2020-08-11T18:59:45.091579Z",
     "shell.execute_reply": "2020-08-11T18:59:45.090541Z"
    }
   },
   "outputs": [
    {
     "data": {
      "text/plain": [
       "2.0166666666666666"
      ]
     },
     "execution_count": 5,
     "metadata": {},
     "output_type": "execute_result"
    }
   ],
   "source": [
    "# Addition og division\n",
    "10 / 6 + 7 / 20"
   ]
  },
  {
   "cell_type": "code",
   "execution_count": 6,
   "metadata": {
    "execution": {
     "iopub.execute_input": "2020-08-11T18:59:45.096526Z",
     "iopub.status.busy": "2020-08-11T18:59:45.095529Z",
     "iopub.status.idle": "2020-08-11T18:59:45.100556Z",
     "shell.execute_reply": "2020-08-11T18:59:45.100556Z"
    }
   },
   "outputs": [
    {
     "data": {
      "text/plain": [
       "1024"
      ]
     },
     "execution_count": 6,
     "metadata": {},
     "output_type": "execute_result"
    }
   ],
   "source": [
    "# Eksponent\n",
    "4**5"
   ]
  },
  {
   "cell_type": "markdown",
   "metadata": {},
   "source": [
    "I Python kan man desuden benytte det der kaldes for sammenlignelses operatorer. Disse vil ikke vise et tal, men en udtalelse om situation er sandt eller falsk. \n",
    "\n",
    "Disse operatorer kan bl.a. være nyttige når der skal laves brøkregning for at tjekke om den ene brøk er større end den anden."
   ]
  },
  {
   "cell_type": "code",
   "execution_count": 7,
   "metadata": {
    "execution": {
     "iopub.execute_input": "2020-08-11T18:59:45.107497Z",
     "iopub.status.busy": "2020-08-11T18:59:45.106498Z",
     "iopub.status.idle": "2020-08-11T18:59:45.110488Z",
     "shell.execute_reply": "2020-08-11T18:59:45.111527Z"
    }
   },
   "outputs": [
    {
     "data": {
      "text/plain": [
       "False"
      ]
     },
     "execution_count": 7,
     "metadata": {},
     "output_type": "execute_result"
    }
   ],
   "source": [
    "# Er 3 større end 4?\n",
    "3 > 4"
   ]
  },
  {
   "cell_type": "code",
   "execution_count": 8,
   "metadata": {
    "execution": {
     "iopub.execute_input": "2020-08-11T18:59:45.116472Z",
     "iopub.status.busy": "2020-08-11T18:59:45.115477Z",
     "iopub.status.idle": "2020-08-11T18:59:45.120505Z",
     "shell.execute_reply": "2020-08-11T18:59:45.119464Z"
    }
   },
   "outputs": [
    {
     "data": {
      "text/plain": [
       "True"
      ]
     },
     "execution_count": 8,
     "metadata": {},
     "output_type": "execute_result"
    }
   ],
   "source": [
    "# Er 2 mindre end 4?\n",
    "2 < 4"
   ]
  },
  {
   "cell_type": "code",
   "execution_count": 9,
   "metadata": {
    "execution": {
     "iopub.execute_input": "2020-08-11T18:59:45.126446Z",
     "iopub.status.busy": "2020-08-11T18:59:45.125448Z",
     "iopub.status.idle": "2020-08-11T18:59:45.129437Z",
     "shell.execute_reply": "2020-08-11T18:59:45.130476Z"
    }
   },
   "outputs": [
    {
     "data": {
      "text/plain": [
       "True"
      ]
     },
     "execution_count": 9,
     "metadata": {},
     "output_type": "execute_result"
    }
   ],
   "source": [
    "# Med brøker\n",
    "2/4 < 7/10"
   ]
  },
  {
   "cell_type": "code",
   "execution_count": 10,
   "metadata": {
    "execution": {
     "iopub.execute_input": "2020-08-11T18:59:45.135421Z",
     "iopub.status.busy": "2020-08-11T18:59:45.134423Z",
     "iopub.status.idle": "2020-08-11T18:59:45.139412Z",
     "shell.execute_reply": "2020-08-11T18:59:45.138412Z"
    }
   },
   "outputs": [
    {
     "data": {
      "text/plain": [
       "True"
      ]
     },
     "execution_count": 10,
     "metadata": {},
     "output_type": "execute_result"
    }
   ],
   "source": [
    "# Er 4 lig med 4?\n",
    "4 == 4"
   ]
  },
  {
   "cell_type": "code",
   "execution_count": 11,
   "metadata": {
    "execution": {
     "iopub.execute_input": "2020-08-11T18:59:45.145396Z",
     "iopub.status.busy": "2020-08-11T18:59:45.144397Z",
     "iopub.status.idle": "2020-08-11T18:59:45.148392Z",
     "shell.execute_reply": "2020-08-11T18:59:45.149385Z"
    }
   },
   "outputs": [
    {
     "data": {
      "text/plain": [
       "False"
      ]
     },
     "execution_count": 11,
     "metadata": {},
     "output_type": "execute_result"
    }
   ],
   "source": [
    "# Er 4 lig med 5?\n",
    "4 == 5"
   ]
  },
  {
   "cell_type": "code",
   "execution_count": 12,
   "metadata": {
    "execution": {
     "iopub.execute_input": "2020-08-11T18:59:45.155410Z",
     "iopub.status.busy": "2020-08-11T18:59:45.154370Z",
     "iopub.status.idle": "2020-08-11T18:59:45.158402Z",
     "shell.execute_reply": "2020-08-11T18:59:45.157404Z"
    }
   },
   "outputs": [
    {
     "data": {
      "text/plain": [
       "True"
      ]
     },
     "execution_count": 12,
     "metadata": {},
     "output_type": "execute_result"
    }
   ],
   "source": [
    "# Er 4 ikke lig med 5?\n",
    "4 != 5"
   ]
  },
  {
   "cell_type": "markdown",
   "metadata": {},
   "source": [
    "Disse er nok mere anvendelige i generel programmering, end de er i matematik. Men ikke desto mindre, er de gode at kende til.\n",
    "\n",
    "## Mere funktionalitet\n",
    "\n",
    "Hvis man har brug for mere \"avancerede\" funktioner, kan man benytte sig af det indbyggede matematik bibliotek i Python. For at benytte dette, skal man importere det. Importering er nemt og man kan enten importere hele eller dele af biblioteket. Importering foregår således:"
   ]
  },
  {
   "cell_type": "code",
   "execution_count": 13,
   "metadata": {
    "execution": {
     "iopub.execute_input": "2020-08-11T18:59:45.163346Z",
     "iopub.status.busy": "2020-08-11T18:59:45.162349Z",
     "iopub.status.idle": "2020-08-11T18:59:45.167380Z",
     "shell.execute_reply": "2020-08-11T18:59:45.166339Z"
    }
   },
   "outputs": [],
   "source": [
    "import math"
   ]
  },
  {
   "cell_type": "markdown",
   "metadata": {},
   "source": [
    "Matematik bibliotekket er nu importeret og det betyder at vi kan bruge dets funktioner. For hver funktion man ønsker at benytte, skal det specificeres at man ønsker at finde den i `math` biblioteket. I dette dokument vil de mest anvendte, men ikke alle, funktioner fra biblioteket blive vist. Hvis man ønsker at se hvad biblioteket ellers kan, skal man kigge i dokumentationen. Denne kan findes her: https://docs.python.org/3.4/library/math.html."
   ]
  },
  {
   "cell_type": "code",
   "execution_count": 14,
   "metadata": {
    "execution": {
     "iopub.execute_input": "2020-08-11T18:59:45.173319Z",
     "iopub.status.busy": "2020-08-11T18:59:45.172323Z",
     "iopub.status.idle": "2020-08-11T18:59:45.177350Z",
     "shell.execute_reply": "2020-08-11T18:59:45.176311Z"
    }
   },
   "outputs": [
    {
     "data": {
      "text/plain": [
       "2.0"
      ]
     },
     "execution_count": 14,
     "metadata": {},
     "output_type": "execute_result"
    }
   ],
   "source": [
    "# Kvadratrod\n",
    "math.sqrt(4)"
   ]
  },
  {
   "cell_type": "code",
   "execution_count": 15,
   "metadata": {
    "execution": {
     "iopub.execute_input": "2020-08-11T18:59:45.182297Z",
     "iopub.status.busy": "2020-08-11T18:59:45.181298Z",
     "iopub.status.idle": "2020-08-11T18:59:45.186328Z",
     "shell.execute_reply": "2020-08-11T18:59:45.186328Z"
    }
   },
   "outputs": [
    {
     "data": {
      "text/plain": [
       "8"
      ]
     },
     "execution_count": 15,
     "metadata": {},
     "output_type": "execute_result"
    }
   ],
   "source": [
    "# Potenser\n",
    "2**3"
   ]
  },
  {
   "cell_type": "code",
   "execution_count": 16,
   "metadata": {
    "execution": {
     "iopub.execute_input": "2020-08-11T18:59:45.192276Z",
     "iopub.status.busy": "2020-08-11T18:59:45.191272Z",
     "iopub.status.idle": "2020-08-11T18:59:45.197302Z",
     "shell.execute_reply": "2020-08-11T18:59:45.196260Z"
    }
   },
   "outputs": [
    {
     "data": {
      "text/plain": [
       "3.141592653589793"
      ]
     },
     "execution_count": 16,
     "metadata": {},
     "output_type": "execute_result"
    }
   ],
   "source": [
    "# pi er indbygget i math\n",
    "math.pi"
   ]
  },
  {
   "cell_type": "code",
   "execution_count": 17,
   "metadata": {
    "execution": {
     "iopub.execute_input": "2020-08-11T18:59:45.202243Z",
     "iopub.status.busy": "2020-08-11T18:59:45.201247Z",
     "iopub.status.idle": "2020-08-11T18:59:45.206233Z",
     "shell.execute_reply": "2020-08-11T18:59:45.205236Z"
    }
   },
   "outputs": [
    {
     "data": {
      "text/plain": [
       "2.718281828459045"
      ]
     },
     "execution_count": 17,
     "metadata": {},
     "output_type": "execute_result"
    }
   ],
   "source": [
    "# e er indbygget i math\n",
    "math.e"
   ]
  },
  {
   "cell_type": "code",
   "execution_count": 18,
   "metadata": {
    "execution": {
     "iopub.execute_input": "2020-08-11T18:59:45.212218Z",
     "iopub.status.busy": "2020-08-11T18:59:45.211222Z",
     "iopub.status.idle": "2020-08-11T18:59:45.217204Z",
     "shell.execute_reply": "2020-08-11T18:59:45.216207Z"
    }
   },
   "outputs": [
    {
     "data": {
      "text/plain": [
       "0.6931471805599453"
      ]
     },
     "execution_count": 18,
     "metadata": {},
     "output_type": "execute_result"
    }
   ],
   "source": [
    "# Naturlig logaritme til basen e \n",
    "math.log(2)"
   ]
  },
  {
   "cell_type": "code",
   "execution_count": 19,
   "metadata": {
    "execution": {
     "iopub.execute_input": "2020-08-11T18:59:45.222191Z",
     "iopub.status.busy": "2020-08-11T18:59:45.221193Z",
     "iopub.status.idle": "2020-08-11T18:59:45.227177Z",
     "shell.execute_reply": "2020-08-11T18:59:45.226180Z"
    }
   },
   "outputs": [
    {
     "data": {
      "text/plain": [
       "0.43067655807339306"
      ]
     },
     "execution_count": 19,
     "metadata": {},
     "output_type": "execute_result"
    }
   ],
   "source": [
    "# Hvis man ønsker en anden base end e, angives den efter den første tal\n",
    "math.log(2, 5)"
   ]
  },
  {
   "cell_type": "code",
   "execution_count": 20,
   "metadata": {
    "execution": {
     "iopub.execute_input": "2020-08-11T18:59:45.233159Z",
     "iopub.status.busy": "2020-08-11T18:59:45.232162Z",
     "iopub.status.idle": "2020-08-11T18:59:45.237192Z",
     "shell.execute_reply": "2020-08-11T18:59:45.236165Z"
    }
   },
   "outputs": [
    {
     "data": {
      "text/plain": [
       "0.3010299956639812"
      ]
     },
     "execution_count": 20,
     "metadata": {},
     "output_type": "execute_result"
    }
   ],
   "source": [
    "# Naturlig logaritme til basen 10, er normalt mere præcis ved at bruge\n",
    "math.log10(2)"
   ]
  },
  {
   "cell_type": "markdown",
   "metadata": {},
   "source": [
    "Dette er de mest basale former for funktioner af matematik i Python. Men man kan selvfølgelig meget mere end det. I de næste kapitler af bogen vil forskellige biblioteker blive benyttet til at løse matematiske opgaver. "
   ]
  }
 ],
 "metadata": {
  "kernelspec": {
   "display_name": "Python 3",
   "language": "python",
   "name": "python3"
  },
  "language_info": {
   "codemirror_mode": {
    "name": "ipython",
    "version": 3
   },
   "file_extension": ".py",
   "mimetype": "text/x-python",
   "name": "python",
   "nbconvert_exporter": "python",
   "pygments_lexer": "ipython3",
   "version": "3.7.2"
  }
 },
 "nbformat": 4,
 "nbformat_minor": 2
}
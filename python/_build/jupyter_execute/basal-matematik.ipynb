{
 "cells": [
  {
   "cell_type": "markdown",
   "metadata": {},
   "source": [
    "## Basal Matematik"
   ]
  },
  {
   "cell_type": "markdown",
   "metadata": {},
   "source": [
    "Python kan ud af boksen, finde ud af en masse ting selv. Dette inkludere basale matematiske operatorer, såsom addition, substration, multiplikation og division. Dette gøres mere eller mindre, som på en normal lommeregner. Python indbyggede logik gør, at alle matematiske regler er forudindstillede. Derved ved Python f.eks. godt at division og multiplikation kommer før addition og subtraktion."
   ]
  },
  {
   "cell_type": "code",
   "execution_count": 1,
   "metadata": {
    "execution": {
     "iopub.execute_input": "2020-08-11T15:52:25.446182Z",
     "iopub.status.busy": "2020-08-11T15:52:25.444186Z",
     "iopub.status.idle": "2020-08-11T15:52:25.449174Z",
     "shell.execute_reply": "2020-08-11T15:52:25.450171Z"
    }
   },
   "outputs": [
    {
     "data": {
      "text/plain": [
       "6"
      ]
     },
     "execution_count": 1,
     "metadata": {},
     "output_type": "execute_result"
    }
   ],
   "source": [
    "# Addtion\n",
    "3 + 3"
   ]
  },
  {
   "cell_type": "code",
   "execution_count": 2,
   "metadata": {
    "execution": {
     "iopub.execute_input": "2020-08-11T15:52:25.455157Z",
     "iopub.status.busy": "2020-08-11T15:52:25.454162Z",
     "iopub.status.idle": "2020-08-11T15:52:25.460145Z",
     "shell.execute_reply": "2020-08-11T15:52:25.460145Z"
    }
   },
   "outputs": [
    {
     "data": {
      "text/plain": [
       "-1"
      ]
     },
     "execution_count": 2,
     "metadata": {},
     "output_type": "execute_result"
    }
   ],
   "source": [
    "# Subtraktion\n",
    "3 - 4"
   ]
  },
  {
   "cell_type": "code",
   "execution_count": 3,
   "metadata": {
    "execution": {
     "iopub.execute_input": "2020-08-11T15:52:25.466128Z",
     "iopub.status.busy": "2020-08-11T15:52:25.465131Z",
     "iopub.status.idle": "2020-08-11T15:52:25.469757Z",
     "shell.execute_reply": "2020-08-11T15:52:25.470756Z"
    }
   },
   "outputs": [
    {
     "data": {
      "text/plain": [
       "50"
      ]
     },
     "execution_count": 3,
     "metadata": {},
     "output_type": "execute_result"
    }
   ],
   "source": [
    "# Multiplikation\n",
    "5 * 10"
   ]
  },
  {
   "cell_type": "code",
   "execution_count": 4,
   "metadata": {
    "execution": {
     "iopub.execute_input": "2020-08-11T15:52:25.476738Z",
     "iopub.status.busy": "2020-08-11T15:52:25.475741Z",
     "iopub.status.idle": "2020-08-11T15:52:25.479730Z",
     "shell.execute_reply": "2020-08-11T15:52:25.480727Z"
    }
   },
   "outputs": [
    {
     "data": {
      "text/plain": [
       "2.0"
      ]
     },
     "execution_count": 4,
     "metadata": {},
     "output_type": "execute_result"
    }
   ],
   "source": [
    "# Divsion\n",
    "10 / 5"
   ]
  },
  {
   "cell_type": "code",
   "execution_count": 5,
   "metadata": {
    "execution": {
     "iopub.execute_input": "2020-08-11T15:52:25.486751Z",
     "iopub.status.busy": "2020-08-11T15:52:25.485714Z",
     "iopub.status.idle": "2020-08-11T15:52:25.489745Z",
     "shell.execute_reply": "2020-08-11T15:52:25.489745Z"
    }
   },
   "outputs": [
    {
     "data": {
      "text/plain": [
       "2.0166666666666666"
      ]
     },
     "execution_count": 5,
     "metadata": {},
     "output_type": "execute_result"
    }
   ],
   "source": [
    "# Addition og division\n",
    "10 / 6 + 7 / 20"
   ]
  },
  {
   "cell_type": "code",
   "execution_count": 6,
   "metadata": {
    "execution": {
     "iopub.execute_input": "2020-08-11T15:52:25.494692Z",
     "iopub.status.busy": "2020-08-11T15:52:25.492698Z",
     "iopub.status.idle": "2020-08-11T15:52:25.500713Z",
     "shell.execute_reply": "2020-08-11T15:52:25.499678Z"
    }
   },
   "outputs": [
    {
     "data": {
      "text/plain": [
       "1024"
      ]
     },
     "execution_count": 6,
     "metadata": {},
     "output_type": "execute_result"
    }
   ],
   "source": [
    "# Eksponent\n",
    "4**5"
   ]
  },
  {
   "cell_type": "markdown",
   "metadata": {},
   "source": [
    "I Python kan man desuden benytte det der kaldes for sammenlignelses operatorer. Disse vil ikke vise et tal, men en udtalelse om situation er sandt eller falsk. \n",
    "\n",
    "Disse operatorer kan bl.a. være nyttige når der skal laves brøkregning for at tjekke om den ene brøk er større end den anden."
   ]
  },
  {
   "cell_type": "code",
   "execution_count": 7,
   "metadata": {
    "execution": {
     "iopub.execute_input": "2020-08-11T15:52:25.506659Z",
     "iopub.status.busy": "2020-08-11T15:52:25.505660Z",
     "iopub.status.idle": "2020-08-11T15:52:25.510649Z",
     "shell.execute_reply": "2020-08-11T15:52:25.510649Z"
    }
   },
   "outputs": [
    {
     "data": {
      "text/plain": [
       "False"
      ]
     },
     "execution_count": 7,
     "metadata": {},
     "output_type": "execute_result"
    }
   ],
   "source": [
    "# Er 3 større end 4?\n",
    "3 > 4"
   ]
  },
  {
   "cell_type": "code",
   "execution_count": 8,
   "metadata": {
    "execution": {
     "iopub.execute_input": "2020-08-11T15:52:25.515634Z",
     "iopub.status.busy": "2020-08-11T15:52:25.514637Z",
     "iopub.status.idle": "2020-08-11T15:52:25.518627Z",
     "shell.execute_reply": "2020-08-11T15:52:25.519665Z"
    }
   },
   "outputs": [
    {
     "data": {
      "text/plain": [
       "True"
      ]
     },
     "execution_count": 8,
     "metadata": {},
     "output_type": "execute_result"
    }
   ],
   "source": [
    "# Er 2 mindre end 4?\n",
    "2 < 4"
   ]
  },
  {
   "cell_type": "code",
   "execution_count": 9,
   "metadata": {
    "execution": {
     "iopub.execute_input": "2020-08-11T15:52:25.526605Z",
     "iopub.status.busy": "2020-08-11T15:52:25.525609Z",
     "iopub.status.idle": "2020-08-11T15:52:25.530594Z",
     "shell.execute_reply": "2020-08-11T15:52:25.529598Z"
    }
   },
   "outputs": [
    {
     "data": {
      "text/plain": [
       "True"
      ]
     },
     "execution_count": 9,
     "metadata": {},
     "output_type": "execute_result"
    }
   ],
   "source": [
    "# Med brøker\n",
    "2/4 < 7/10"
   ]
  },
  {
   "cell_type": "code",
   "execution_count": 10,
   "metadata": {
    "execution": {
     "iopub.execute_input": "2020-08-11T15:52:25.535581Z",
     "iopub.status.busy": "2020-08-11T15:52:25.534583Z",
     "iopub.status.idle": "2020-08-11T15:52:25.539610Z",
     "shell.execute_reply": "2020-08-11T15:52:25.540568Z"
    }
   },
   "outputs": [
    {
     "data": {
      "text/plain": [
       "True"
      ]
     },
     "execution_count": 10,
     "metadata": {},
     "output_type": "execute_result"
    }
   ],
   "source": [
    "# Er 4 lig med 4?\n",
    "4 == 4"
   ]
  },
  {
   "cell_type": "code",
   "execution_count": 11,
   "metadata": {
    "execution": {
     "iopub.execute_input": "2020-08-11T15:52:25.545554Z",
     "iopub.status.busy": "2020-08-11T15:52:25.544556Z",
     "iopub.status.idle": "2020-08-11T15:52:25.549584Z",
     "shell.execute_reply": "2020-08-11T15:52:25.548548Z"
    }
   },
   "outputs": [
    {
     "data": {
      "text/plain": [
       "False"
      ]
     },
     "execution_count": 11,
     "metadata": {},
     "output_type": "execute_result"
    }
   ],
   "source": [
    "# Er 4 lig med 5?\n",
    "4 == 5"
   ]
  },
  {
   "cell_type": "code",
   "execution_count": 12,
   "metadata": {
    "execution": {
     "iopub.execute_input": "2020-08-11T15:52:25.554529Z",
     "iopub.status.busy": "2020-08-11T15:52:25.553534Z",
     "iopub.status.idle": "2020-08-11T15:52:25.558520Z",
     "shell.execute_reply": "2020-08-11T15:52:25.558520Z"
    }
   },
   "outputs": [
    {
     "data": {
      "text/plain": [
       "True"
      ]
     },
     "execution_count": 12,
     "metadata": {},
     "output_type": "execute_result"
    }
   ],
   "source": [
    "# Er 4 ikke lig med 5?\n",
    "4 != 5"
   ]
  },
  {
   "cell_type": "markdown",
   "metadata": {},
   "source": [
    "Disse er nok mere anvendelige i generel programmering, end de er i matematik. Men ikke desto mindre, er de gode at kende til.\n",
    "\n",
    "## Mere funktionalitet\n",
    "\n",
    "Hvis man har brug for mere \"avancerede\" funktioner, kan man benytte sig af det indbyggede matematik bibliotek i Python. For at benytte dette, skal man importere det. Importering er nemt og man kan enten importere hele eller dele af biblioteket. Importering foregår således:"
   ]
  },
  {
   "cell_type": "code",
   "execution_count": 13,
   "metadata": {
    "execution": {
     "iopub.execute_input": "2020-08-11T15:52:25.563546Z",
     "iopub.status.busy": "2020-08-11T15:52:25.562510Z",
     "iopub.status.idle": "2020-08-11T15:52:25.565502Z",
     "shell.execute_reply": "2020-08-11T15:52:25.566537Z"
    }
   },
   "outputs": [],
   "source": [
    "import math"
   ]
  },
  {
   "cell_type": "markdown",
   "metadata": {},
   "source": [
    "Matematik bibliotekket er nu importeret og det betyder at vi kan bruge dets funktioner. For hver funktion man ønsker at benytte, skal det specificeres at man ønsker at finde den i `math` biblioteket. I dette dokument vil de mest anvendte, men ikke alle, funktioner fra biblioteket blive vist. Hvis man ønsker at se hvad biblioteket ellers kan, skal man kigge i dokumentationen. Denne kan findes her: https://docs.python.org/3.4/library/math.html."
   ]
  },
  {
   "cell_type": "code",
   "execution_count": 14,
   "metadata": {
    "execution": {
     "iopub.execute_input": "2020-08-11T15:52:25.572482Z",
     "iopub.status.busy": "2020-08-11T15:52:25.571485Z",
     "iopub.status.idle": "2020-08-11T15:52:25.576472Z",
     "shell.execute_reply": "2020-08-11T15:52:25.575474Z"
    }
   },
   "outputs": [
    {
     "data": {
      "text/plain": [
       "2.0"
      ]
     },
     "execution_count": 14,
     "metadata": {},
     "output_type": "execute_result"
    }
   ],
   "source": [
    "# Kvadratrod\n",
    "math.sqrt(4)"
   ]
  },
  {
   "cell_type": "code",
   "execution_count": 15,
   "metadata": {
    "execution": {
     "iopub.execute_input": "2020-08-11T15:52:25.581458Z",
     "iopub.status.busy": "2020-08-11T15:52:25.579463Z",
     "iopub.status.idle": "2020-08-11T15:52:25.587482Z",
     "shell.execute_reply": "2020-08-11T15:52:25.588478Z"
    }
   },
   "outputs": [
    {
     "data": {
      "text/plain": [
       "8"
      ]
     },
     "execution_count": 15,
     "metadata": {},
     "output_type": "execute_result"
    }
   ],
   "source": [
    "# Potenser\n",
    "2**3"
   ]
  },
  {
   "cell_type": "code",
   "execution_count": 16,
   "metadata": {
    "execution": {
     "iopub.execute_input": "2020-08-11T15:52:25.593426Z",
     "iopub.status.busy": "2020-08-11T15:52:25.592429Z",
     "iopub.status.idle": "2020-08-11T15:52:25.596419Z",
     "shell.execute_reply": "2020-08-11T15:52:25.597415Z"
    }
   },
   "outputs": [
    {
     "data": {
      "text/plain": [
       "3.141592653589793"
      ]
     },
     "execution_count": 16,
     "metadata": {},
     "output_type": "execute_result"
    }
   ],
   "source": [
    "# pi er indbygget i math\n",
    "math.pi"
   ]
  },
  {
   "cell_type": "code",
   "execution_count": 17,
   "metadata": {
    "execution": {
     "iopub.execute_input": "2020-08-11T15:52:25.602402Z",
     "iopub.status.busy": "2020-08-11T15:52:25.601406Z",
     "iopub.status.idle": "2020-08-11T15:52:25.605397Z",
     "shell.execute_reply": "2020-08-11T15:52:25.606431Z"
    }
   },
   "outputs": [
    {
     "data": {
      "text/plain": [
       "2.718281828459045"
      ]
     },
     "execution_count": 17,
     "metadata": {},
     "output_type": "execute_result"
    }
   ],
   "source": [
    "# e er indbygget i math\n",
    "math.e"
   ]
  },
  {
   "cell_type": "code",
   "execution_count": 18,
   "metadata": {
    "execution": {
     "iopub.execute_input": "2020-08-11T15:52:25.612380Z",
     "iopub.status.busy": "2020-08-11T15:52:25.611381Z",
     "iopub.status.idle": "2020-08-11T15:52:25.616364Z",
     "shell.execute_reply": "2020-08-11T15:52:25.617401Z"
    }
   },
   "outputs": [
    {
     "data": {
      "text/plain": [
       "0.6931471805599453"
      ]
     },
     "execution_count": 18,
     "metadata": {},
     "output_type": "execute_result"
    }
   ],
   "source": [
    "# Naturlig logaritme til basen e \n",
    "math.log(2)"
   ]
  },
  {
   "cell_type": "code",
   "execution_count": 19,
   "metadata": {
    "execution": {
     "iopub.execute_input": "2020-08-11T15:52:25.624345Z",
     "iopub.status.busy": "2020-08-11T15:52:25.623347Z",
     "iopub.status.idle": "2020-08-11T15:52:25.627337Z",
     "shell.execute_reply": "2020-08-11T15:52:25.628373Z"
    }
   },
   "outputs": [
    {
     "data": {
      "text/plain": [
       "0.43067655807339306"
      ]
     },
     "execution_count": 19,
     "metadata": {},
     "output_type": "execute_result"
    }
   ],
   "source": [
    "# Hvis man ønsker en anden base end e, angives den efter den første tal\n",
    "math.log(2, 5)"
   ]
  },
  {
   "cell_type": "code",
   "execution_count": 20,
   "metadata": {
    "execution": {
     "iopub.execute_input": "2020-08-11T15:52:25.633320Z",
     "iopub.status.busy": "2020-08-11T15:52:25.632323Z",
     "iopub.status.idle": "2020-08-11T15:52:25.637351Z",
     "shell.execute_reply": "2020-08-11T15:52:25.636311Z"
    }
   },
   "outputs": [
    {
     "data": {
      "text/plain": [
       "0.3010299956639812"
      ]
     },
     "execution_count": 20,
     "metadata": {},
     "output_type": "execute_result"
    }
   ],
   "source": [
    "# Naturlig logaritme til basen 10, er normalt mere præcis ved at bruge\n",
    "math.log10(2)"
   ]
  },
  {
   "cell_type": "markdown",
   "metadata": {},
   "source": [
    "Dette er de mest basale former for funktioner af matematik i Python. Men man kan selvfølgelig meget mere end det. I de næste kapitler af bogen vil forskellige biblioteker blive benyttet til at løse matematiske opgaver. "
   ]
  }
 ],
 "metadata": {
  "kernelspec": {
   "display_name": "Python 3",
   "language": "python",
   "name": "python3"
  },
  "language_info": {
   "codemirror_mode": {
    "name": "ipython",
    "version": 3
   },
   "file_extension": ".py",
   "mimetype": "text/x-python",
   "name": "python",
   "nbconvert_exporter": "python",
   "pygments_lexer": "ipython3",
   "version": "3.7.2"
  }
 },
 "nbformat": 4,
 "nbformat_minor": 2
}
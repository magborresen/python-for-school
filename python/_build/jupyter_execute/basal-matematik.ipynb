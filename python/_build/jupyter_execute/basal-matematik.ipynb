{
 "cells": [
  {
   "cell_type": "markdown",
   "metadata": {},
   "source": [
    "## Basal Matematik"
   ]
  },
  {
   "cell_type": "markdown",
   "metadata": {},
   "source": [
    "Python kan ud af boksen, finde ud af en masse ting selv. Dette inkludere basale matematiske operatorer, såsom addition, substration, multiplikation og division. Dette gøres mere eller mindre, som på en normal lommeregner. Python indbyggede logik gør, at alle matematiske regler er forudindstillede. Derved ved Python f.eks. godt at division og multiplikation kommer før addition og subtraktion."
   ]
  },
  {
   "cell_type": "code",
   "execution_count": 1,
   "metadata": {
    "execution": {
     "iopub.execute_input": "2020-08-22T20:20:49.078664Z",
     "iopub.status.busy": "2020-08-22T20:20:49.076671Z",
     "iopub.status.idle": "2020-08-22T20:20:49.090728Z",
     "shell.execute_reply": "2020-08-22T20:20:49.093720Z"
    }
   },
   "outputs": [
    {
     "data": {
      "text/plain": [
       "6"
      ]
     },
     "execution_count": 1,
     "metadata": {},
     "output_type": "execute_result"
    }
   ],
   "source": [
    "# Addtion\n",
    "3 + 3"
   ]
  },
  {
   "cell_type": "code",
   "execution_count": 2,
   "metadata": {
    "execution": {
     "iopub.execute_input": "2020-08-22T20:20:49.108336Z",
     "iopub.status.busy": "2020-08-22T20:20:49.104009Z",
     "iopub.status.idle": "2020-08-22T20:20:49.113313Z",
     "shell.execute_reply": "2020-08-22T20:20:49.115308Z"
    }
   },
   "outputs": [
    {
     "data": {
      "text/plain": [
       "-1"
      ]
     },
     "execution_count": 2,
     "metadata": {},
     "output_type": "execute_result"
    }
   ],
   "source": [
    "# Subtraktion\n",
    "3 - 4"
   ]
  },
  {
   "cell_type": "code",
   "execution_count": 3,
   "metadata": {
    "execution": {
     "iopub.execute_input": "2020-08-22T20:20:49.128819Z",
     "iopub.status.busy": "2020-08-22T20:20:49.126894Z",
     "iopub.status.idle": "2020-08-22T20:20:49.137080Z",
     "shell.execute_reply": "2020-08-22T20:20:49.138077Z"
    }
   },
   "outputs": [
    {
     "data": {
      "text/plain": [
       "50"
      ]
     },
     "execution_count": 3,
     "metadata": {},
     "output_type": "execute_result"
    }
   ],
   "source": [
    "# Multiplikation\n",
    "5 * 10"
   ]
  },
  {
   "cell_type": "code",
   "execution_count": 4,
   "metadata": {
    "execution": {
     "iopub.execute_input": "2020-08-22T20:20:49.153723Z",
     "iopub.status.busy": "2020-08-22T20:20:49.151728Z",
     "iopub.status.idle": "2020-08-22T20:20:49.166068Z",
     "shell.execute_reply": "2020-08-22T20:20:49.163525Z"
    }
   },
   "outputs": [
    {
     "data": {
      "text/plain": [
       "2.0"
      ]
     },
     "execution_count": 4,
     "metadata": {},
     "output_type": "execute_result"
    }
   ],
   "source": [
    "# Divsion\n",
    "10 / 5"
   ]
  },
  {
   "cell_type": "code",
   "execution_count": 5,
   "metadata": {
    "execution": {
     "iopub.execute_input": "2020-08-22T20:20:49.180031Z",
     "iopub.status.busy": "2020-08-22T20:20:49.177928Z",
     "iopub.status.idle": "2020-08-22T20:20:49.186101Z",
     "shell.execute_reply": "2020-08-22T20:20:49.186101Z"
    }
   },
   "outputs": [
    {
     "data": {
      "text/plain": [
       "2.0166666666666666"
      ]
     },
     "execution_count": 5,
     "metadata": {},
     "output_type": "execute_result"
    }
   ],
   "source": [
    "# Addition og division\n",
    "10 / 6 + 7 / 20"
   ]
  },
  {
   "cell_type": "code",
   "execution_count": 6,
   "metadata": {
    "execution": {
     "iopub.execute_input": "2020-08-22T20:20:49.202787Z",
     "iopub.status.busy": "2020-08-22T20:20:49.200795Z",
     "iopub.status.idle": "2020-08-22T20:20:49.213394Z",
     "shell.execute_reply": "2020-08-22T20:20:49.216429Z"
    }
   },
   "outputs": [
    {
     "data": {
      "text/plain": [
       "1024"
      ]
     },
     "execution_count": 6,
     "metadata": {},
     "output_type": "execute_result"
    }
   ],
   "source": [
    "# Eksponent\n",
    "4**5"
   ]
  },
  {
   "cell_type": "markdown",
   "metadata": {},
   "source": [
    "I Python kan man desuden benytte det der kaldes for sammenlignelses operatorer. Disse vil ikke vise et tal, men en udtalelse om situation er sandt eller falsk. \n",
    "\n",
    "Disse operatorer kan bl.a. være nyttige når der skal laves brøkregning for at tjekke om den ene brøk er større end den anden."
   ]
  },
  {
   "cell_type": "code",
   "execution_count": 7,
   "metadata": {
    "execution": {
     "iopub.execute_input": "2020-08-22T20:20:49.229954Z",
     "iopub.status.busy": "2020-08-22T20:20:49.227225Z",
     "iopub.status.idle": "2020-08-22T20:20:49.243128Z",
     "shell.execute_reply": "2020-08-22T20:20:49.245127Z"
    }
   },
   "outputs": [
    {
     "data": {
      "text/plain": [
       "False"
      ]
     },
     "execution_count": 7,
     "metadata": {},
     "output_type": "execute_result"
    }
   ],
   "source": [
    "# Er 3 større end 4?\n",
    "3 > 4"
   ]
  },
  {
   "cell_type": "code",
   "execution_count": 8,
   "metadata": {
    "execution": {
     "iopub.execute_input": "2020-08-22T20:20:49.256035Z",
     "iopub.status.busy": "2020-08-22T20:20:49.253580Z",
     "iopub.status.idle": "2020-08-22T20:20:49.263575Z",
     "shell.execute_reply": "2020-08-22T20:20:49.264572Z"
    }
   },
   "outputs": [
    {
     "data": {
      "text/plain": [
       "True"
      ]
     },
     "execution_count": 8,
     "metadata": {},
     "output_type": "execute_result"
    }
   ],
   "source": [
    "# Er 2 mindre end 4?\n",
    "2 < 4"
   ]
  },
  {
   "cell_type": "code",
   "execution_count": 9,
   "metadata": {
    "execution": {
     "iopub.execute_input": "2020-08-22T20:20:49.276192Z",
     "iopub.status.busy": "2020-08-22T20:20:49.272876Z",
     "iopub.status.idle": "2020-08-22T20:20:49.285646Z",
     "shell.execute_reply": "2020-08-22T20:20:49.286684Z"
    }
   },
   "outputs": [
    {
     "data": {
      "text/plain": [
       "True"
      ]
     },
     "execution_count": 9,
     "metadata": {},
     "output_type": "execute_result"
    }
   ],
   "source": [
    "# Med brøker\n",
    "2/4 < 7/10"
   ]
  },
  {
   "cell_type": "code",
   "execution_count": 10,
   "metadata": {
    "execution": {
     "iopub.execute_input": "2020-08-22T20:20:49.300844Z",
     "iopub.status.busy": "2020-08-22T20:20:49.297852Z",
     "iopub.status.idle": "2020-08-22T20:20:49.310465Z",
     "shell.execute_reply": "2020-08-22T20:20:49.312773Z"
    }
   },
   "outputs": [
    {
     "data": {
      "text/plain": [
       "True"
      ]
     },
     "execution_count": 10,
     "metadata": {},
     "output_type": "execute_result"
    }
   ],
   "source": [
    "# Er 4 lig med 4?\n",
    "4 == 4"
   ]
  },
  {
   "cell_type": "code",
   "execution_count": 11,
   "metadata": {
    "execution": {
     "iopub.execute_input": "2020-08-22T20:20:49.324560Z",
     "iopub.status.busy": "2020-08-22T20:20:49.321651Z",
     "iopub.status.idle": "2020-08-22T20:20:49.329787Z",
     "shell.execute_reply": "2020-08-22T20:20:49.330785Z"
    }
   },
   "outputs": [
    {
     "data": {
      "text/plain": [
       "False"
      ]
     },
     "execution_count": 11,
     "metadata": {},
     "output_type": "execute_result"
    }
   ],
   "source": [
    "# Er 4 lig med 5?\n",
    "4 == 5"
   ]
  },
  {
   "cell_type": "code",
   "execution_count": 12,
   "metadata": {
    "execution": {
     "iopub.execute_input": "2020-08-22T20:20:49.342875Z",
     "iopub.status.busy": "2020-08-22T20:20:49.338387Z",
     "iopub.status.idle": "2020-08-22T20:20:49.349937Z",
     "shell.execute_reply": "2020-08-22T20:20:49.349937Z"
    }
   },
   "outputs": [
    {
     "data": {
      "text/plain": [
       "True"
      ]
     },
     "execution_count": 12,
     "metadata": {},
     "output_type": "execute_result"
    }
   ],
   "source": [
    "# Er 4 ikke lig med 5?\n",
    "4 != 5"
   ]
  },
  {
   "cell_type": "markdown",
   "metadata": {},
   "source": [
    "Disse er nok mere anvendelige i generel programmering, end de er i matematik. Men ikke desto mindre, er de gode at kende til.\n",
    "\n",
    "## Mere funktionalitet\n",
    "\n",
    "Hvis man har brug for mere \"avancerede\" funktioner, kan man benytte sig af det indbyggede matematik bibliotek i Python. For at benytte dette, skal man importere det. Importering er nemt og man kan enten importere hele eller dele af biblioteket. Importering foregår således:"
   ]
  },
  {
   "cell_type": "code",
   "execution_count": 13,
   "metadata": {
    "execution": {
     "iopub.execute_input": "2020-08-22T20:20:49.363375Z",
     "iopub.status.busy": "2020-08-22T20:20:49.361625Z",
     "iopub.status.idle": "2020-08-22T20:20:49.365230Z",
     "shell.execute_reply": "2020-08-22T20:20:49.366218Z"
    }
   },
   "outputs": [],
   "source": [
    "import math"
   ]
  },
  {
   "cell_type": "markdown",
   "metadata": {},
   "source": [
    "Matematik bibliotekket er nu importeret og det betyder at vi kan bruge dets funktioner. For hver funktion man ønsker at benytte, skal det specificeres at man ønsker at finde den i `math` biblioteket. I dette dokument vil de mest anvendte, men ikke alle, funktioner fra biblioteket blive vist. Hvis man ønsker at se hvad biblioteket ellers kan, skal man kigge i dokumentationen. Denne kan findes her: https://docs.python.org/3.4/library/math.html."
   ]
  },
  {
   "cell_type": "code",
   "execution_count": 14,
   "metadata": {
    "execution": {
     "iopub.execute_input": "2020-08-22T20:20:49.380644Z",
     "iopub.status.busy": "2020-08-22T20:20:49.377193Z",
     "iopub.status.idle": "2020-08-22T20:20:49.385312Z",
     "shell.execute_reply": "2020-08-22T20:20:49.386732Z"
    }
   },
   "outputs": [
    {
     "data": {
      "text/plain": [
       "2.0"
      ]
     },
     "execution_count": 14,
     "metadata": {},
     "output_type": "execute_result"
    }
   ],
   "source": [
    "# Kvadratrod\n",
    "math.sqrt(4)"
   ]
  },
  {
   "cell_type": "code",
   "execution_count": 15,
   "metadata": {
    "execution": {
     "iopub.execute_input": "2020-08-22T20:20:49.400368Z",
     "iopub.status.busy": "2020-08-22T20:20:49.399370Z",
     "iopub.status.idle": "2020-08-22T20:20:49.412897Z",
     "shell.execute_reply": "2020-08-22T20:20:49.410931Z"
    }
   },
   "outputs": [
    {
     "data": {
      "text/plain": [
       "8"
      ]
     },
     "execution_count": 15,
     "metadata": {},
     "output_type": "execute_result"
    }
   ],
   "source": [
    "# Potenser\n",
    "2**3"
   ]
  },
  {
   "cell_type": "code",
   "execution_count": 16,
   "metadata": {
    "execution": {
     "iopub.execute_input": "2020-08-22T20:20:49.426887Z",
     "iopub.status.busy": "2020-08-22T20:20:49.424985Z",
     "iopub.status.idle": "2020-08-22T20:20:49.437060Z",
     "shell.execute_reply": "2020-08-22T20:20:49.437060Z"
    }
   },
   "outputs": [
    {
     "data": {
      "text/plain": [
       "3.141592653589793"
      ]
     },
     "execution_count": 16,
     "metadata": {},
     "output_type": "execute_result"
    }
   ],
   "source": [
    "# pi er indbygget i math\n",
    "math.pi"
   ]
  },
  {
   "cell_type": "code",
   "execution_count": 17,
   "metadata": {
    "execution": {
     "iopub.execute_input": "2020-08-22T20:20:49.450806Z",
     "iopub.status.busy": "2020-08-22T20:20:49.448560Z",
     "iopub.status.idle": "2020-08-22T20:20:49.468688Z",
     "shell.execute_reply": "2020-08-22T20:20:49.469684Z"
    }
   },
   "outputs": [
    {
     "data": {
      "text/plain": [
       "2.718281828459045"
      ]
     },
     "execution_count": 17,
     "metadata": {},
     "output_type": "execute_result"
    }
   ],
   "source": [
    "# e er indbygget i math\n",
    "math.e"
   ]
  },
  {
   "cell_type": "code",
   "execution_count": 18,
   "metadata": {
    "execution": {
     "iopub.execute_input": "2020-08-22T20:20:49.486277Z",
     "iopub.status.busy": "2020-08-22T20:20:49.483787Z",
     "iopub.status.idle": "2020-08-22T20:20:49.498814Z",
     "shell.execute_reply": "2020-08-22T20:20:49.501704Z"
    }
   },
   "outputs": [
    {
     "data": {
      "text/plain": [
       "0.6931471805599453"
      ]
     },
     "execution_count": 18,
     "metadata": {},
     "output_type": "execute_result"
    }
   ],
   "source": [
    "# Naturlig logaritme til basen e \n",
    "math.log(2)"
   ]
  },
  {
   "cell_type": "code",
   "execution_count": 19,
   "metadata": {
    "execution": {
     "iopub.execute_input": "2020-08-22T20:20:49.516618Z",
     "iopub.status.busy": "2020-08-22T20:20:49.514628Z",
     "iopub.status.idle": "2020-08-22T20:20:49.545940Z",
     "shell.execute_reply": "2020-08-22T20:20:49.547630Z"
    }
   },
   "outputs": [
    {
     "data": {
      "text/plain": [
       "0.43067655807339306"
      ]
     },
     "execution_count": 19,
     "metadata": {},
     "output_type": "execute_result"
    }
   ],
   "source": [
    "# Hvis man ønsker en anden base end e, angives den efter den første tal\n",
    "math.log(2, 5)"
   ]
  },
  {
   "cell_type": "code",
   "execution_count": 20,
   "metadata": {
    "execution": {
     "iopub.execute_input": "2020-08-22T20:20:49.562238Z",
     "iopub.status.busy": "2020-08-22T20:20:49.554248Z",
     "iopub.status.idle": "2020-08-22T20:20:49.569975Z",
     "shell.execute_reply": "2020-08-22T20:20:49.574854Z"
    }
   },
   "outputs": [
    {
     "data": {
      "text/plain": [
       "0.3010299956639812"
      ]
     },
     "execution_count": 20,
     "metadata": {},
     "output_type": "execute_result"
    }
   ],
   "source": [
    "# Naturlig logaritme til basen 10, er normalt mere præcis ved at bruge\n",
    "math.log10(2)"
   ]
  },
  {
   "cell_type": "markdown",
   "metadata": {},
   "source": [
    "Dette er de mest basale former for funktioner af matematik i Python. Men man kan selvfølgelig meget mere end det. I de næste kapitler af bogen vil forskellige biblioteker blive benyttet til at løse matematiske opgaver. "
   ]
  }
 ],
 "metadata": {
  "kernelspec": {
   "display_name": "Python 3",
   "language": "python",
   "name": "python3"
  },
  "language_info": {
   "codemirror_mode": {
    "name": "ipython",
    "version": 3
   },
   "file_extension": ".py",
   "mimetype": "text/x-python",
   "name": "python",
   "nbconvert_exporter": "python",
   "pygments_lexer": "ipython3",
   "version": "3.7.2"
  }
 },
 "nbformat": 4,
 "nbformat_minor": 2
}
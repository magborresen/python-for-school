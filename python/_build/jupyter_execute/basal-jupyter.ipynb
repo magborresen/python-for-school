{
 "cells": [
  {
   "cell_type": "markdown",
   "metadata": {},
   "source": [
    "# Hvad er Jupyter Notebooks?"
   ]
  },
  {
   "cell_type": "markdown",
   "metadata": {},
   "source": []
  },
  {
   "cell_type": "markdown",
   "metadata": {},
   "source": [
    "Jupyter Notebooks er ved denne bog er skrevet i. Det er web baseret platform, der gør det muligt at skrive Python scripts. Jupyter Notebooks fungere som et celle baseret værktøj. Det betyder, at man i én notebook, faktisk kan skrive så mange scripts som man har lyst til. Dette gøres blot i individuelle celler. Hvis scriptet har et output, vil det blot blive vist under den pågældende celle. \n",
    "\n",
    "Vi kan bruge dette til at lave matematiske udregninger, f.eks. kan du nedenfor se en celle hvor jeg har benyttet en matematisk operator til at lægge to tal sammen. Dette er markeret i højre side som __In__, hvortil nedenunder vil der være markeret et output som __Out__"
   ]
  },
  {
   "cell_type": "code",
   "execution_count": 1,
   "metadata": {
    "execution": {
     "iopub.execute_input": "2020-08-22T20:20:43.878385Z",
     "iopub.status.busy": "2020-08-22T20:20:43.854094Z",
     "iopub.status.idle": "2020-08-22T20:20:44.014297Z",
     "shell.execute_reply": "2020-08-22T20:20:44.019553Z"
    }
   },
   "outputs": [
    {
     "data": {
      "text/plain": [
       "4"
      ]
     },
     "execution_count": 1,
     "metadata": {},
     "output_type": "execute_result"
    }
   ],
   "source": [
    "2 + 2"
   ]
  },
  {
   "cell_type": "markdown",
   "metadata": {},
   "source": [
    "Det vigtige er her, at Jupyter Notebooks fungere på den måde at hvis der er flere operationer som giver et output, så vil det kune være outputtet af den sidste operation som bliver vist. Se eksemplet nedenfor."
   ]
  },
  {
   "cell_type": "code",
   "execution_count": 2,
   "metadata": {
    "execution": {
     "iopub.execute_input": "2020-08-22T20:20:44.050485Z",
     "iopub.status.busy": "2020-08-22T20:20:44.031643Z",
     "iopub.status.idle": "2020-08-22T20:20:44.085970Z",
     "shell.execute_reply": "2020-08-22T20:20:44.087337Z"
    }
   },
   "outputs": [
    {
     "data": {
      "text/plain": [
       "7"
      ]
     },
     "execution_count": 2,
     "metadata": {},
     "output_type": "execute_result"
    }
   ],
   "source": [
    "2 + 2\n",
    "3 + 4"
   ]
  },
  {
   "cell_type": "markdown",
   "metadata": {},
   "source": [
    "Derfor, hvis vi gerne vil vise flere outputs på én gang, skal vi gemme hvert output i en variabel og så bruge funktionen `print` (som findes i stort set alle programmeringssprog), til at printe det ud i vores output.\n",
    "\n",
    "## Hvad er Markdown?\n",
    "Jupyter Notebooks muliggøre desuden brugen af Markdown. Derfor kan en notebook også bruges som en tekstbehandler, såsom Microsoft Word. Dog på et noget lavere niveau. Hvor Word er mere \"What You See Is What You Get\", så kræver Markdown at man kender de forskellige genveje. \n",
    "\n",
    "Markdown benyttes i Jupyter Notebooks til tekst formatering. Det er super nemt at lære, selvom der ikke er noget generelt interface som der er i Microsoft Word. Vi er også lidt mere begrænsede end vi er i Word. Men til det vi har tænkt os at bruge det til, så har vi mere end rigeligt funktionalitet. Som tidligere nævnt, så er denne bog skrevet i Jupyter Notebooks. Men selve formateringen af hele bogen er mere eller mindre i Markdown. Undtagen kode blokkene selvfølgelig. \n",
    "\n",
    "## Andre formatteringsmuligheder\n",
    "\n",
    "Udover Markdown, giver Jupyter Notebooks, mulighed for at benytte Latex formattering. Det er super fedt, i forhold til at skrive ligninger i en notebook. Vi kan endda konfigurere vores notebook, således at når vi laver matematik vha. Python, så bliver resultater også formateret i Latex, så det er letlæseligt. Det kunne f.eks. se således ud\n",
    "\n",
    "$$\\frac{5}{4} \\cdot 27$$\n",
    "\n",
    "I Jupyter Notebooks, har elever mulighed for at lave matematik og naturvidenskabelige afleveringer. Fordi der er en celle opdeling af notebooks, betyder det at de er letlæselige. Desuden findes der en udvidelse til Jupyter, der giver mulighed for at lave og rette opgaver, direkte i Jupyter Notebooks. Udvidelsen giver også mulighed for at autorette funktioner. Denne udvidelse hedder `nbgrader`. Den skal vi nok komme til at snakke mere om."
   ]
  },
  {
   "cell_type": "code",
   "execution_count": null,
   "metadata": {},
   "outputs": [],
   "source": []
  }
 ],
 "metadata": {
  "kernelspec": {
   "display_name": "Python 3",
   "language": "python",
   "name": "python3"
  },
  "language_info": {
   "codemirror_mode": {
    "name": "ipython",
    "version": 3
   },
   "file_extension": ".py",
   "mimetype": "text/x-python",
   "name": "python",
   "nbconvert_exporter": "python",
   "pygments_lexer": "ipython3",
   "version": "3.7.2"
  }
 },
 "nbformat": 4,
 "nbformat_minor": 2
}
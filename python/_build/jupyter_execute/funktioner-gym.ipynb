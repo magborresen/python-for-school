{
 "cells": [
  {
   "cell_type": "markdown",
   "metadata": {},
   "source": [
    "# Funktioner"
   ]
  },
  {
   "cell_type": "markdown",
   "metadata": {},
   "source": [
    "Da vi tidligere har gennemgået matematikken for folkeskole niveau, kommer vi nu til det lidt mere dybdegående. Det er muligvis også her at Python virkelig kommer til en ret som et CAS værktøj til at kunne hjælpe eleverne. Husk at måden hvorpå funktioner kan plottes er beskrevet mere i dybden på siden omkring Funktioner på Folkeskoleniveau. Men for en god ordens skyld, kan vi lige tage en hurtigt opfrisker her.\n",
    "\n",
    "Vi bruger som sædvanligt `sympy` til at illustrere vores funktioner. Der findes også andre biblioteker, men `sympy`'s CAS funktionalitet, gør det nemt og bekvemt at arbejde med. Så for at kunne benytte plot funktionen fra `sympy` skal vi altså have importeret det."
   ]
  },
  {
   "cell_type": "code",
   "execution_count": 1,
   "metadata": {
    "execution": {
     "iopub.execute_input": "2020-08-22T20:21:15.030984Z",
     "iopub.status.busy": "2020-08-22T20:21:15.020520Z",
     "iopub.status.idle": "2020-08-22T20:21:17.090387Z",
     "shell.execute_reply": "2020-08-22T20:21:17.091386Z"
    }
   },
   "outputs": [],
   "source": [
    "from sympy import plot"
   ]
  },
  {
   "cell_type": "markdown",
   "metadata": {},
   "source": [
    "Nu har vi altså importeret `plot` funktionen fra `sympy`, så nu skal vi bruge en variabel som `sympy` kan lave CAS udregninger med. Til dette bruger vi ofte variablen `x`. Det er dog ikke en helt almindelig variabel, for det er en special type som vi importere fra `sympy`. Det gør vi som vist nedenfor. "
   ]
  },
  {
   "cell_type": "code",
   "execution_count": 2,
   "metadata": {
    "execution": {
     "iopub.execute_input": "2020-08-22T20:21:17.102337Z",
     "iopub.status.busy": "2020-08-22T20:21:17.099344Z",
     "iopub.status.idle": "2020-08-22T20:21:17.121411Z",
     "shell.execute_reply": "2020-08-22T20:21:17.121411Z"
    }
   },
   "outputs": [],
   "source": [
    "from sympy.abc import x"
   ]
  },
  {
   "cell_type": "markdown",
   "metadata": {},
   "source": [
    "Det er ikke kun `x` vi kan importere, men hvilken som helt bogstav vi har lyst til at bruge. Når vi skal plotte en funktion gør vi som vist nedenfor."
   ]
  },
  {
   "cell_type": "code",
   "execution_count": 3,
   "metadata": {
    "execution": {
     "iopub.execute_input": "2020-08-22T20:21:17.131607Z",
     "iopub.status.busy": "2020-08-22T20:21:17.130607Z",
     "iopub.status.idle": "2020-08-22T20:21:18.437118Z",
     "shell.execute_reply": "2020-08-22T20:21:18.433717Z"
    }
   },
   "outputs": [
    {
     "data": {
      "text/plain": [
       "<Figure size 640x480 with 1 Axes>"
      ]
     },
     "metadata": {},
     "output_type": "display_data"
    },
    {
     "data": {
      "text/plain": [
       "<sympy.plotting.plot.Plot at 0x692e610>"
      ]
     },
     "execution_count": 3,
     "metadata": {},
     "output_type": "execute_result"
    }
   ],
   "source": [
    "plot(x**2)"
   ]
  },
  {
   "cell_type": "markdown",
   "metadata": {},
   "source": [
    "Hvis vi gemmer en funktion i en Python variabel, kan vi også plotte den ved blot at bruge variabel navnet. F.eks. kan vi prøve at gemme funktionen `x**3` i en variabel ved navn `funktion`."
   ]
  },
  {
   "cell_type": "code",
   "execution_count": 4,
   "metadata": {
    "execution": {
     "iopub.execute_input": "2020-08-22T20:21:18.444500Z",
     "iopub.status.busy": "2020-08-22T20:21:18.444500Z",
     "iopub.status.idle": "2020-08-22T20:21:18.451297Z",
     "shell.execute_reply": "2020-08-22T20:21:18.457711Z"
    }
   },
   "outputs": [],
   "source": [
    "funktion = x**3"
   ]
  },
  {
   "cell_type": "markdown",
   "metadata": {},
   "source": [
    "Nu kan vi så blot sige `plot(funktion)` for at få vist resultatet"
   ]
  },
  {
   "cell_type": "code",
   "execution_count": 5,
   "metadata": {
    "execution": {
     "iopub.execute_input": "2020-08-22T20:21:18.469189Z",
     "iopub.status.busy": "2020-08-22T20:21:18.466194Z",
     "iopub.status.idle": "2020-08-22T20:21:19.101960Z",
     "shell.execute_reply": "2020-08-22T20:21:19.102997Z"
    }
   },
   "outputs": [
    {
     "data": {
      "image/png": "[encoded data removed]",
      "text/plain": [
       "<Figure size 432x288 with 1 Axes>"
      ]
     },
     "metadata": {
      "filenames": {
       "image/png": "C:\\Users\\mabo\\Documents\\python-for-school\\python\\_build\\jupyter_execute\\funktioner-gym_10_0.png"
      },
      "needs_background": "light"
     },
     "output_type": "display_data"
    },
    {
     "data": {
      "text/plain": [
       "<sympy.plotting.plot.Plot at 0x6847530>"
      ]
     },
     "execution_count": 5,
     "metadata": {},
     "output_type": "execute_result"
    }
   ],
   "source": [
    "plot(funktion)"
   ]
  },
  {
   "cell_type": "markdown",
   "metadata": {},
   "source": [
    "### Differentiering\n",
    "\n",
    "Det er selvfølgelig vigtigt at vores CAS værktøj kan finde ud af at differentiere funktioner. Det er jo en stor del af matematikken, og heldigvis kan vi prise os lykkelige med, at det ikke er noget problem for `sympy`. Vi skal, som altid, blot importere funktionaliteten først. Den funktion vi skal importere hedder `diff()`. Før vi kan gøre det skal vi dog altid lige huske at importere vores variable ind med også. Vi vil bruge variabel navnet `x` i det her tilfælde."
   ]
  },
  {
   "cell_type": "code",
   "execution_count": 6,
   "metadata": {
    "execution": {
     "iopub.execute_input": "2020-08-22T20:21:19.113143Z",
     "iopub.status.busy": "2020-08-22T20:21:19.107052Z",
     "iopub.status.idle": "2020-08-22T20:21:19.113143Z",
     "shell.execute_reply": "2020-08-22T20:21:19.117282Z"
    }
   },
   "outputs": [],
   "source": [
    "from sympy import diff\n",
    "from sympy.abc import x"
   ]
  },
  {
   "cell_type": "markdown",
   "metadata": {},
   "source": [
    "Vi kan nu differentiere alle de funktioner vi overhovedet kan komme i tanke om, så lad os prøve det af. Vi vil prøve at differentiere den velkendte funktion $x^2$."
   ]
  },
  {
   "cell_type": "code",
   "execution_count": 7,
   "metadata": {
    "execution": {
     "iopub.execute_input": "2020-08-22T20:21:19.128127Z",
     "iopub.status.busy": "2020-08-22T20:21:19.128127Z",
     "iopub.status.idle": "2020-08-22T20:21:19.662274Z",
     "shell.execute_reply": "2020-08-22T20:21:19.664265Z"
    }
   },
   "outputs": [
    {
     "data": {
      "text/latex": [
       "$\\displaystyle 2 x$"
      ],
      "text/plain": [
       "2*x"
      ]
     },
     "execution_count": 7,
     "metadata": {},
     "output_type": "execute_result"
    }
   ],
   "source": [
    "diff(x**2, x)"
   ]
  },
  {
   "cell_type": "markdown",
   "metadata": {},
   "source": [
    "Fedt, det giver os jo ingen problemer. I `diff()` funktionen definere vi altså først hvilken matematisk funktion vi gerne vil differentiere. Efterfølgende sætter vi et komma og definere hvilken variabel vi gerne vil differentiere med hensyn til. Nu vil den hurtige læser så spørge \"Betyder det at vi kan differentiere funktion med flere variable?\", og ja, det gør det. Det er nok ikke super relevant på gymnasieniveau, men nu får i den med nu hvor vi alligvel er i gang. \n",
    "\n",
    "For at differentiere funktione $x^2+y^2$ i forhold til $y$, skal vi altså blot efter kommaet, specificere at det er `y` der skal differentieres i forhold til.\n",
    "\n",
    "Vi skal huske at importere `y` fra sympy inden vi forsøger at differentiere."
   ]
  },
  {
   "cell_type": "code",
   "execution_count": 8,
   "metadata": {
    "execution": {
     "iopub.execute_input": "2020-08-22T20:21:19.686900Z",
     "iopub.status.busy": "2020-08-22T20:21:19.684906Z",
     "iopub.status.idle": "2020-08-22T20:21:19.693312Z",
     "shell.execute_reply": "2020-08-22T20:21:19.693312Z"
    }
   },
   "outputs": [
    {
     "data": {
      "text/latex": [
       "$\\displaystyle 2 y$"
      ],
      "text/plain": [
       "2*y"
      ]
     },
     "execution_count": 8,
     "metadata": {},
     "output_type": "execute_result"
    }
   ],
   "source": [
    "from sympy.abc import y\n",
    "\n",
    "diff(x**2+y**2, y)"
   ]
  },
  {
   "cell_type": "markdown",
   "metadata": {},
   "source": [
    "Og så er der differentieret i forhold til `y`. \n",
    "\n",
    "Vi kan selvfølgelig altid gemme resultatet for vores differentierede funktion i en variabel, så vi kan bruge det senere."
   ]
  },
  {
   "cell_type": "code",
   "execution_count": 9,
   "metadata": {
    "execution": {
     "iopub.execute_input": "2020-08-22T20:21:19.705502Z",
     "iopub.status.busy": "2020-08-22T20:21:19.700523Z",
     "iopub.status.idle": "2020-08-22T20:21:19.708890Z",
     "shell.execute_reply": "2020-08-22T20:21:19.709886Z"
    }
   },
   "outputs": [],
   "source": [
    "differentiale = diff(x**2, x)"
   ]
  },
  {
   "cell_type": "markdown",
   "metadata": {},
   "source": [
    "Nu kan vi så bruge denne nye variabel i hvilken som helst celle vi vil. Den skal dog komme efter den celle hvor vi definerede variablen (Cellen over denne)."
   ]
  },
  {
   "cell_type": "code",
   "execution_count": 10,
   "metadata": {
    "execution": {
     "iopub.execute_input": "2020-08-22T20:21:19.717172Z",
     "iopub.status.busy": "2020-08-22T20:21:19.717172Z",
     "iopub.status.idle": "2020-08-22T20:21:19.727634Z",
     "shell.execute_reply": "2020-08-22T20:21:19.728632Z"
    }
   },
   "outputs": [
    {
     "data": {
      "text/latex": [
       "$\\displaystyle 2 x$"
      ],
      "text/plain": [
       "2*x"
      ]
     },
     "execution_count": 10,
     "metadata": {},
     "output_type": "execute_result"
    }
   ],
   "source": [
    "differentiale"
   ]
  },
  {
   "cell_type": "markdown",
   "metadata": {},
   "source": [
    "Vi kan også anvende den i efterfølgende beregninger."
   ]
  },
  {
   "cell_type": "code",
   "execution_count": 11,
   "metadata": {
    "execution": {
     "iopub.execute_input": "2020-08-22T20:21:19.741755Z",
     "iopub.status.busy": "2020-08-22T20:21:19.741755Z",
     "iopub.status.idle": "2020-08-22T20:21:19.751607Z",
     "shell.execute_reply": "2020-08-22T20:21:19.752640Z"
    }
   },
   "outputs": [
    {
     "data": {
      "text/latex": [
       "$\\displaystyle 4 x$"
      ],
      "text/plain": [
       "4*x"
      ]
     },
     "execution_count": 11,
     "metadata": {},
     "output_type": "execute_result"
    }
   ],
   "source": [
    "# Vi ganger resultatet af differentiale variablen med 2.\n",
    "differentiale * 2"
   ]
  },
  {
   "cell_type": "markdown",
   "metadata": {},
   "source": [
    "### Integration\n",
    "\n",
    "Når vi kan differentiere, bliver vi selvfølgelig også nød til at kunne integrere. Den opgave klarer `sympy` også uden problemer. Vi skal igen blot lige importere en funktion der kan hjælpe os. Integrations funktionen i `sympy` hedder `integrate()`. Den kan vi lige importere hurtigt."
   ]
  },
  {
   "cell_type": "code",
   "execution_count": 12,
   "metadata": {
    "execution": {
     "iopub.execute_input": "2020-08-22T20:21:19.758710Z",
     "iopub.status.busy": "2020-08-22T20:21:19.758710Z",
     "iopub.status.idle": "2020-08-22T20:21:19.769259Z",
     "shell.execute_reply": "2020-08-22T20:21:19.770552Z"
    }
   },
   "outputs": [],
   "source": [
    "from sympy import integrate"
   ]
  },
  {
   "cell_type": "markdown",
   "metadata": {},
   "source": [
    "Vi kan nu integrere alle de funktioner vi vil. Lad os prøve med at integrere den samme funktion som vi differentierede før, nemlig $x^2$."
   ]
  },
  {
   "cell_type": "code",
   "execution_count": 13,
   "metadata": {
    "execution": {
     "iopub.execute_input": "2020-08-22T20:21:19.785061Z",
     "iopub.status.busy": "2020-08-22T20:21:19.781086Z",
     "iopub.status.idle": "2020-08-22T20:21:19.809470Z",
     "shell.execute_reply": "2020-08-22T20:21:19.814918Z"
    }
   },
   "outputs": [
    {
     "data": {
      "text/latex": [
       "$\\displaystyle \\frac{x^{3}}{3}$"
      ],
      "text/plain": [
       "x**3/3"
      ]
     },
     "execution_count": 13,
     "metadata": {},
     "output_type": "execute_result"
    }
   ],
   "source": [
    "integrate(x**2, x)"
   ]
  },
  {
   "cell_type": "markdown",
   "metadata": {},
   "source": [
    "Det giver altså ingen problemer. Vi kan integrere hvilke som helst funktion, som et helt almindeligt CAS program også kan integrere. Hvad nu hvis vi skal integrere med grænseværdier? Jamen det er selvfølgelig stadig dejligt nemt. Vi skal blot definere dem i en parentes sammen med den variabel der skal integreres med hensyn til. Hvis vi vil integrere den tidligere funktion $x^2$ fra $0$ til $\\infty$, kommer det til at se ud som nedenstående."
   ]
  },
  {
   "cell_type": "code",
   "execution_count": 14,
   "metadata": {
    "execution": {
     "iopub.execute_input": "2020-08-22T20:21:19.853221Z",
     "iopub.status.busy": "2020-08-22T20:21:19.834049Z",
     "iopub.status.idle": "2020-08-22T20:21:20.462991Z",
     "shell.execute_reply": "2020-08-22T20:21:20.462991Z"
    }
   },
   "outputs": [
    {
     "data": {
      "text/latex": [
       "$\\displaystyle \\infty$"
      ],
      "text/plain": [
       "oo"
      ]
     },
     "execution_count": 14,
     "metadata": {},
     "output_type": "execute_result"
    }
   ],
   "source": [
    "# Vi skal lige have importeret uendelig\n",
    "from sympy import oo\n",
    "\n",
    "# Nu kan integralet udregnes\n",
    "integrate(x**2, (x, 0, oo))"
   ]
  },
  {
   "cell_type": "markdown",
   "metadata": {},
   "source": [
    "Som det ses ovenfor, kan `sympy` sagtens finde ud af at arbejde med $\\infty$. Det skal blot importeres først, ligesom det meste andet funktionalitet. Herefter udregner vi integralet. Efter vi definere hvilken funktion der ønskes integreret, indsætter vi et par parenteser hvor vi definere variabel, nedre grænse og øvre grænse. Og som vi kan se, er vores resultat totalt valid."
   ]
  },
  {
   "cell_type": "markdown",
   "metadata": {},
   "source": [
    "Som vi så tidligere med differentialet, kan vi selvfølgelig også gemme resultatet af vores integrale funktion i en variabel. "
   ]
  },
  {
   "cell_type": "code",
   "execution_count": 15,
   "metadata": {
    "execution": {
     "iopub.execute_input": "2020-08-22T20:21:20.473102Z",
     "iopub.status.busy": "2020-08-22T20:21:20.473102Z",
     "iopub.status.idle": "2020-08-22T20:21:20.484165Z",
     "shell.execute_reply": "2020-08-22T20:21:20.483166Z"
    }
   },
   "outputs": [],
   "source": [
    "integrale = integrate(x**2, x)"
   ]
  },
  {
   "cell_type": "markdown",
   "metadata": {},
   "source": [
    "Nu kan vi bruge vores variabel `integrale` lige når vi ville, så længe at vi bruger den i en celle der kommer efter den vi har defineret variablen i. "
   ]
  },
  {
   "cell_type": "code",
   "execution_count": 16,
   "metadata": {
    "execution": {
     "iopub.execute_input": "2020-08-22T20:21:20.494383Z",
     "iopub.status.busy": "2020-08-22T20:21:20.494383Z",
     "iopub.status.idle": "2020-08-22T20:21:20.501402Z",
     "shell.execute_reply": "2020-08-22T20:21:20.501402Z"
    }
   },
   "outputs": [
    {
     "data": {
      "text/latex": [
       "$\\displaystyle \\frac{x^{3}}{3}$"
      ],
      "text/plain": [
       "x**3/3"
      ]
     },
     "execution_count": 16,
     "metadata": {},
     "output_type": "execute_result"
    }
   ],
   "source": [
    "integrale"
   ]
  },
  {
   "cell_type": "markdown",
   "metadata": {},
   "source": [
    "Vi kan også bruge variablen til efterfølgende beregninger. "
   ]
  },
  {
   "cell_type": "code",
   "execution_count": 17,
   "metadata": {
    "execution": {
     "iopub.execute_input": "2020-08-22T20:21:20.515988Z",
     "iopub.status.busy": "2020-08-22T20:21:20.514300Z",
     "iopub.status.idle": "2020-08-22T20:21:20.525707Z",
     "shell.execute_reply": "2020-08-22T20:21:20.529408Z"
    }
   },
   "outputs": [
    {
     "data": {
      "text/latex": [
       "$\\displaystyle \\frac{2 x^{3}}{3}$"
      ],
      "text/plain": [
       "2*x**3/3"
      ]
     },
     "execution_count": 17,
     "metadata": {},
     "output_type": "execute_result"
    }
   ],
   "source": [
    "integrale * 2"
   ]
  },
  {
   "cell_type": "code",
   "execution_count": null,
   "metadata": {},
   "outputs": [],
   "source": []
  }
 ],
 "metadata": {
  "kernelspec": {
   "display_name": "Python 3",
   "language": "python",
   "name": "python3"
  },
  "language_info": {
   "codemirror_mode": {
    "name": "ipython",
    "version": 3
   },
   "file_extension": ".py",
   "mimetype": "text/x-python",
   "name": "python",
   "nbconvert_exporter": "python",
   "pygments_lexer": "ipython3",
   "version": "3.7.2"
  }
 },
 "nbformat": 4,
 "nbformat_minor": 2
}
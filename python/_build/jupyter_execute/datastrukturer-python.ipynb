{
 "cells": [
  {
   "cell_type": "markdown",
   "metadata": {},
   "source": [
    "# Datastrukturer i Python"
   ]
  },
  {
   "cell_type": "markdown",
   "metadata": {},
   "source": [
    "Uha, det lyder allerede som noget meget teknisk når man har ordet datastruktur i en overskrift. Men heldigvis er det rigtig simpelt takket være Python. Datastrukturer er en vigtig del af alle programmeringssprog. De sørger for at vi kan opbevarer en større mængde data end blot det der kan være i en variabel. I Python finder vi generelt 3 datastrukturer __Lister__, __Tuples__ og __Dictionaries__. I folkeskole matematik kunne jeg forestille mig at __lister__ godt kunne blive brugt. Generelt bruger jeg ikke selv __Tuples__ så meget, da jeg synes de to andre strukturer har flere fordele. Lad os kigge på dem én for én og se hvordan de virker. "
   ]
  },
  {
   "cell_type": "markdown",
   "metadata": {},
   "source": [
    "## Lister"
   ]
  },
  {
   "cell_type": "markdown",
   "metadata": {},
   "source": [
    "En liste er defineret ved hjælp af to klammer `[]`. Imellem de to klammer, har man så alt sin data. Dataen kan både være tal, decimaltal, tekst, variable eller en blanding af alle disse. Lister kan også gemmes som almindelige variable, hvilket gør at de er nemme at tilgå. Desuden er lister fede fordi de lader os ændre dataen i dem. Det er ikke alle datastrukturere der tillader ændringer i data. Lad os prøve at definere en liste der indeholder tallene `1`, `2` og `3`. Vi gemmer den som `liste`."
   ]
  },
  {
   "cell_type": "code",
   "execution_count": 1,
   "metadata": {
    "execution": {
     "iopub.execute_input": "2020-08-22T20:20:53.731031Z",
     "iopub.status.busy": "2020-08-22T20:20:53.727176Z",
     "iopub.status.idle": "2020-08-22T20:20:53.740732Z",
     "shell.execute_reply": "2020-08-22T20:20:53.744957Z"
    }
   },
   "outputs": [],
   "source": [
    "liste = [1, 2, 3]"
   ]
  },
  {
   "cell_type": "markdown",
   "metadata": {},
   "source": [
    "Som det ses, så adskiller man sine data med et komma `,`. Lad os prøve at bruge `print()` funktionen på listen og se hvad der sker."
   ]
  },
  {
   "cell_type": "code",
   "execution_count": 2,
   "metadata": {
    "execution": {
     "iopub.execute_input": "2020-08-22T20:20:53.769794Z",
     "iopub.status.busy": "2020-08-22T20:20:53.764407Z",
     "iopub.status.idle": "2020-08-22T20:20:53.786969Z",
     "shell.execute_reply": "2020-08-22T20:20:53.791014Z"
    }
   },
   "outputs": [
    {
     "name": "stdout",
     "output_type": "stream",
     "text": [
      "[1, 2, 3]\n"
     ]
    }
   ],
   "source": [
    "print(liste)"
   ]
  },
  {
   "cell_type": "markdown",
   "metadata": {},
   "source": [
    "Vi får simpelthen bare hele listen ud... Men hvad nu hvis jeg gerne vil have fat i noget bestemt data i listen? Her kan vi bruge det vi kalder for indeksering. Vi skal blote skrive listens navn (`liste` i dette tilfælde) og specificere indenfor to klammer `[]` hvilken position vi ønsker at tilgå. Python benytter, som alle andre programmeringssprog, nul-indeksering. Det vil sige at vi starter fra 0. Da der i vores liste står `1` i første position, skal vi altså have fat i indeks `0`. Det gør vi ved"
   ]
  },
  {
   "cell_type": "code",
   "execution_count": 3,
   "metadata": {
    "execution": {
     "iopub.execute_input": "2020-08-22T20:20:53.809158Z",
     "iopub.status.busy": "2020-08-22T20:20:53.804142Z",
     "iopub.status.idle": "2020-08-22T20:20:53.827534Z",
     "shell.execute_reply": "2020-08-22T20:20:53.832835Z"
    }
   },
   "outputs": [
    {
     "name": "stdout",
     "output_type": "stream",
     "text": [
      "1\n"
     ]
    }
   ],
   "source": [
    "print(liste[0])"
   ]
  },
  {
   "cell_type": "markdown",
   "metadata": {},
   "source": [
    "Og vupti, så har vi vores første position.\n",
    "\n",
    "Hvis vi gerne vil have den sidste position i listen, så skal vi huske at vi starter med at tælle fra nul. I og med at vi har 3 stykker data i vores liste, så vil den sidste position altså være defineret som position `2`. Lad os prøve at printe den."
   ]
  },
  {
   "cell_type": "code",
   "execution_count": 4,
   "metadata": {
    "execution": {
     "iopub.execute_input": "2020-08-22T20:20:53.846159Z",
     "iopub.status.busy": "2020-08-22T20:20:53.840356Z",
     "iopub.status.idle": "2020-08-22T20:20:53.861016Z",
     "shell.execute_reply": "2020-08-22T20:20:53.861016Z"
    }
   },
   "outputs": [
    {
     "name": "stdout",
     "output_type": "stream",
     "text": [
      "3\n"
     ]
    }
   ],
   "source": [
    "print(liste[2])"
   ]
  },
  {
   "cell_type": "markdown",
   "metadata": {},
   "source": [
    "Fantastisk, det virker jo helt perfekt! Lad os for sjovs skyld, se hvad der sker, hvis vi giver et tal der er udenfor listens indeks, hvilket i dette tilfælde vil være `3`."
   ]
  },
  {
   "cell_type": "code",
   "execution_count": 5,
   "metadata": {
    "execution": {
     "iopub.execute_input": "2020-08-22T20:20:53.883248Z",
     "iopub.status.busy": "2020-08-22T20:20:53.880971Z",
     "iopub.status.idle": "2020-08-22T20:20:54.178478Z",
     "shell.execute_reply": "2020-08-22T20:20:54.173886Z"
    },
    "tags": [
     "raises-exception"
    ]
   },
   "outputs": [
    {
     "ename": "IndexError",
     "evalue": "list index out of range",
     "output_type": "error",
     "traceback": [
      "\u001b[1;31m---------------------------------------------------------------------------\u001b[0m",
      "\u001b[1;31mIndexError\u001b[0m                                Traceback (most recent call last)",
      "\u001b[1;32m<ipython-input-5-db96302ff4ae>\u001b[0m in \u001b[0;36m<module>\u001b[1;34m\u001b[0m\n\u001b[1;32m----> 1\u001b[1;33m \u001b[0mprint\u001b[0m\u001b[1;33m(\u001b[0m\u001b[0mliste\u001b[0m\u001b[1;33m[\u001b[0m\u001b[1;36m3\u001b[0m\u001b[1;33m]\u001b[0m\u001b[1;33m)\u001b[0m\u001b[1;33m\u001b[0m\u001b[1;33m\u001b[0m\u001b[0m\n\u001b[0m",
      "\u001b[1;31mIndexError\u001b[0m: list index out of range"
     ]
    }
   ],
   "source": [
    "print(liste[3])"
   ]
  },
  {
   "cell_type": "markdown",
   "metadata": {},
   "source": [
    "Vi får bare en fejl der siger at indekset ikke er inden for den rækkevidde listen har. Så husk derfor altid at tælle fra 0. Det kan spare en masse hovedpiner!\n",
    "\n",
    "Det er også muligt at benytte negativ indeksering. Det betyder at hvis vi skriver `liste[-1]`, så vil vi få det stykke data ud, som står på den sidste position i listen. I tilfælde af vores variabel `liste`, vil det altså være `3`. "
   ]
  },
  {
   "cell_type": "code",
   "execution_count": 6,
   "metadata": {
    "execution": {
     "iopub.execute_input": "2020-08-22T20:20:54.304910Z",
     "iopub.status.busy": "2020-08-22T20:20:54.300964Z",
     "iopub.status.idle": "2020-08-22T20:20:54.317443Z",
     "shell.execute_reply": "2020-08-22T20:20:54.322769Z"
    }
   },
   "outputs": [
    {
     "name": "stdout",
     "output_type": "stream",
     "text": [
      "3\n"
     ]
    }
   ],
   "source": [
    "print(liste[-1])"
   ]
  },
  {
   "cell_type": "markdown",
   "metadata": {},
   "source": [
    "## Tuples"
   ]
  },
  {
   "cell_type": "markdown",
   "metadata": {},
   "source": [
    "Tuples fungere lidt ligesom lister. Der er dog et par væsentlige forskelle. Første og fremmest, defineres en tuple ved at benytte parenteser `()` i stedet for klammer `[]`. Derudover er tuples ordnet, hvilket lister også er. Det betyder at data du propper ind, vil altid beholde samme position i tuplen eller listen. I modsætning til lister, så kan tuples ikke ændres når de først er lavet. Det vil sige, at hvis vi laver variablen `enTuple` som indeholder dataen `1`, `2` og `3`. Så kan den altså ikke ændres."
   ]
  },
  {
   "cell_type": "code",
   "execution_count": 7,
   "metadata": {
    "execution": {
     "iopub.execute_input": "2020-08-22T20:20:54.350268Z",
     "iopub.status.busy": "2020-08-22T20:20:54.341653Z",
     "iopub.status.idle": "2020-08-22T20:20:54.361378Z",
     "shell.execute_reply": "2020-08-22T20:20:54.364775Z"
    }
   },
   "outputs": [],
   "source": [
    "enTuple = (1, 2, 3)"
   ]
  },
  {
   "cell_type": "code",
   "execution_count": 8,
   "metadata": {
    "execution": {
     "iopub.execute_input": "2020-08-22T20:20:54.395357Z",
     "iopub.status.busy": "2020-08-22T20:20:54.386152Z",
     "iopub.status.idle": "2020-08-22T20:20:54.408769Z",
     "shell.execute_reply": "2020-08-22T20:20:54.414053Z"
    }
   },
   "outputs": [
    {
     "name": "stdout",
     "output_type": "stream",
     "text": [
      "(1, 2, 3)\n"
     ]
    }
   ],
   "source": [
    "print(enTuple)"
   ]
  },
  {
   "cell_type": "markdown",
   "metadata": {},
   "source": [
    "Der er sikkert en rigtig god grund til at skulle bruge tuples. Men indenfor CAS og matematikens verden, har jeg endnu ikke haft brug for at benytte dem. Så derfor vil jeg ikke komme mere ind på dem. Men nu ved du de findes og der er tonsvis af information omkring dem overalt på internettet :-)"
   ]
  },
  {
   "cell_type": "markdown",
   "metadata": {},
   "source": [
    "## Dictionaries"
   ]
  },
  {
   "cell_type": "markdown",
   "metadata": {},
   "source": [
    "En Dictionary (dict) fungere lidt ligesom den lyder. Det er opslagsværk. En ordbog vil måske være en god analogi. Hvor man i en ordbog har et ord og en definition, har man i en dict, en __key__ og en __value__. En __key__ kan være alle datatyper. Men man ser ofte at der benyttes en tekststreng fordi det er nemmest at referere til, når man skal have data ud. Denne __key__ fungere ligesom ordet i ordbogen. Vores __value__ derimod fungere som ordets definition. Her kan vi specificere stort set lige hvad vi vil: en str, en int, en float, en liste, en tuple eller en helt ny dict. Dicts er smarte fordi den kan indehold utroligt meget data og de gør det let at tilgå. "
   ]
  },
  {
   "cell_type": "code",
   "execution_count": null,
   "metadata": {},
   "outputs": [],
   "source": []
  }
 ],
 "metadata": {
  "kernelspec": {
   "display_name": "Python 3",
   "language": "python",
   "name": "python3"
  },
  "language_info": {
   "codemirror_mode": {
    "name": "ipython",
    "version": 3
   },
   "file_extension": ".py",
   "mimetype": "text/x-python",
   "name": "python",
   "nbconvert_exporter": "python",
   "pygments_lexer": "ipython3",
   "version": "3.7.2"
  }
 },
 "nbformat": 4,
 "nbformat_minor": 2
}
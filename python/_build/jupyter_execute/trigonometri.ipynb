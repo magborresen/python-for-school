{
 "cells": [
  {
   "cell_type": "markdown",
   "metadata": {},
   "source": [
    "## Trigonometri "
   ]
  },
  {
   "cell_type": "markdown",
   "metadata": {},
   "source": [
    "`math` har indbyggede funktioner til at finde sinus, cosinus og tanget. Ved alle disse funktioner, giver man en tal/vinkel, som man ønsker at finde sinus, cosinus eller tanget til. Python vil herefter vise resultatet i radianer. Dette kan laves om til grader, hvis man ønsker dette. Nedenstående eksempler vil vise hvordan man finder sinus, cosinus og tangent til tal der både er angivet i radianer og i grader.\n",
    "\n",
    "Men for at vi kan bruge nogle af disse smarte funktioner, må vi nok hellere lige få importeret `math` biblioteket først. "
   ]
  },
  {
   "cell_type": "code",
   "execution_count": 1,
   "metadata": {
    "execution": {
     "iopub.execute_input": "2020-07-13T15:57:31.716060Z",
     "iopub.status.busy": "2020-07-13T15:57:31.715062Z",
     "iopub.status.idle": "2020-07-13T15:57:31.721085Z",
     "shell.execute_reply": "2020-07-13T15:57:31.720084Z"
    }
   },
   "outputs": [],
   "source": [
    "import math"
   ]
  },
  {
   "cell_type": "code",
   "execution_count": 2,
   "metadata": {
    "execution": {
     "iopub.execute_input": "2020-07-13T15:57:31.738001Z",
     "iopub.status.busy": "2020-07-13T15:57:31.736008Z",
     "iopub.status.idle": "2020-07-13T15:57:31.742987Z",
     "shell.execute_reply": "2020-07-13T15:57:31.742987Z"
    }
   },
   "outputs": [
    {
     "data": {
      "text/plain": [
       "0.7451131604793488"
      ]
     },
     "execution_count": 2,
     "metadata": {},
     "output_type": "execute_result"
    }
   ],
   "source": [
    "# Sinus i radianer\n",
    "math.sin(40)"
   ]
  },
  {
   "cell_type": "code",
   "execution_count": 3,
   "metadata": {
    "execution": {
     "iopub.execute_input": "2020-07-13T15:57:31.752004Z",
     "iopub.status.busy": "2020-07-13T15:57:31.749968Z",
     "iopub.status.idle": "2020-07-13T15:57:31.754970Z",
     "shell.execute_reply": "2020-07-13T15:57:31.755996Z"
    }
   },
   "outputs": [
    {
     "data": {
      "text/plain": [
       "0.6427876096865393"
      ]
     },
     "execution_count": 3,
     "metadata": {},
     "output_type": "execute_result"
    }
   ],
   "source": [
    "# Sinus i grader\n",
    "math.sin(math.radians(40))"
   ]
  },
  {
   "cell_type": "code",
   "execution_count": 4,
   "metadata": {
    "execution": {
     "iopub.execute_input": "2020-07-13T15:57:31.761937Z",
     "iopub.status.busy": "2020-07-13T15:57:31.760940Z",
     "iopub.status.idle": "2020-07-13T15:57:31.767962Z",
     "shell.execute_reply": "2020-07-13T15:57:31.768962Z"
    }
   },
   "outputs": [
    {
     "data": {
      "text/plain": [
       "-0.6669380616522619"
      ]
     },
     "execution_count": 4,
     "metadata": {},
     "output_type": "execute_result"
    }
   ],
   "source": [
    "# Cosinus i radianer\n",
    "math.cos(40)"
   ]
  },
  {
   "cell_type": "code",
   "execution_count": 5,
   "metadata": {
    "execution": {
     "iopub.execute_input": "2020-07-13T15:57:31.775898Z",
     "iopub.status.busy": "2020-07-13T15:57:31.774901Z",
     "iopub.status.idle": "2020-07-13T15:57:31.780887Z",
     "shell.execute_reply": "2020-07-13T15:57:31.781884Z"
    }
   },
   "outputs": [
    {
     "data": {
      "text/plain": [
       "0.766044443118978"
      ]
     },
     "execution_count": 5,
     "metadata": {},
     "output_type": "execute_result"
    }
   ],
   "source": [
    "# Cosins i grader\n",
    "math.cos(math.radians(40))"
   ]
  },
  {
   "cell_type": "code",
   "execution_count": 6,
   "metadata": {
    "execution": {
     "iopub.execute_input": "2020-07-13T15:57:31.788863Z",
     "iopub.status.busy": "2020-07-13T15:57:31.787866Z",
     "iopub.status.idle": "2020-07-13T15:57:31.793852Z",
     "shell.execute_reply": "2020-07-13T15:57:31.793852Z"
    }
   },
   "outputs": [
    {
     "data": {
      "text/plain": [
       "-1.117214930923896"
      ]
     },
     "execution_count": 6,
     "metadata": {},
     "output_type": "execute_result"
    }
   ],
   "source": [
    "# Tangent i radianer\n",
    "math.tan(40)"
   ]
  },
  {
   "cell_type": "code",
   "execution_count": 7,
   "metadata": {
    "execution": {
     "iopub.execute_input": "2020-07-13T15:57:31.800832Z",
     "iopub.status.busy": "2020-07-13T15:57:31.798849Z",
     "iopub.status.idle": "2020-07-13T15:57:31.807813Z",
     "shell.execute_reply": "2020-07-13T15:57:31.805818Z"
    }
   },
   "outputs": [
    {
     "data": {
      "text/plain": [
       "0.8390996311772799"
      ]
     },
     "execution_count": 7,
     "metadata": {},
     "output_type": "execute_result"
    }
   ],
   "source": [
    "# Tangent i grader\n",
    "math.tan(math.radians(40))"
   ]
  },
  {
   "cell_type": "markdown",
   "metadata": {},
   "source": [
    "Hvis man ønsker resultatet i grader, skal man f.eks. putte `math.sin(40)` ind i funktionen `math.degrees()`. Konventionen for at gøre dette i programmering er normalt, at man gemmer `math.sin(40)` i en variable, og derefter putter man variable ind i `math.degrees()`. Se nedenstående for eksempel"
   ]
  },
  {
   "cell_type": "code",
   "execution_count": 8,
   "metadata": {
    "execution": {
     "iopub.execute_input": "2020-07-13T15:57:31.813799Z",
     "iopub.status.busy": "2020-07-13T15:57:31.812800Z",
     "iopub.status.idle": "2020-07-13T15:57:31.817786Z",
     "shell.execute_reply": "2020-07-13T15:57:31.819823Z"
    }
   },
   "outputs": [
    {
     "data": {
      "text/plain": [
       "42.6918393551207"
      ]
     },
     "execution_count": 8,
     "metadata": {},
     "output_type": "execute_result"
    }
   ],
   "source": [
    "# Find resultat i grader\n",
    "resultat_radian = math.sin(40)\n",
    "\n",
    "# Nu er resultatet i radianer gemt i variablen 'resultat_radian'. Nu kan resultatet findes i grader\n",
    "math.degrees(resultat_radian)"
   ]
  },
  {
   "cell_type": "code",
   "execution_count": 9,
   "metadata": {
    "execution": {
     "iopub.execute_input": "2020-07-13T15:57:31.825765Z",
     "iopub.status.busy": "2020-07-13T15:57:31.824768Z",
     "iopub.status.idle": "2020-07-13T15:57:31.831791Z",
     "shell.execute_reply": "2020-07-13T15:57:31.830756Z"
    }
   },
   "outputs": [
    {
     "data": {
      "text/plain": [
       "-38.2127361293105"
      ]
     },
     "execution_count": 9,
     "metadata": {},
     "output_type": "execute_result"
    }
   ],
   "source": [
    "# Find resultat i grader\n",
    "resultat_radian = math.cos(40)\n",
    "\n",
    "# Nu er resultatet i radianer gemt i variablen 'resultat_radian'. Nu kan resultatet findes i grader\n",
    "math.degrees(resultat_radian)"
   ]
  },
  {
   "cell_type": "code",
   "execution_count": 10,
   "metadata": {
    "execution": {
     "iopub.execute_input": "2020-07-13T15:57:31.838729Z",
     "iopub.status.busy": "2020-07-13T15:57:31.837733Z",
     "iopub.status.idle": "2020-07-13T15:57:31.842761Z",
     "shell.execute_reply": "2020-07-13T15:57:31.841724Z"
    }
   },
   "outputs": [
    {
     "data": {
      "text/plain": [
       "-64.01170035093904"
      ]
     },
     "execution_count": 10,
     "metadata": {},
     "output_type": "execute_result"
    }
   ],
   "source": [
    "# Find resultat i grader\n",
    "resultat_radian = math.tan(40)\n",
    "\n",
    "# Nu er resultatet i radianer gemt i variablen 'resultat_radian'. Nu kan resultatet findes i grader\n",
    "math.degrees(resultat_radian)"
   ]
  },
  {
   "cell_type": "markdown",
   "metadata": {},
   "source": [
    "### Trekantsløser\n",
    "\n",
    "En stor del af matematikværktøjer i folkeskolen og på gymnasiet er at kunne løse trekanter nemt. WordMat har f.eks. en trekantsløser, der gør det grafisk nemt at indtaste 3 kendte værdier omkring trekanten og efterfølgende få udregnet de resterende værdier. Python har ikke et grafisk værktøj til dette, men ikke desto mindre findes der en trekantsløser. Denne kommer i et eksternt bibliotek som skal hentes vha. pip. For at hente biblioteket, skrives i terminalen eller i commando prompt.\n",
    "\n",
    "`pip3 install trianglesolver`\n",
    "\n",
    "Når denne er installeret, skal den blot importeres, hvorefter alle funktioner frit kan bruges. Importeringen foregår ligesom med `math` biblioteket.\n",
    "Man ønsker dog normalt ikke at skulle skrive `trianglesolver` hver gang man skal benytte sig af biblioteket. Derfor kan man importere det og give det et kaldenavn, som forkortelse. Python ved så herefter at hver gang man skriver dette kaldenavn, så referere man til `trianglesolver`.\n",
    "\n",
    "For at importere med et kaldenavn, gør man følgende\n",
    "\n",
    "`import trianglesolver as ts`"
   ]
  },
  {
   "cell_type": "code",
   "execution_count": 11,
   "metadata": {
    "execution": {
     "iopub.execute_input": "2020-07-13T15:57:31.847709Z",
     "iopub.status.busy": "2020-07-13T15:57:31.846709Z",
     "iopub.status.idle": "2020-07-13T15:57:31.858681Z",
     "shell.execute_reply": "2020-07-13T15:57:31.857697Z"
    }
   },
   "outputs": [],
   "source": [
    "import trianglesolver as ts"
   ]
  },
  {
   "cell_type": "markdown",
   "metadata": {},
   "source": [
    "`trianglesolver` er nu importeret og alle funktioner er tilgængelige. Når man skal bruge biblioteket, skal man blot referere til det som `ts`. \n",
    "\n",
    "Hvis man vil løse en trekant, skal man som minimum kende tre karakteristiske dele omkring trekanten. Det kan enten være siderne, vinklerne eller nogen af siderne og nogle af vinklerne. Trekanten ABC, har siderne `a=3` og `b=4` og vinkel `C=25 grader` og man skal finde siden c. Denne kan man nu løse med `trianglesolver`. Først skal alle siderne i trekanten defineres, dette kan heldigvis gøres på en enkelt linje. Disse variable skal sættes lig med noget. Altså de skal indeholde et eller andet. I dette tilfælde, skal de indeholde løsningen. For at definere hvordan `trianglesolver` skal finde løsningen, skal man bruge den indbyggede funktion `solve()`. I `solve()` skal man angive de kendte værdier og hvad de er lig med. Se eksemplet nedenfor"
   ]
  },
  {
   "cell_type": "code",
   "execution_count": 12,
   "metadata": {
    "execution": {
     "iopub.execute_input": "2020-07-13T15:57:31.866656Z",
     "iopub.status.busy": "2020-07-13T15:57:31.866656Z",
     "iopub.status.idle": "2020-07-13T15:57:31.869647Z",
     "shell.execute_reply": "2020-07-13T15:57:31.870648Z"
    }
   },
   "outputs": [],
   "source": [
    "a, b, c, A, B, C = ts.solve(a=3, b=4, C=25*ts.degree)"
   ]
  },
  {
   "cell_type": "markdown",
   "metadata": {},
   "source": [
    "Nu er løsningen altså gemt i de 6 variable `a, b, c, A, B, C`. Derved her vi nu alle siderne gemt i `a, b, c` og vinklerne gemt i `A, B, C`. Grunden til at man ganger C værdien med `ts.degree` er, at `trianglesolver` forventer en værdi i radianer, men da opgavens værdi var i grader, skal denne altså konverteres til radianer.\n",
    "\n",
    "Man kan nu få Python til at vise resultatet for siden c. Dette gøres ved blot at skrive c i en celle."
   ]
  },
  {
   "cell_type": "code",
   "execution_count": 13,
   "metadata": {
    "execution": {
     "iopub.execute_input": "2020-07-13T15:57:31.876642Z",
     "iopub.status.busy": "2020-07-13T15:57:31.875632Z",
     "iopub.status.idle": "2020-07-13T15:57:31.881616Z",
     "shell.execute_reply": "2020-07-13T15:57:31.881616Z"
    }
   },
   "outputs": [
    {
     "data": {
      "text/plain": [
       "1.8023909429200986"
      ]
     },
     "execution_count": 13,
     "metadata": {},
     "output_type": "execute_result"
    }
   ],
   "source": [
    "c"
   ]
  },
  {
   "cell_type": "markdown",
   "metadata": {},
   "source": [
    "Side c har altså længden 1,8. Det er vigtigt at huske at Python angiver decimal tal med et `.` og __IKKE__ et `,`. \n",
    "\n",
    "Man kan også få angivet de ukendte vinkler `A` og `B`. Dette gøres på samme måde som ved siden `c`. Dog er resultatet af `A og B` lige nu angivet i radianer, så dette skal omskrives til grader. Dette gøres ved blot at dividere med den samme konstant `ts.degree` som der blev multipliceret med tidligere."
   ]
  },
  {
   "cell_type": "code",
   "execution_count": 14,
   "metadata": {
    "execution": {
     "iopub.execute_input": "2020-07-13T15:57:31.887599Z",
     "iopub.status.busy": "2020-07-13T15:57:31.886602Z",
     "iopub.status.idle": "2020-07-13T15:57:31.892627Z",
     "shell.execute_reply": "2020-07-13T15:57:31.891588Z"
    }
   },
   "outputs": [
    {
     "data": {
      "text/plain": [
       "44.70279717575587"
      ]
     },
     "execution_count": 14,
     "metadata": {},
     "output_type": "execute_result"
    }
   ],
   "source": [
    "A / ts.degree"
   ]
  },
  {
   "cell_type": "code",
   "execution_count": 15,
   "metadata": {
    "execution": {
     "iopub.execute_input": "2020-07-13T15:57:31.898572Z",
     "iopub.status.busy": "2020-07-13T15:57:31.897574Z",
     "iopub.status.idle": "2020-07-13T15:57:31.902561Z",
     "shell.execute_reply": "2020-07-13T15:57:31.902561Z"
    }
   },
   "outputs": [
    {
     "data": {
      "text/plain": [
       "110.29720282424412"
      ]
     },
     "execution_count": 15,
     "metadata": {},
     "output_type": "execute_result"
    }
   ],
   "source": [
    "B / ts.degree"
   ]
  },
  {
   "cell_type": "markdown",
   "metadata": {},
   "source": [
    "`A` har altså en vinkel på 44,7 grader og `B` har en vinkel på 110,3 grader."
   ]
  }
 ],
 "metadata": {
  "kernelspec": {
   "display_name": "Python 3",
   "language": "python",
   "name": "python3"
  },
  "language_info": {
   "codemirror_mode": {
    "name": "ipython",
    "version": 3
   },
   "file_extension": ".py",
   "mimetype": "text/x-python",
   "name": "python",
   "nbconvert_exporter": "python",
   "pygments_lexer": "ipython3",
   "version": "3.7.2"
  }
 },
 "nbformat": 4,
 "nbformat_minor": 2
}
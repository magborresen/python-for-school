{
 "cells": [
  {
   "cell_type": "markdown",
   "metadata": {},
   "source": [
    "## Trigonometri "
   ]
  },
  {
   "cell_type": "markdown",
   "metadata": {},
   "source": [
    "`math` har indbyggede funktioner til at finde sinus, cosinus og tanget. Ved alle disse funktioner, giver man en tal/vinkel, som man ønsker at finde sinus, cosinus eller tanget til. Python vil herefter vise resultatet i radianer. Dette kan laves om til grader, hvis man ønsker dette. Nedenstående eksempler vil vise hvordan man finder sinus, cosinus og tangent til tal der både er angivet i radianer og i grader.\n",
    "\n",
    "Men for at vi kan bruge nogle af disse smarte funktioner, må vi nok hellere lige få importeret `math` biblioteket først. "
   ]
  },
  {
   "cell_type": "code",
   "execution_count": 1,
   "metadata": {
    "execution": {
     "iopub.execute_input": "2020-08-22T20:21:54.196291Z",
     "iopub.status.busy": "2020-08-22T20:21:54.187976Z",
     "iopub.status.idle": "2020-08-22T20:21:54.211405Z",
     "shell.execute_reply": "2020-08-22T20:21:54.217259Z"
    }
   },
   "outputs": [],
   "source": [
    "import math"
   ]
  },
  {
   "cell_type": "code",
   "execution_count": 2,
   "metadata": {
    "execution": {
     "iopub.execute_input": "2020-08-22T20:21:54.240713Z",
     "iopub.status.busy": "2020-08-22T20:21:54.234261Z",
     "iopub.status.idle": "2020-08-22T20:21:54.448718Z",
     "shell.execute_reply": "2020-08-22T20:21:54.448718Z"
    }
   },
   "outputs": [
    {
     "data": {
      "text/plain": [
       "0.7451131604793488"
      ]
     },
     "execution_count": 2,
     "metadata": {},
     "output_type": "execute_result"
    }
   ],
   "source": [
    "# Sinus i radianer\n",
    "math.sin(40)"
   ]
  },
  {
   "cell_type": "code",
   "execution_count": 3,
   "metadata": {
    "execution": {
     "iopub.execute_input": "2020-08-22T20:21:54.468144Z",
     "iopub.status.busy": "2020-08-22T20:21:54.465573Z",
     "iopub.status.idle": "2020-08-22T20:21:54.478100Z",
     "shell.execute_reply": "2020-08-22T20:21:54.479682Z"
    }
   },
   "outputs": [
    {
     "data": {
      "text/plain": [
       "0.6427876096865393"
      ]
     },
     "execution_count": 3,
     "metadata": {},
     "output_type": "execute_result"
    }
   ],
   "source": [
    "# Sinus i grader\n",
    "math.sin(math.radians(40))"
   ]
  },
  {
   "cell_type": "code",
   "execution_count": 4,
   "metadata": {
    "execution": {
     "iopub.execute_input": "2020-08-22T20:21:54.489991Z",
     "iopub.status.busy": "2020-08-22T20:21:54.489991Z",
     "iopub.status.idle": "2020-08-22T20:21:54.504654Z",
     "shell.execute_reply": "2020-08-22T20:21:54.508650Z"
    }
   },
   "outputs": [
    {
     "data": {
      "text/plain": [
       "-0.6669380616522619"
      ]
     },
     "execution_count": 4,
     "metadata": {},
     "output_type": "execute_result"
    }
   ],
   "source": [
    "# Cosinus i radianer\n",
    "math.cos(40)"
   ]
  },
  {
   "cell_type": "code",
   "execution_count": 5,
   "metadata": {
    "execution": {
     "iopub.execute_input": "2020-08-22T20:21:54.528925Z",
     "iopub.status.busy": "2020-08-22T20:21:54.523584Z",
     "iopub.status.idle": "2020-08-22T20:21:54.538081Z",
     "shell.execute_reply": "2020-08-22T20:21:54.534948Z"
    }
   },
   "outputs": [
    {
     "data": {
      "text/plain": [
       "0.766044443118978"
      ]
     },
     "execution_count": 5,
     "metadata": {},
     "output_type": "execute_result"
    }
   ],
   "source": [
    "# Cosins i grader\n",
    "math.cos(math.radians(40))"
   ]
  },
  {
   "cell_type": "code",
   "execution_count": 6,
   "metadata": {
    "execution": {
     "iopub.execute_input": "2020-08-22T20:21:54.550482Z",
     "iopub.status.busy": "2020-08-22T20:21:54.546766Z",
     "iopub.status.idle": "2020-08-22T20:21:54.563110Z",
     "shell.execute_reply": "2020-08-22T20:21:54.565108Z"
    }
   },
   "outputs": [
    {
     "data": {
      "text/plain": [
       "-1.117214930923896"
      ]
     },
     "execution_count": 6,
     "metadata": {},
     "output_type": "execute_result"
    }
   ],
   "source": [
    "# Tangent i radianer\n",
    "math.tan(40)"
   ]
  },
  {
   "cell_type": "code",
   "execution_count": 7,
   "metadata": {
    "execution": {
     "iopub.execute_input": "2020-08-22T20:21:54.579993Z",
     "iopub.status.busy": "2020-08-22T20:21:54.577998Z",
     "iopub.status.idle": "2020-08-22T20:21:54.589141Z",
     "shell.execute_reply": "2020-08-22T20:21:54.591962Z"
    }
   },
   "outputs": [
    {
     "data": {
      "text/plain": [
       "0.8390996311772799"
      ]
     },
     "execution_count": 7,
     "metadata": {},
     "output_type": "execute_result"
    }
   ],
   "source": [
    "# Tangent i grader\n",
    "math.tan(math.radians(40))"
   ]
  },
  {
   "cell_type": "markdown",
   "metadata": {},
   "source": [
    "Hvis man ønsker resultatet i grader, skal man f.eks. putte `math.sin(40)` ind i funktionen `math.degrees()`. Konventionen for at gøre dette i programmering er normalt, at man gemmer `math.sin(40)` i en variable, og derefter putter man variable ind i `math.degrees()`. Se nedenstående for eksempel"
   ]
  },
  {
   "cell_type": "code",
   "execution_count": 8,
   "metadata": {
    "execution": {
     "iopub.execute_input": "2020-08-22T20:21:54.604808Z",
     "iopub.status.busy": "2020-08-22T20:21:54.602814Z",
     "iopub.status.idle": "2020-08-22T20:21:54.614107Z",
     "shell.execute_reply": "2020-08-22T20:21:54.614107Z"
    }
   },
   "outputs": [
    {
     "data": {
      "text/plain": [
       "42.6918393551207"
      ]
     },
     "execution_count": 8,
     "metadata": {},
     "output_type": "execute_result"
    }
   ],
   "source": [
    "# Find resultat i grader\n",
    "resultat_radian = math.sin(40)\n",
    "\n",
    "# Nu er resultatet i radianer gemt i variablen 'resultat_radian'. Nu kan resultatet findes i grader\n",
    "math.degrees(resultat_radian)"
   ]
  },
  {
   "cell_type": "code",
   "execution_count": 9,
   "metadata": {
    "execution": {
     "iopub.execute_input": "2020-08-22T20:21:54.627627Z",
     "iopub.status.busy": "2020-08-22T20:21:54.626631Z",
     "iopub.status.idle": "2020-08-22T20:21:54.645741Z",
     "shell.execute_reply": "2020-08-22T20:21:54.649422Z"
    }
   },
   "outputs": [
    {
     "data": {
      "text/plain": [
       "-38.2127361293105"
      ]
     },
     "execution_count": 9,
     "metadata": {},
     "output_type": "execute_result"
    }
   ],
   "source": [
    "# Find resultat i grader\n",
    "resultat_radian = math.cos(40)\n",
    "\n",
    "# Nu er resultatet i radianer gemt i variablen 'resultat_radian'. Nu kan resultatet findes i grader\n",
    "math.degrees(resultat_radian)"
   ]
  },
  {
   "cell_type": "code",
   "execution_count": 10,
   "metadata": {
    "execution": {
     "iopub.execute_input": "2020-08-22T20:21:54.663809Z",
     "iopub.status.busy": "2020-08-22T20:21:54.661793Z",
     "iopub.status.idle": "2020-08-22T20:21:54.670632Z",
     "shell.execute_reply": "2020-08-22T20:21:54.671987Z"
    }
   },
   "outputs": [
    {
     "data": {
      "text/plain": [
       "-64.01170035093904"
      ]
     },
     "execution_count": 10,
     "metadata": {},
     "output_type": "execute_result"
    }
   ],
   "source": [
    "# Find resultat i grader\n",
    "resultat_radian = math.tan(40)\n",
    "\n",
    "# Nu er resultatet i radianer gemt i variablen 'resultat_radian'. Nu kan resultatet findes i grader\n",
    "math.degrees(resultat_radian)"
   ]
  },
  {
   "cell_type": "markdown",
   "metadata": {},
   "source": [
    "### Trekantsløser\n",
    "\n",
    "En stor del af matematikværktøjer i folkeskolen og på gymnasiet er at kunne løse trekanter nemt. WordMat har f.eks. en trekantsløser, der gør det grafisk nemt at indtaste 3 kendte værdier omkring trekanten og efterfølgende få udregnet de resterende værdier. Python har ikke et grafisk værktøj til dette, men ikke desto mindre findes der en trekantsløser. Denne kommer i et eksternt bibliotek som skal hentes vha. pip. For at hente biblioteket, skrives i terminalen eller i commando prompt.\n",
    "\n",
    "`pip3 install trianglesolver`\n",
    "\n",
    "Når denne er installeret, skal den blot importeres, hvorefter alle funktioner frit kan bruges. Importeringen foregår ligesom med `math` biblioteket.\n",
    "Man ønsker dog normalt ikke at skulle skrive `trianglesolver` hver gang man skal benytte sig af biblioteket. Derfor kan man importere det og give det et kaldenavn, som forkortelse. Python ved så herefter at hver gang man skriver dette kaldenavn, så referere man til `trianglesolver`.\n",
    "\n",
    "For at importere med et kaldenavn, gør man følgende\n",
    "\n",
    "`import trianglesolver as ts`"
   ]
  },
  {
   "cell_type": "code",
   "execution_count": 11,
   "metadata": {
    "execution": {
     "iopub.execute_input": "2020-08-22T20:21:54.687899Z",
     "iopub.status.busy": "2020-08-22T20:21:54.684600Z",
     "iopub.status.idle": "2020-08-22T20:21:54.700158Z",
     "shell.execute_reply": "2020-08-22T20:21:54.702151Z"
    }
   },
   "outputs": [],
   "source": [
    "import trianglesolver as ts"
   ]
  },
  {
   "cell_type": "markdown",
   "metadata": {},
   "source": [
    "`trianglesolver` er nu importeret og alle funktioner er tilgængelige. Når man skal bruge biblioteket, skal man blot referere til det som `ts`. \n",
    "\n",
    "Hvis man vil løse en trekant, skal man som minimum kende tre karakteristiske dele omkring trekanten. Det kan enten være siderne, vinklerne eller nogen af siderne og nogle af vinklerne. Trekanten ABC, har siderne `a=3` og `b=4` og vinkel `C=25 grader` og man skal finde siden c. Denne kan man nu løse med `trianglesolver`. Først skal alle siderne i trekanten defineres, dette kan heldigvis gøres på en enkelt linje. Disse variable skal sættes lig med noget. Altså de skal indeholde et eller andet. I dette tilfælde, skal de indeholde løsningen. For at definere hvordan `trianglesolver` skal finde løsningen, skal man bruge den indbyggede funktion `solve()`. I `solve()` skal man angive de kendte værdier og hvad de er lig med. Se eksemplet nedenfor"
   ]
  },
  {
   "cell_type": "code",
   "execution_count": 12,
   "metadata": {
    "execution": {
     "iopub.execute_input": "2020-08-22T20:21:54.719846Z",
     "iopub.status.busy": "2020-08-22T20:21:54.715380Z",
     "iopub.status.idle": "2020-08-22T20:21:54.723308Z",
     "shell.execute_reply": "2020-08-22T20:21:54.725317Z"
    }
   },
   "outputs": [],
   "source": [
    "a, b, c, A, B, C = ts.solve(a=3, b=4, C=25*ts.degree)"
   ]
  },
  {
   "cell_type": "markdown",
   "metadata": {},
   "source": [
    "Nu er løsningen altså gemt i de 6 variable `a, b, c, A, B, C`. Derved her vi nu alle siderne gemt i `a, b, c` og vinklerne gemt i `A, B, C`. Grunden til at man ganger C værdien med `ts.degree` er, at `trianglesolver` forventer en værdi i radianer, men da opgavens værdi var i grader, skal denne altså konverteres til radianer.\n",
    "\n",
    "Man kan nu få Python til at vise resultatet for siden c. Dette gøres ved blot at skrive c i en celle."
   ]
  },
  {
   "cell_type": "code",
   "execution_count": 13,
   "metadata": {
    "execution": {
     "iopub.execute_input": "2020-08-22T20:21:54.737019Z",
     "iopub.status.busy": "2020-08-22T20:21:54.731958Z",
     "iopub.status.idle": "2020-08-22T20:21:54.747180Z",
     "shell.execute_reply": "2020-08-22T20:21:54.747746Z"
    }
   },
   "outputs": [
    {
     "data": {
      "text/plain": [
       "1.8023909429200986"
      ]
     },
     "execution_count": 13,
     "metadata": {},
     "output_type": "execute_result"
    }
   ],
   "source": [
    "c"
   ]
  },
  {
   "cell_type": "markdown",
   "metadata": {},
   "source": [
    "Side c har altså længden 1,8. Det er vigtigt at huske at Python angiver decimal tal med et `.` og __IKKE__ et `,`. \n",
    "\n",
    "Man kan også få angivet de ukendte vinkler `A` og `B`. Dette gøres på samme måde som ved siden `c`. Dog er resultatet af `A og B` lige nu angivet i radianer, så dette skal omskrives til grader. Dette gøres ved blot at dividere med den samme konstant `ts.degree` som der blev multipliceret med tidligere."
   ]
  },
  {
   "cell_type": "code",
   "execution_count": 14,
   "metadata": {
    "execution": {
     "iopub.execute_input": "2020-08-22T20:21:54.756203Z",
     "iopub.status.busy": "2020-08-22T20:21:54.755205Z",
     "iopub.status.idle": "2020-08-22T20:21:54.764651Z",
     "shell.execute_reply": "2020-08-22T20:21:54.765647Z"
    }
   },
   "outputs": [
    {
     "data": {
      "text/plain": [
       "44.70279717575587"
      ]
     },
     "execution_count": 14,
     "metadata": {},
     "output_type": "execute_result"
    }
   ],
   "source": [
    "A / ts.degree"
   ]
  },
  {
   "cell_type": "code",
   "execution_count": 15,
   "metadata": {
    "execution": {
     "iopub.execute_input": "2020-08-22T20:21:54.777025Z",
     "iopub.status.busy": "2020-08-22T20:21:54.772749Z",
     "iopub.status.idle": "2020-08-22T20:21:54.780515Z",
     "shell.execute_reply": "2020-08-22T20:21:54.780515Z"
    }
   },
   "outputs": [
    {
     "data": {
      "text/plain": [
       "110.29720282424412"
      ]
     },
     "execution_count": 15,
     "metadata": {},
     "output_type": "execute_result"
    }
   ],
   "source": [
    "B / ts.degree"
   ]
  },
  {
   "cell_type": "markdown",
   "metadata": {},
   "source": [
    "`A` har altså en vinkel på 44,7 grader og `B` har en vinkel på 110,3 grader."
   ]
  }
 ],
 "metadata": {
  "kernelspec": {
   "display_name": "Python 3",
   "language": "python",
   "name": "python3"
  },
  "language_info": {
   "codemirror_mode": {
    "name": "ipython",
    "version": 3
   },
   "file_extension": ".py",
   "mimetype": "text/x-python",
   "name": "python",
   "nbconvert_exporter": "python",
   "pygments_lexer": "ipython3",
   "version": "3.7.2"
  }
 },
 "nbformat": 4,
 "nbformat_minor": 2
}
{
 "cells": [
  {
   "cell_type": "markdown",
   "metadata": {},
   "source": [
    "# Typer i Python\n",
    "\n",
    "Som i alle andre programmeringssprog så findes der nogle forskellige typer som et stykke data (som regel en variabel) kan have. Der er ikke så mange typer at holde styr på, i hvert fald ikke i basis syntaxen. Jeg har forsøgt at give et kort overblik over dem her.\n",
    "\n",
    "* Int\n",
    "    * Int er en forkortelse for Integer, hvilket i programmeringsverdenen betyder et hel tal. En Integer type kan være et heltal der både er positivt og negativt. Men det kan __ikke__ være et decimal tal.\n",
    "\n",
    "* Float\n",
    "    * Float er en forkortelse for floating point number, hvilket i programmeringsverdenen betyder et decimal tal. Tallet kan både være positivt og negativt\n",
    "    \n",
    "* Str\n",
    "    * Str er en forkortelse for string, hvilket i programmeringsverdenen blot er en tekst streng.\n",
    "    \n",
    "* Bool\n",
    "    * Bool er en forkortelse for boolean. Boolsk logik er utroligt meget brugt inden for programmeringsverdenen. Det er altså en værdi som enten kan være sand eller falsk.\n",
    "    \n",
    "* Andre typer\n",
    "    * Der findes masser af andre typer i Python og man vil hurtigt opdage at hvert bibliotek man importere, også henter nye typer med sig. De ovenstående typer er de mest basale i Python og dem der er vigtigst and kende."
   ]
  },
  {
   "cell_type": "markdown",
   "metadata": {},
   "source": [
    "## Konvertering af typer\n",
    "\n",
    "Vi kan også gøre det sammen med variable. Vi definere igen `detHerErEnVariabel=15` ligesom i sidste afsnit."
   ]
  },
  {
   "cell_type": "code",
   "execution_count": 1,
   "metadata": {
    "execution": {
     "iopub.execute_input": "2020-08-22T20:21:59.959565Z",
     "iopub.status.busy": "2020-08-22T20:21:59.955503Z",
     "iopub.status.idle": "2020-08-22T20:21:59.970009Z",
     "shell.execute_reply": "2020-08-22T20:21:59.971905Z"
    }
   },
   "outputs": [
    {
     "name": "stdout",
     "output_type": "stream",
     "text": [
      "Det her er vores variable 15\n"
     ]
    }
   ],
   "source": [
    "detHerErEnVariabel = 15\n",
    "\n",
    "print(\"Det her er vores variable \" + str(detHerErEnVariabel))"
   ]
  },
  {
   "cell_type": "markdown",
   "metadata": {},
   "source": [
    "Det er nødvendigt at gøre det på denne måde da Python ikke kan sætte en tekst streng og et tal sammen. Og det er netop det vi gør med det `+` vi har sat i eksemplet ovenfor. Det betyder basalt set at vi konkatenere to tekst strenge sammen. Hvis vi forsøger at gøre det uden `str` funtionen, så får vi en fejl"
   ]
  },
  {
   "cell_type": "code",
   "execution_count": 2,
   "metadata": {
    "execution": {
     "iopub.execute_input": "2020-08-22T20:21:59.983334Z",
     "iopub.status.busy": "2020-08-22T20:21:59.983334Z",
     "iopub.status.idle": "2020-08-22T20:22:00.390508Z",
     "shell.execute_reply": "2020-08-22T20:22:00.384663Z"
    },
    "tags": [
     "raises-exception"
    ]
   },
   "outputs": [
    {
     "ename": "TypeError",
     "evalue": "can only concatenate str (not \"int\") to str",
     "output_type": "error",
     "traceback": [
      "\u001b[1;31m---------------------------------------------------------------------------\u001b[0m",
      "\u001b[1;31mTypeError\u001b[0m                                 Traceback (most recent call last)",
      "\u001b[1;32m<ipython-input-2-b49371dd1c82>\u001b[0m in \u001b[0;36m<module>\u001b[1;34m\u001b[0m\n\u001b[1;32m----> 1\u001b[1;33m \u001b[0mprint\u001b[0m\u001b[1;33m(\u001b[0m\u001b[1;34m\"Det her er vores variable \"\u001b[0m \u001b[1;33m+\u001b[0m \u001b[0mdetHerErEnVariabel\u001b[0m\u001b[1;33m)\u001b[0m\u001b[1;33m\u001b[0m\u001b[1;33m\u001b[0m\u001b[0m\n\u001b[0m",
      "\u001b[1;31mTypeError\u001b[0m: can only concatenate str (not \"int\") to str"
     ]
    }
   ],
   "source": [
    "print(\"Det her er vores variable \" + detHerErEnVariabel)"
   ]
  },
  {
   "cell_type": "markdown",
   "metadata": {},
   "source": [
    "Vi ser ved fejlen at Python fortæller os at en tekst streng ikke kan konkateneres sammen med en `int`, hvilket står for __Integer__. Mens `str` står for __String__.\n",
    "\n",
    "Desuden viser det ovenstående eksempel at det er muligt at benytte variable som er blevet defineret i tidligere celler. Alle variable som bliver defineret i en Notebook er tilgængelige igennem alle celler i hele den Notebook. Eller, det er ikke helt rigtigt, for variablen er kun tilgængelig i celler efter den er blevet defineret. "
   ]
  },
  {
   "cell_type": "markdown",
   "metadata": {},
   "source": [
    "Man kan altid finde ud af hvilken type af variable man arbejder med, ved at bruge funktionen `type()` og indtaste sin variable i parentesen, som set nedenfor."
   ]
  },
  {
   "cell_type": "code",
   "execution_count": 3,
   "metadata": {
    "execution": {
     "iopub.execute_input": "2020-08-22T20:22:00.505173Z",
     "iopub.status.busy": "2020-08-22T20:22:00.499644Z",
     "iopub.status.idle": "2020-08-22T20:22:00.517885Z",
     "shell.execute_reply": "2020-08-22T20:22:00.520103Z"
    }
   },
   "outputs": [
    {
     "data": {
      "text/plain": [
       "int"
      ]
     },
     "execution_count": 3,
     "metadata": {},
     "output_type": "execute_result"
    }
   ],
   "source": [
    "type(detHerErEnVariabel)"
   ]
  },
  {
   "cell_type": "markdown",
   "metadata": {},
   "source": [
    "`detHerErEnVariabel` er typen __Integer__, altså et heltal. Hvilket vi også havde regnet med. Vi kan også regne med decimaltal, i computerens verden er det dog en helt anden mundfuld. Derfor kaldes decimaltal ikke for __Integers__, men istedet for __Float__."
   ]
  },
  {
   "cell_type": "markdown",
   "metadata": {},
   "source": [
    "Kan vi så også konvertere en `int` til en `str`? Ja, selvfølgelig kan vi det. Hvis du tænker dig lidt om, har du nok også allerede svaret på hvordan vi kan gøre det.\n",
    "\n",
    "Lad os sige at vi har følgende tekststreng"
   ]
  },
  {
   "cell_type": "code",
   "execution_count": 4,
   "metadata": {
    "execution": {
     "iopub.execute_input": "2020-08-22T20:22:00.533285Z",
     "iopub.status.busy": "2020-08-22T20:22:00.531852Z",
     "iopub.status.idle": "2020-08-22T20:22:00.539815Z",
     "shell.execute_reply": "2020-08-22T20:22:00.537130Z"
    }
   },
   "outputs": [],
   "source": [
    "tal = \"1000\""
   ]
  },
  {
   "cell_type": "markdown",
   "metadata": {},
   "source": [
    "For det blotte øje ligner det at der bare står tallet 1000. Det gør der sådan set også, men det er af typen `string` fordi vi har puttet to gåseøjne omkring. Så hvis vi forsøger at ligge `tal` sammen med et andet tilfældigt tal, som er defineret som en `int`, så får vi"
   ]
  },
  {
   "cell_type": "code",
   "execution_count": 5,
   "metadata": {
    "execution": {
     "iopub.execute_input": "2020-08-22T20:22:00.557479Z",
     "iopub.status.busy": "2020-08-22T20:22:00.552991Z",
     "iopub.status.idle": "2020-08-22T20:22:00.591083Z",
     "shell.execute_reply": "2020-08-22T20:22:00.585107Z"
    },
    "tags": [
     "raises-exception"
    ]
   },
   "outputs": [
    {
     "ename": "TypeError",
     "evalue": "can only concatenate str (not \"int\") to str",
     "output_type": "error",
     "traceback": [
      "\u001b[1;31m---------------------------------------------------------------------------\u001b[0m",
      "\u001b[1;31mTypeError\u001b[0m                                 Traceback (most recent call last)",
      "\u001b[1;32m<ipython-input-5-c103a0711819>\u001b[0m in \u001b[0;36m<module>\u001b[1;34m\u001b[0m\n\u001b[0;32m      1\u001b[0m \u001b[0mtal2\u001b[0m \u001b[1;33m=\u001b[0m \u001b[1;36m1000\u001b[0m\u001b[1;33m\u001b[0m\u001b[1;33m\u001b[0m\u001b[0m\n\u001b[0;32m      2\u001b[0m \u001b[1;33m\u001b[0m\u001b[0m\n\u001b[1;32m----> 3\u001b[1;33m \u001b[0mprint\u001b[0m\u001b[1;33m(\u001b[0m\u001b[0mtal\u001b[0m \u001b[1;33m+\u001b[0m \u001b[0mtal2\u001b[0m\u001b[1;33m)\u001b[0m\u001b[1;33m\u001b[0m\u001b[1;33m\u001b[0m\u001b[0m\n\u001b[0m",
      "\u001b[1;31mTypeError\u001b[0m: can only concatenate str (not \"int\") to str"
     ]
    }
   ],
   "source": [
    "tal2 = 1000\n",
    "\n",
    "print(tal + tal2)"
   ]
  },
  {
   "cell_type": "markdown",
   "metadata": {},
   "source": [
    "Python tror altså vi forsøger at lave det der hedder __String konkatenering__. Hvor man simpelthen ligger to `str` typer sammen. Men det er jo ikke det vi vil. Derfor skal vi først konveretere `tal` variablen til en `int` type. Det gør vi ved"
   ]
  },
  {
   "cell_type": "code",
   "execution_count": 6,
   "metadata": {
    "execution": {
     "iopub.execute_input": "2020-08-22T20:22:00.706923Z",
     "iopub.status.busy": "2020-08-22T20:22:00.703684Z",
     "iopub.status.idle": "2020-08-22T20:22:00.714548Z",
     "shell.execute_reply": "2020-08-22T20:22:00.716598Z"
    }
   },
   "outputs": [
    {
     "name": "stdout",
     "output_type": "stream",
     "text": [
      "2000\n"
     ]
    }
   ],
   "source": [
    "print(int(tal) + tal2)"
   ]
  },
  {
   "cell_type": "markdown",
   "metadata": {},
   "source": [
    "Så får vi det rigtige resultat!"
   ]
  },
  {
   "cell_type": "markdown",
   "metadata": {},
   "source": [
    "## Ekstra for sjov\n",
    "\n",
    "Det næste her er ikke nødvendig læsning for at kunne benytte Python til matematiske formål. Men jeg synes at det er rart nok lige at komme ind på hvad __String konkatenering__ egentlig er, nu hvor jeg nævnte det. \n",
    "\n",
    "Det foregår ved at man kan ligge to `str` typer sammen. Det vil sige at hvis vi konvertere `tal2` til en `str` i stedet for at konvertere `tal` til en `int`, så kan vi stadig ligge dem sammen."
   ]
  },
  {
   "cell_type": "code",
   "execution_count": 7,
   "metadata": {
    "execution": {
     "iopub.execute_input": "2020-08-22T20:22:00.729883Z",
     "iopub.status.busy": "2020-08-22T20:22:00.726890Z",
     "iopub.status.idle": "2020-08-22T20:22:00.734447Z",
     "shell.execute_reply": "2020-08-22T20:22:00.736134Z"
    }
   },
   "outputs": [
    {
     "name": "stdout",
     "output_type": "stream",
     "text": [
      "10001000\n"
     ]
    }
   ],
   "source": [
    "print(tal + str(tal2))"
   ]
  },
  {
   "cell_type": "markdown",
   "metadata": {},
   "source": [
    "Som vi kan se, betyder konkatenering blot at vi lægger den ene tekststreng lige bagved den anden."
   ]
  },
  {
   "cell_type": "code",
   "execution_count": null,
   "metadata": {},
   "outputs": [],
   "source": []
  }
 ],
 "metadata": {
  "celltoolbar": "Tags",
  "kernelspec": {
   "display_name": "Python 3",
   "language": "python",
   "name": "python3"
  },
  "language_info": {
   "codemirror_mode": {
    "name": "ipython",
    "version": 3
   },
   "file_extension": ".py",
   "mimetype": "text/x-python",
   "name": "python",
   "nbconvert_exporter": "python",
   "pygments_lexer": "ipython3",
   "version": "3.7.2"
  }
 },
 "nbformat": 4,
 "nbformat_minor": 2
}
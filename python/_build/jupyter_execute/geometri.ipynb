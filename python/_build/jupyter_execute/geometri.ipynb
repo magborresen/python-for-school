{
 "cells": [
  {
   "cell_type": "markdown",
   "metadata": {},
   "source": [
    "# Geometri\n",
    "\n",
    "Nu begynder vi at skulle have det lidt sjovt. For geometri består hovedsageligt at nemme regne metoder, som multiplikation og division. Men det kan være en god måde at lære at lave sine egne Python funktioner på. Det kan være svært at huske alle de forskellige formler til udregning af f.eks. Arealer af geometriske figurer. Derfor kunne det være fedt hvis vi kunne lave en funktion, der tager et parametre ind og spytter resultatet ud til os. Udover at lære eleverne hvordan en Python funktion fungere, giver det måske også en bedre forståelse af hvordan selve matematikken fungere.\n",
    "\n",
    "Så lad os prøve at dykke ned i det. Vi kommer ikke rigtigt til at have brug for nogle biblioteker til at hjælpe os med udregninger i første omgang. Lad os derfor, starte med at kigge på hvordan man definere en Python funktion.\n",
    "\n",
    "## Find areal af retvinklet trekant\n",
    "\n",
    "Man bruger syntaxen `def` til at fortælle, at nu starter jeg en ny definition af en funktion. Dette er efterfulgt af et mellemrum og så et funktionsnavn. Hvis jeg ville lave en funktion der kunne udregne areal af en retvinklet trekant, ville jeg måske kalde den for `areal_retvinklet`. Min funktionsdefinition ville derfor være `def areal_retvinklet()`.\n",
    "\n",
    "Nu tænker du sikkert hvad de to parenteser i enden laver der og det er også et godt spørgsmål. De er meget vigtige i forhold til at skulle lave udregningen. For hvad for nogle parametre skal man kende for at kunne udregne arealet af en retvinklet trekant? Nemlig, man skal bruge højde og grundlinje. Disse to enheder skal vi bruge som parametre i vores funktion og det er dem som vi skal definere inde i vores parenteser. Så det kunne f.eks. være `def areal_retvinklet(hojde, grundlinje)`. Dette fortæller Python, at når nogen forsøger at bruge funktionen `areal_retvinklet`, så skal de angive en højde og en grundlinje. Ellers vil funktionen give en fejl.\n",
    "\n",
    "Lad os prøve bare at definere en tom funktion."
   ]
  },
  {
   "cell_type": "code",
   "execution_count": 1,
   "metadata": {
    "execution": {
     "iopub.execute_input": "2020-08-22T20:21:26.503339Z",
     "iopub.status.busy": "2020-08-22T20:21:26.494621Z",
     "iopub.status.idle": "2020-08-22T20:21:26.515984Z",
     "shell.execute_reply": "2020-08-22T20:21:26.523428Z"
    }
   },
   "outputs": [],
   "source": [
    "def areal_retvinklet(hojde, grundlinje):\n",
    "    return hojde, grundlinje"
   ]
  },
  {
   "cell_type": "markdown",
   "metadata": {},
   "source": [
    "Vi har nu defineret en funktion der hedder `areal_retvinklet` som tager en højde og en grundlinje værdi ind og spytter værdierne direkte ud igen. Så hvis vi forsøger at bruge funktionen så får vi"
   ]
  },
  {
   "cell_type": "code",
   "execution_count": 2,
   "metadata": {
    "execution": {
     "iopub.execute_input": "2020-08-22T20:21:26.588148Z",
     "iopub.status.busy": "2020-08-22T20:21:26.553496Z",
     "iopub.status.idle": "2020-08-22T20:21:26.606237Z",
     "shell.execute_reply": "2020-08-22T20:21:26.606237Z"
    }
   },
   "outputs": [
    {
     "data": {
      "text/plain": [
       "(5, 10)"
      ]
     },
     "execution_count": 2,
     "metadata": {},
     "output_type": "execute_result"
    }
   ],
   "source": [
    "areal_retvinklet(5, 10)"
   ]
  },
  {
   "cell_type": "markdown",
   "metadata": {},
   "source": [
    "Altså får vi som forventet bare det samme ud, som vi smed ind. `5` repræsentere værdien for højden og `10` repræsentere værdien for grundlinjen. Vi kan bruge funktionen i hvilken som helst celle, så længe den celle vi benytter funktionen i, ligger efter den celle hvor funktionen er defineret.\n",
    "\n",
    "Men vi skal altså have udregnet arealet af denne her trekant der har en højde af `5` og en grundlinje af `10`.\n",
    "\n",
    "Formlen for at udregne areal af en retvinklet trekant kender vi alle som $\\frac{1}{2} \\cdot højde \\cdot grundlinje$\n",
    "\n",
    "Så vi kan jo skrive denne formel ind i vores funktion. Det gør vi over den linje hvor der står `return hojde, grundlinje`. Lad os putte resultatet af udregningen ned i en variabel, som vi kalder for `areal`."
   ]
  },
  {
   "cell_type": "code",
   "execution_count": 3,
   "metadata": {
    "execution": {
     "iopub.execute_input": "2020-08-22T20:21:26.636607Z",
     "iopub.status.busy": "2020-08-22T20:21:26.631403Z",
     "iopub.status.idle": "2020-08-22T20:21:26.658106Z",
     "shell.execute_reply": "2020-08-22T20:21:26.653821Z"
    }
   },
   "outputs": [],
   "source": [
    "def areal_retvinklet(hojde, grundlinje):\n",
    "    areal = 1/2 * hojde * grundlinje\n",
    "    return hojde, grundlinje"
   ]
  },
  {
   "cell_type": "markdown",
   "metadata": {},
   "source": [
    "Hvad sker der så nu, hvis vi igen forsøger at benytte funktionen?"
   ]
  },
  {
   "cell_type": "code",
   "execution_count": 4,
   "metadata": {
    "execution": {
     "iopub.execute_input": "2020-08-22T20:21:26.674027Z",
     "iopub.status.busy": "2020-08-22T20:21:26.671958Z",
     "iopub.status.idle": "2020-08-22T20:21:26.713312Z",
     "shell.execute_reply": "2020-08-22T20:21:26.716297Z"
    }
   },
   "outputs": [
    {
     "data": {
      "text/plain": [
       "(5, 10)"
      ]
     },
     "execution_count": 4,
     "metadata": {},
     "output_type": "execute_result"
    }
   ],
   "source": [
    "areal_retvinklet(5, 10)"
   ]
  },
  {
   "cell_type": "markdown",
   "metadata": {},
   "source": [
    "Øv... Vi får stadig bare vores input ud som output. Men hov, hvad betyder `return` egentlig? `return` er det som en Python funktion returnere. Når Python læser `return` så antager den at funktionen er slut og værdien der returneres kastes ud som output. Det er ikke strengt nødvendigt at benytte `return` i en Python funktion. Men i programmeringsverdenen er det anset for at være god praksis.\n",
    "\n",
    "Så vi skal have ændret vores returneringsværdi. Heldigvis proppede vi resultatet af vores udregning ned i en variabel. Så hvad nu hvis vi bare returnere `areal` i stedet?"
   ]
  },
  {
   "cell_type": "code",
   "execution_count": 5,
   "metadata": {
    "execution": {
     "iopub.execute_input": "2020-08-22T20:21:26.725108Z",
     "iopub.status.busy": "2020-08-22T20:21:26.725108Z",
     "iopub.status.idle": "2020-08-22T20:21:26.734342Z",
     "shell.execute_reply": "2020-08-22T20:21:26.736003Z"
    }
   },
   "outputs": [],
   "source": [
    "def areal_retvinklet(hojde, grundlinje):\n",
    "    areal = 1/2 * hojde * grundlinje\n",
    "    return areal"
   ]
  },
  {
   "cell_type": "markdown",
   "metadata": {},
   "source": [
    "Lad os prøve at benytte funktionen igen."
   ]
  },
  {
   "cell_type": "code",
   "execution_count": 6,
   "metadata": {
    "execution": {
     "iopub.execute_input": "2020-08-22T20:21:26.747521Z",
     "iopub.status.busy": "2020-08-22T20:21:26.745721Z",
     "iopub.status.idle": "2020-08-22T20:21:26.754367Z",
     "shell.execute_reply": "2020-08-22T20:21:26.754367Z"
    }
   },
   "outputs": [
    {
     "data": {
      "text/plain": [
       "25.0"
      ]
     },
     "execution_count": 6,
     "metadata": {},
     "output_type": "execute_result"
    }
   ],
   "source": [
    "areal_retvinklet(5, 10)"
   ]
  },
  {
   "cell_type": "markdown",
   "metadata": {},
   "source": [
    "Det ser mere rigtigt ud! Og vi kan hurtigt bekræfte med vores egen regning i hånden at arealet af en retvinklet trekant med højden 5 og grundlinje 10 __er__ 25. "
   ]
  },
  {
   "cell_type": "markdown",
   "metadata": {},
   "source": [
    "## Areal af cirkel"
   ]
  },
  {
   "cell_type": "markdown",
   "metadata": {},
   "source": [
    "Okay, areal af en trekant er ret nem. Men der findes jo selvfølgelig en geometrisk figur som er en lidt hårdere nød at knække, nemlig cirklen. For her skal vi både af noget til at stå i anden og samtidigt skal vi også bruge $\\pi$. Så selvom jeg i starten lovede at vi ikke skulle bruge nogle biblioteker, så kan jeg ikke helt holde den alligevel. \n",
    "\n",
    "Vi kan heldigvis nøjes med bare at bruge det standard `math` bibliotek i Python, som giver os alt den funktionalitet vi skal bruge, og mere til. \n",
    "\n",
    "Men vi skal have lavet en funktion igen som kan lave udregningen for arealet af en cirkel, som vi selvfølgelig allesammen kender som $\\pi \\cdot r^2$.\n",
    "\n",
    "Vi skal derfor bruge en funktion der kan tage radiun ind som en parameter og spytte resultatet ud i form af cirklen areal. Lad os prøve at lave en funktion der hedder `areal_cirkel`."
   ]
  },
  {
   "cell_type": "code",
   "execution_count": 7,
   "metadata": {
    "execution": {
     "iopub.execute_input": "2020-08-22T20:21:26.764774Z",
     "iopub.status.busy": "2020-08-22T20:21:26.763775Z",
     "iopub.status.idle": "2020-08-22T20:21:26.774305Z",
     "shell.execute_reply": "2020-08-22T20:21:26.775688Z"
    }
   },
   "outputs": [],
   "source": [
    "def areal_cirkel(radius):\n",
    "    return radius"
   ]
  },
  {
   "cell_type": "markdown",
   "metadata": {},
   "source": [
    "Vi har nu fået defineret funktionen. Men ligesom før, vil den bare spytte sit input ud som output. Så vi skal have sat radius i anden og ganget den med $\\pi$. Så lad os derfor lige få importeret $\\pi$."
   ]
  },
  {
   "cell_type": "code",
   "execution_count": 8,
   "metadata": {
    "execution": {
     "iopub.execute_input": "2020-08-22T20:21:26.786340Z",
     "iopub.status.busy": "2020-08-22T20:21:26.781354Z",
     "iopub.status.idle": "2020-08-22T20:21:26.790049Z",
     "shell.execute_reply": "2020-08-22T20:21:26.790049Z"
    }
   },
   "outputs": [],
   "source": [
    "from math import pi"
   ]
  },
  {
   "cell_type": "markdown",
   "metadata": {},
   "source": [
    "Nu kan vi frit bruge `pi` som om det bare var et normalt tal. Vi kan endda se hvor mange decimaler Python har på $\\pi$."
   ]
  },
  {
   "cell_type": "code",
   "execution_count": 9,
   "metadata": {
    "execution": {
     "iopub.execute_input": "2020-08-22T20:21:26.800826Z",
     "iopub.status.busy": "2020-08-22T20:21:26.798831Z",
     "iopub.status.idle": "2020-08-22T20:21:26.808836Z",
     "shell.execute_reply": "2020-08-22T20:21:26.808836Z"
    }
   },
   "outputs": [
    {
     "data": {
      "text/plain": [
       "3.141592653589793"
      ]
     },
     "execution_count": 9,
     "metadata": {},
     "output_type": "execute_result"
    }
   ],
   "source": [
    "pi"
   ]
  },
  {
   "cell_type": "markdown",
   "metadata": {},
   "source": [
    "Okay, så langt så godt. Nu har vi $\\pi$ klar. Nu skal vi bare have fundet ud af hvordan vi sætter radius i anden. I python kan man opløfte et tal ved at bruge operatoren `**`, altså to gangetegn lige efter hinanden. Fordi vi skal have sat radius i anden, så kan vi bruge `radius**2`.\n",
    "\n",
    "Lad os prøve at smide det ind i vores funktion. Ligesom før, så gemmer vi resultatet i variablen `areal`"
   ]
  },
  {
   "cell_type": "code",
   "execution_count": 10,
   "metadata": {
    "execution": {
     "iopub.execute_input": "2020-08-22T20:21:26.820307Z",
     "iopub.status.busy": "2020-08-22T20:21:26.815292Z",
     "iopub.status.idle": "2020-08-22T20:21:26.825451Z",
     "shell.execute_reply": "2020-08-22T20:21:26.826765Z"
    }
   },
   "outputs": [],
   "source": [
    "def areal_cirkel(radius):\n",
    "    areal = radius**2 * pi\n",
    "    return areal"
   ]
  },
  {
   "cell_type": "markdown",
   "metadata": {},
   "source": [
    "Hvad sker der så hvis vi prøver at bruge funktionen nu? Vi giver den en radius på `5` og ser hvad vi får ud."
   ]
  },
  {
   "cell_type": "code",
   "execution_count": 11,
   "metadata": {
    "execution": {
     "iopub.execute_input": "2020-08-22T20:21:26.836994Z",
     "iopub.status.busy": "2020-08-22T20:21:26.831890Z",
     "iopub.status.idle": "2020-08-22T20:21:26.845996Z",
     "shell.execute_reply": "2020-08-22T20:21:26.845996Z"
    }
   },
   "outputs": [
    {
     "data": {
      "text/plain": [
       "78.53981633974483"
      ]
     },
     "execution_count": 11,
     "metadata": {},
     "output_type": "execute_result"
    }
   ],
   "source": [
    "areal_cirkel(5)"
   ]
  },
  {
   "cell_type": "markdown",
   "metadata": {},
   "source": [
    "Jamen det ser jo helt rigtigt ud!."
   ]
  },
  {
   "cell_type": "markdown",
   "metadata": {},
   "source": [
    "## Arealet af en trapez\n",
    "\n",
    "Selvom arealet for en trapez er relativt nemt at regne, så er der alligevel en del skridt involveret. Man skal først have delt trapezen op i to trekanter og finde arealet af disse. Derefter lægges de to arealer sammen. Vi kan selvfølgelig bare sætte ting udenfor parantes og få formlen $A = \\frac{1}{2} \\cdot h \\cdot (a_1 + a_2)$. Hvor $a_1$ og $a_2$ er de parallele sider i trapezen og $h$ er højden.\n",
    "\n",
    "Men hvad nu hvis vi kunne lave en funktion, der tager de to parallele sider samt højden som parameter og kører hele smøren igennem. Altså, deler trapezen op i to trekanter, finde arealet af disse og til sidst beregne arealet af trapezen. Det giver måske et bedre overblik over hvordan den tidligere formel opstår.\n",
    "\n",
    "Så lad os prøve det engang. Vi laver en funktion der hedder `areal_trapez(a1, a2, h)`. Den tager 3 parametre ind, længden af de to parallelle sider `a1` og `a2`, samt højden `h`."
   ]
  },
  {
   "cell_type": "code",
   "execution_count": 12,
   "metadata": {
    "execution": {
     "iopub.execute_input": "2020-08-22T20:21:26.861716Z",
     "iopub.status.busy": "2020-08-22T20:21:26.856557Z",
     "iopub.status.idle": "2020-08-22T20:21:26.873410Z",
     "shell.execute_reply": "2020-08-22T20:21:26.875957Z"
    }
   },
   "outputs": [],
   "source": [
    "def areal_trapez(a1, a2, h):\n",
    "    # Vi udregner først arealet af den ene trekant og gemmer den i variablen t1\n",
    "    t1 = 1/2 * h * a1\n",
    "    \n",
    "    # Print arealet af t1\n",
    "    print(\"Arealet af trekant 1 er: \" + str(t1))\n",
    "    \n",
    "    # Nu beregner vi arealet af den anden trekant og gemmer den i variablen t2\n",
    "    t2 = 1/2 * h * a2\n",
    "    \n",
    "    # Print arealet af t2\n",
    "    print(\"Arealet af trekant 2 er: \" + str(t2))\n",
    "    \n",
    "    # Nu kan vi ligge de to tal sammen og gemme dem i variablen areal\n",
    "    areal = t1 + t2\n",
    "    \n",
    "    # Print arealet af trapzen\n",
    "    print(\"Arealet af trapzen er: \" + str(areal))"
   ]
  },
  {
   "cell_type": "markdown",
   "metadata": {},
   "source": [
    "I denne funktion har vi ingen `return` værdi, som nævnt tidligere er det heller ikke nødvendigt for at en funktion fungere. På et højere kode niveau bliver det dog set som normalt at man bruger en `return` værdi i sine funktioner. Men det er slet ikke det niveau vi er på endnu.\n",
    "\n",
    "Lad os prøve at se om vores areal funktion virker"
   ]
  },
  {
   "cell_type": "code",
   "execution_count": 13,
   "metadata": {
    "execution": {
     "iopub.execute_input": "2020-08-22T20:21:26.893277Z",
     "iopub.status.busy": "2020-08-22T20:21:26.889254Z",
     "iopub.status.idle": "2020-08-22T20:21:26.912021Z",
     "shell.execute_reply": "2020-08-22T20:21:26.916531Z"
    }
   },
   "outputs": [
    {
     "name": "stdout",
     "output_type": "stream",
     "text": [
      "Arealet af trekant 1 er: 0.5\n",
      "Arealet af trekant 2 er: 1.0\n",
      "Arealet af trapzen er: 1.5\n"
     ]
    }
   ],
   "source": [
    "areal_trapez(1, 2, 1)"
   ]
  },
  {
   "cell_type": "markdown",
   "metadata": {},
   "source": [
    "Som vi kan se, får vi alle resultaterne printet som vi har bedt om og de ser alle korrekte ud!"
   ]
  }
 ],
 "metadata": {
  "kernelspec": {
   "display_name": "Python 3",
   "language": "python",
   "name": "python3"
  },
  "language_info": {
   "codemirror_mode": {
    "name": "ipython",
    "version": 3
   },
   "file_extension": ".py",
   "mimetype": "text/x-python",
   "name": "python",
   "nbconvert_exporter": "python",
   "pygments_lexer": "ipython3",
   "version": "3.7.2"
  }
 },
 "nbformat": 4,
 "nbformat_minor": 2
}
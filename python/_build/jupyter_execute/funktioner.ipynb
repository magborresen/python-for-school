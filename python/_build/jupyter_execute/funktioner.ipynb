{
 "cells": [
  {
   "cell_type": "markdown",
   "metadata": {},
   "source": [
    "## Funktioner\n",
    "\n",
    "En af de vigtigste aspekter i matematikken er funktioner. Så det er uden tvivl vigtigt at vores værktøjer kan finde ud af at arbejde med funktion. Det kan vores yndlingsværktøj `sympy` heldigvis langt hen ad vejen. Jeg vil undlade at gennemgå formler for forskellige funktioner, for det er ikke det der er meningen med denne note. Jeg vil i stedet gå igennem hvilke værktøjer `sympy` giver os til at arbejde med funktioner og hvordan de bruges."
   ]
  },
  {
   "cell_type": "markdown",
   "metadata": {},
   "source": [
    "### Hældningskoefficienter\n",
    "\n",
    "Jeg har tidligere vist hvordan man kan lave sine egne Python funktioner til at lave udregninger for sig. Det kan man selvfølgelig også gøre når man skal udregne sådan noget som hældningskoefficienter, til forskellige former for funktioner. Jeg vil nedenfor vise hvordan man kan lave en funktion der kan finde hældningskoefficienten for en lineær funktion, når man bliver givet to punkter. Jeg vil lade det være optil læseren selv at find på hvordan man kan gøre det til andre funktionstyper."
   ]
  },
  {
   "cell_type": "code",
   "execution_count": 1,
   "metadata": {
    "execution": {
     "iopub.execute_input": "2020-07-13T15:57:13.349190Z",
     "iopub.status.busy": "2020-07-13T15:57:13.348155Z",
     "iopub.status.idle": "2020-07-13T15:57:13.352187Z",
     "shell.execute_reply": "2020-07-13T15:57:13.352187Z"
    }
   },
   "outputs": [],
   "source": [
    "# Først defineres funktionen\n",
    "def lin_finder(x1, y1, x2, y2):\n",
    "    # Der defineres en variabel som indeholder resultatet af udregningen for hældningkoefficienten.\n",
    "    resultat = (y2-y1)/(x2-x1)\n",
    "    \n",
    "    #Resultatet printes efterfølgende på skærmen\n",
    "    print (\"Hældningskoefficienten er: \" + str(resultat))"
   ]
  },
  {
   "cell_type": "markdown",
   "metadata": {},
   "source": [
    "Det er en meget nem funktion, og størstedelen af tiden vil det nok give mere mening, bare at lave udregningen for sig selv i en enkelt celle. Men ikke desto mindre, kan vi jo nu prøve den af."
   ]
  },
  {
   "cell_type": "code",
   "execution_count": 2,
   "metadata": {
    "execution": {
     "iopub.execute_input": "2020-07-13T15:57:13.358133Z",
     "iopub.status.busy": "2020-07-13T15:57:13.357171Z",
     "iopub.status.idle": "2020-07-13T15:57:13.364112Z",
     "shell.execute_reply": "2020-07-13T15:57:13.365109Z"
    }
   },
   "outputs": [
    {
     "name": "stdout",
     "output_type": "stream",
     "text": [
      "Hældningskoefficienten er: 1.75\n"
     ]
    }
   ],
   "source": [
    "lin_finder(1, 0.5, 3, 4)"
   ]
  },
  {
   "cell_type": "markdown",
   "metadata": {},
   "source": [
    "Det virker jo helt som det skal"
   ]
  },
  {
   "cell_type": "markdown",
   "metadata": {},
   "source": [
    "### Differentiering\n",
    "\n",
    "Det er selvfølgelig vigtigt at vores CAS værktøj kan finde ud af at differentiere funktioner. Det er jo en stor del af matematikken, og heldigvis kan vi prise os lykkelige med, at det ikke er noget problem for `sympy`. Vi skal, som altid, blot importere funktionaliteten først. Den funktion vi skal importere hedder `diff()`. Før vi kan gøre det skal vi dog altid lige huske at importere vores variable ind med også. Vi vil bruge variabel navnet `x` i det her tilfælde."
   ]
  },
  {
   "cell_type": "code",
   "execution_count": 3,
   "metadata": {
    "execution": {
     "iopub.execute_input": "2020-07-13T15:57:13.370137Z",
     "iopub.status.busy": "2020-07-13T15:57:13.370137Z",
     "iopub.status.idle": "2020-07-13T15:57:15.674046Z",
     "shell.execute_reply": "2020-07-13T15:57:15.673050Z"
    }
   },
   "outputs": [],
   "source": [
    "from sympy import diff\n",
    "from sympy.abc import x"
   ]
  },
  {
   "cell_type": "markdown",
   "metadata": {},
   "source": [
    "Vi kan nu differentiere alle de funktioner vi overhovedet kan komme i tanke om, så lad os prøve det af. Vi vil prøve at differentiere den velkendte funktion $x^2$."
   ]
  },
  {
   "cell_type": "code",
   "execution_count": 4,
   "metadata": {
    "execution": {
     "iopub.execute_input": "2020-07-13T15:57:15.681028Z",
     "iopub.status.busy": "2020-07-13T15:57:15.680030Z",
     "iopub.status.idle": "2020-07-13T15:57:15.990212Z",
     "shell.execute_reply": "2020-07-13T15:57:15.991240Z"
    }
   },
   "outputs": [
    {
     "data": {
      "text/latex": [
       "$\\displaystyle 2 x$"
      ],
      "text/plain": [
       "2*x"
      ]
     },
     "execution_count": 4,
     "metadata": {},
     "output_type": "execute_result"
    }
   ],
   "source": [
    "diff(x**2, x)"
   ]
  },
  {
   "cell_type": "markdown",
   "metadata": {},
   "source": [
    "Fedt, det giver os jo ingen problemer. I `diff()` funktionen definere vi altså først hvilken matematisk funktion vi gerne vil differentiere. Efterfølgende sætter vi et komma og definere hvilken variabel vi gerne vil differentiere med hensyn til. Nu vil den hurtige læser så spørge \"Betyder det at vi kan differentiere funktion med flere variable?\", og ja, det gør det. Det er nok ikke super relevant på gymnasieniveau, men nu får i den med nu hvor vi alligvel er i gang. \n",
    "\n",
    "For at differentiere funktione $x^2+y^2$ i forhold til $y$, skal vi altså blot efter kommaet, specificere at det er `y` der skal differentieres i forhold til.\n",
    "\n",
    "Vi skal huske at importere `y` fra sympy inden vi forsøger at differentiere."
   ]
  },
  {
   "cell_type": "code",
   "execution_count": 5,
   "metadata": {
    "execution": {
     "iopub.execute_input": "2020-07-13T15:57:16.003175Z",
     "iopub.status.busy": "2020-07-13T15:57:16.002168Z",
     "iopub.status.idle": "2020-07-13T15:57:16.007156Z",
     "shell.execute_reply": "2020-07-13T15:57:16.007156Z"
    }
   },
   "outputs": [
    {
     "data": {
      "text/latex": [
       "$\\displaystyle 2 y$"
      ],
      "text/plain": [
       "2*y"
      ]
     },
     "execution_count": 5,
     "metadata": {},
     "output_type": "execute_result"
    }
   ],
   "source": [
    "from sympy.abc import y\n",
    "\n",
    "diff(x**2+y**2, y)"
   ]
  },
  {
   "cell_type": "markdown",
   "metadata": {},
   "source": [
    "Og så er der differentieret i forhold til `y`. \n",
    "\n",
    "Vi kan selvfølgelig altid gemme resultatet for vores differentierede funktion i en variabel, så vi kan bruge det senere."
   ]
  },
  {
   "cell_type": "code",
   "execution_count": 6,
   "metadata": {
    "execution": {
     "iopub.execute_input": "2020-07-13T15:57:16.014138Z",
     "iopub.status.busy": "2020-07-13T15:57:16.012143Z",
     "iopub.status.idle": "2020-07-13T15:57:16.017129Z",
     "shell.execute_reply": "2020-07-13T15:57:16.017129Z"
    }
   },
   "outputs": [],
   "source": [
    "differentiale = diff(x**2, x)"
   ]
  },
  {
   "cell_type": "markdown",
   "metadata": {},
   "source": [
    "Nu kan vi så bruge denne nye variabel i hvilken som helst celle vi vil. Den skal dog komme efter den celle hvor vi definerede variablen (Cellen over denne)."
   ]
  },
  {
   "cell_type": "code",
   "execution_count": 7,
   "metadata": {
    "execution": {
     "iopub.execute_input": "2020-07-13T15:57:16.024110Z",
     "iopub.status.busy": "2020-07-13T15:57:16.023112Z",
     "iopub.status.idle": "2020-07-13T15:57:16.028099Z",
     "shell.execute_reply": "2020-07-13T15:57:16.029096Z"
    }
   },
   "outputs": [
    {
     "data": {
      "text/latex": [
       "$\\displaystyle 2 x$"
      ],
      "text/plain": [
       "2*x"
      ]
     },
     "execution_count": 7,
     "metadata": {},
     "output_type": "execute_result"
    }
   ],
   "source": [
    "differentiale"
   ]
  },
  {
   "cell_type": "markdown",
   "metadata": {},
   "source": [
    "Vi kan også anvende den i efterfølgende beregninger."
   ]
  },
  {
   "cell_type": "code",
   "execution_count": 8,
   "metadata": {
    "execution": {
     "iopub.execute_input": "2020-07-13T15:57:16.036078Z",
     "iopub.status.busy": "2020-07-13T15:57:16.035081Z",
     "iopub.status.idle": "2020-07-13T15:57:16.041066Z",
     "shell.execute_reply": "2020-07-13T15:57:16.042062Z"
    }
   },
   "outputs": [
    {
     "data": {
      "text/latex": [
       "$\\displaystyle 4 x$"
      ],
      "text/plain": [
       "4*x"
      ]
     },
     "execution_count": 8,
     "metadata": {},
     "output_type": "execute_result"
    }
   ],
   "source": [
    "# Vi ganger resultatet af differentiale variablen med 2.\n",
    "differentiale * 2"
   ]
  },
  {
   "cell_type": "markdown",
   "metadata": {},
   "source": [
    "### Integration\n",
    "\n",
    "Når vi kan differentiere, bliver vi selvfølgelig også nød til at kunne integrere. Den opgave klarer `sympy` også uden problemer. Vi skal igen blot lige importere en funktion der kan hjælpe os. Integrations funktionen i `sympy` hedder `integrate()`. Den kan vi lige importere hurtigt."
   ]
  },
  {
   "cell_type": "code",
   "execution_count": 9,
   "metadata": {
    "execution": {
     "iopub.execute_input": "2020-07-13T15:57:16.048086Z",
     "iopub.status.busy": "2020-07-13T15:57:16.047049Z",
     "iopub.status.idle": "2020-07-13T15:57:16.051041Z",
     "shell.execute_reply": "2020-07-13T15:57:16.052037Z"
    }
   },
   "outputs": [],
   "source": [
    "from sympy import integrate"
   ]
  },
  {
   "cell_type": "markdown",
   "metadata": {},
   "source": [
    "Vi kan nu integrere alle de funktioner vi vil. Lad os prøve med at integrere den samme funktion som vi differentierede før, nemlig $x^2$."
   ]
  },
  {
   "cell_type": "code",
   "execution_count": 10,
   "metadata": {
    "execution": {
     "iopub.execute_input": "2020-07-13T15:57:16.058022Z",
     "iopub.status.busy": "2020-07-13T15:57:16.057022Z",
     "iopub.status.idle": "2020-07-13T15:57:16.091932Z",
     "shell.execute_reply": "2020-07-13T15:57:16.092926Z"
    }
   },
   "outputs": [
    {
     "data": {
      "text/latex": [
       "$\\displaystyle \\frac{x^{3}}{3}$"
      ],
      "text/plain": [
       "x**3/3"
      ]
     },
     "execution_count": 10,
     "metadata": {},
     "output_type": "execute_result"
    }
   ],
   "source": [
    "integrate(x**2, x)"
   ]
  },
  {
   "cell_type": "markdown",
   "metadata": {},
   "source": [
    "Det giver altså ingen problemer. Vi kan integrere hvilke som helst funktion, som et helt almindeligt CAS program også kan integrere. Hvad nu hvis vi skal integrere med grænseværdier? Jamen det er selvfølgelig stadig dejligt nemt. Vi skal blot definere dem i en parentes sammen med den variabel der skal integreres med hensyn til. Hvis vi vil integrere den tidligere funktion $x^2$ fra $0$ til $\\infty$, kommer det til at se ud som nedenstående."
   ]
  },
  {
   "cell_type": "code",
   "execution_count": 11,
   "metadata": {
    "execution": {
     "iopub.execute_input": "2020-07-13T15:57:16.148777Z",
     "iopub.status.busy": "2020-07-13T15:57:16.137806Z",
     "iopub.status.idle": "2020-07-13T15:57:16.373175Z",
     "shell.execute_reply": "2020-07-13T15:57:16.373175Z"
    }
   },
   "outputs": [
    {
     "data": {
      "text/latex": [
       "$\\displaystyle \\infty$"
      ],
      "text/plain": [
       "oo"
      ]
     },
     "execution_count": 11,
     "metadata": {},
     "output_type": "execute_result"
    }
   ],
   "source": [
    "# Vi skal lige have importeret uendelig\n",
    "from sympy import oo\n",
    "\n",
    "# Nu kan integralet udregnes\n",
    "integrate(x**2, (x, 0, oo))"
   ]
  },
  {
   "cell_type": "markdown",
   "metadata": {},
   "source": [
    "Som det ses ovenfor, kan `sympy` sagtens finde ud af at arbejde med $\\infty$. Det skal blot importeres først, ligesom det meste andet funktionalitet. Herefter udregner vi integralet. Efter vi definere hvilken funktion der ønskes integreret, indsætter vi et par parenteser hvor vi definere variabel, nedre grænse og øvre grænse. Og som vi kan se, er vores resultat totalt valid."
   ]
  },
  {
   "cell_type": "markdown",
   "metadata": {},
   "source": [
    "Som vi så tidligere med differentialet, kan vi selvfølgelig også gemme resultatet af vores integrale funktion i en variabel. "
   ]
  },
  {
   "cell_type": "code",
   "execution_count": 12,
   "metadata": {
    "execution": {
     "iopub.execute_input": "2020-07-13T15:57:16.380199Z",
     "iopub.status.busy": "2020-07-13T15:57:16.379162Z",
     "iopub.status.idle": "2020-07-13T15:57:16.383152Z",
     "shell.execute_reply": "2020-07-13T15:57:16.384149Z"
    }
   },
   "outputs": [],
   "source": [
    "integrale = integrate(x**2, x)"
   ]
  },
  {
   "cell_type": "markdown",
   "metadata": {},
   "source": [
    "Nu kan vi bruge vores variabel `integrale` lige når vi ville, så længe at vi bruger den i en celle der kommer efter den vi har defineret variablen i. "
   ]
  },
  {
   "cell_type": "code",
   "execution_count": 13,
   "metadata": {
    "execution": {
     "iopub.execute_input": "2020-07-13T15:57:16.390132Z",
     "iopub.status.busy": "2020-07-13T15:57:16.389134Z",
     "iopub.status.idle": "2020-07-13T15:57:16.394162Z",
     "shell.execute_reply": "2020-07-13T15:57:16.394162Z"
    }
   },
   "outputs": [
    {
     "data": {
      "text/latex": [
       "$\\displaystyle \\frac{x^{3}}{3}$"
      ],
      "text/plain": [
       "x**3/3"
      ]
     },
     "execution_count": 13,
     "metadata": {},
     "output_type": "execute_result"
    }
   ],
   "source": [
    "integrale"
   ]
  },
  {
   "cell_type": "markdown",
   "metadata": {},
   "source": [
    "Vi kan også bruge variablen til efterfølgende beregninger. "
   ]
  },
  {
   "cell_type": "code",
   "execution_count": 14,
   "metadata": {
    "execution": {
     "iopub.execute_input": "2020-07-13T15:57:16.401101Z",
     "iopub.status.busy": "2020-07-13T15:57:16.400104Z",
     "iopub.status.idle": "2020-07-13T15:57:16.406088Z",
     "shell.execute_reply": "2020-07-13T15:57:16.405091Z"
    }
   },
   "outputs": [
    {
     "data": {
      "text/latex": [
       "$\\displaystyle \\frac{2 x^{3}}{3}$"
      ],
      "text/plain": [
       "2*x**3/3"
      ]
     },
     "execution_count": 14,
     "metadata": {},
     "output_type": "execute_result"
    }
   ],
   "source": [
    "integrale * 2"
   ]
  },
  {
   "cell_type": "markdown",
   "metadata": {},
   "source": [
    "### Grafisk fremstilling\n",
    "\n",
    "Det er selvfølgelig vigtigt at vi kan lave et plot af vores funktion for at kunne lave en visuel inspektion. `sympy` gør det heldigvis virkelig nemt at få lavet et plot, af den funktion man arbejder med. Men som altid, skal vi selvfølgelig altid importere funktionaliteten først. Så vi skal importere `plot()` funktionen. "
   ]
  },
  {
   "cell_type": "code",
   "execution_count": 15,
   "metadata": {
    "execution": {
     "iopub.execute_input": "2020-07-13T15:57:16.411075Z",
     "iopub.status.busy": "2020-07-13T15:57:16.410077Z",
     "iopub.status.idle": "2020-07-13T15:57:16.415064Z",
     "shell.execute_reply": "2020-07-13T15:57:16.414067Z"
    }
   },
   "outputs": [],
   "source": [
    "from sympy import plot"
   ]
  },
  {
   "cell_type": "markdown",
   "metadata": {},
   "source": [
    "Nu har vi altså funktionen til at kunne tegne vores funktioner. "
   ]
  },
  {
   "cell_type": "markdown",
   "metadata": {},
   "source": [
    "Vi kan prøve at tegne funktionen $x^2$, som jo er en parabel."
   ]
  },
  {
   "cell_type": "code",
   "execution_count": 16,
   "metadata": {
    "execution": {
     "iopub.execute_input": "2020-07-13T15:57:16.420050Z",
     "iopub.status.busy": "2020-07-13T15:57:16.420050Z",
     "iopub.status.idle": "2020-07-13T15:57:17.491550Z",
     "shell.execute_reply": "2020-07-13T15:57:17.490563Z"
    }
   },
   "outputs": [
    {
     "data": {
      "text/plain": [
       "<Figure size 640x480 with 1 Axes>"
      ]
     },
     "metadata": {},
     "output_type": "display_data"
    },
    {
     "data": {
      "text/plain": [
       "<sympy.plotting.plot.Plot at 0x7a377b0>"
      ]
     },
     "execution_count": 16,
     "metadata": {},
     "output_type": "execute_result"
    }
   ],
   "source": [
    "plot(x**2)"
   ]
  },
  {
   "cell_type": "code",
   "execution_count": null,
   "metadata": {},
   "outputs": [],
   "source": []
  }
 ],
 "metadata": {
  "kernelspec": {
   "display_name": "Python 3",
   "language": "python",
   "name": "python3"
  },
  "language_info": {
   "codemirror_mode": {
    "name": "ipython",
    "version": 3
   },
   "file_extension": ".py",
   "mimetype": "text/x-python",
   "name": "python",
   "nbconvert_exporter": "python",
   "pygments_lexer": "ipython3",
   "version": "3.7.2"
  }
 },
 "nbformat": 4,
 "nbformat_minor": 2
}
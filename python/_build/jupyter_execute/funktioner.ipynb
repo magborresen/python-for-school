{
 "cells": [
  {
   "cell_type": "markdown",
   "metadata": {},
   "source": [
    "## Funktioner\n",
    "\n",
    "En af de vigtigste aspekter i matematikken er funktioner. Så det er uden tvivl vigtigt at vores værktøjer kan finde ud af at arbejde med funktion. Det kan vores yndlingsværktøj `sympy` heldigvis langt hen ad vejen. Jeg vil undlade at gennemgå formler for forskellige funktioner, for det er ikke det der er meningen med denne note. Jeg vil i stedet gå igennem hvilke værktøjer `sympy` giver os til at arbejde med funktioner og hvordan de bruges."
   ]
  },
  {
   "cell_type": "markdown",
   "metadata": {},
   "source": [
    "### Hældningskoefficienter\n",
    "\n",
    "Jeg har tidligere vist hvordan man kan lave sine egne Python funktioner til at lave udregninger for sig. Det kan man selvfølgelig også gøre når man skal udregne sådan noget som hældningskoefficienter, til forskellige former for funktioner. Jeg vil nedenfor vise hvordan man kan lave en funktion der kan finde hældningskoefficienten for en lineær funktion, når man bliver givet to punkter. Jeg vil lade det være optil læseren selv at find på hvordan man kan gøre det til andre funktionstyper."
   ]
  },
  {
   "cell_type": "code",
   "execution_count": 1,
   "metadata": {
    "execution": {
     "iopub.execute_input": "2020-08-22T20:21:02.675963Z",
     "iopub.status.busy": "2020-08-22T20:21:02.674966Z",
     "iopub.status.idle": "2020-08-22T20:21:02.694024Z",
     "shell.execute_reply": "2020-08-22T20:21:02.699997Z"
    }
   },
   "outputs": [],
   "source": [
    "# Først defineres funktionen\n",
    "def lin_finder(x1, y1, x2, y2):\n",
    "    # Der defineres en variabel som indeholder resultatet af udregningen for hældningkoefficienten.\n",
    "    resultat = (y2-y1)/(x2-x1)\n",
    "    \n",
    "    #Resultatet printes efterfølgende på skærmen\n",
    "    print (\"Hældningskoefficienten er: \" + str(resultat))"
   ]
  },
  {
   "cell_type": "markdown",
   "metadata": {},
   "source": [
    "Det er en meget nem funktion, og størstedelen af tiden vil det nok give mere mening, bare at lave udregningen for sig selv i en enkelt celle. Men ikke desto mindre, kan vi jo nu prøve den af."
   ]
  },
  {
   "cell_type": "code",
   "execution_count": 2,
   "metadata": {
    "execution": {
     "iopub.execute_input": "2020-08-22T20:21:02.725772Z",
     "iopub.status.busy": "2020-08-22T20:21:02.725772Z",
     "iopub.status.idle": "2020-08-22T20:21:02.743259Z",
     "shell.execute_reply": "2020-08-22T20:21:02.747307Z"
    }
   },
   "outputs": [
    {
     "name": "stdout",
     "output_type": "stream",
     "text": [
      "Hældningskoefficienten er: 1.75\n"
     ]
    }
   ],
   "source": [
    "lin_finder(1, 0.5, 3, 4)"
   ]
  },
  {
   "cell_type": "markdown",
   "metadata": {},
   "source": [
    "Det virker jo helt som det skal"
   ]
  },
  {
   "cell_type": "markdown",
   "metadata": {},
   "source": [
    "### Grafisk fremstilling\n",
    "\n",
    "Det er selvfølgelig vigtigt at vi kan lave et plot af vores funktion for at kunne lave en visuel inspektion. `sympy` gør det heldigvis virkelig nemt at få lavet et plot, af den funktion man arbejder med. Men som altid, skal vi selvfølgelig altid importere funktionaliteten først. Så vi skal importere `plot()` funktionen. "
   ]
  },
  {
   "cell_type": "code",
   "execution_count": 3,
   "metadata": {
    "execution": {
     "iopub.execute_input": "2020-08-22T20:21:02.780700Z",
     "iopub.status.busy": "2020-08-22T20:21:02.774224Z",
     "iopub.status.idle": "2020-08-22T20:21:04.664256Z",
     "shell.execute_reply": "2020-08-22T20:21:04.664256Z"
    }
   },
   "outputs": [],
   "source": [
    "from sympy import plot"
   ]
  },
  {
   "cell_type": "markdown",
   "metadata": {},
   "source": [
    "Nu har vi altså funktionen til at kunne tegne vores funktioner. "
   ]
  },
  {
   "cell_type": "markdown",
   "metadata": {},
   "source": [
    "Vi kan prøve at tegne funktionen $x^2$, som jo er en parabel. For at kunne gøre det, skal vi først have defineret overfor Python hvad `x` egentlig er. Vi kunne godt sige `x = 5`, som vi normalt ville gøre. Men i dette tilfælde vil vi jo gerne tegne en graf, så derfor vil vi gerne have at `x` kan være en masse forskellige værdier. \n",
    "Det har `sympy` heldigvis en hurtig løsning på, vi skal blot importere `x` fra deres underbibliotek af variable. Det gør vi som vist nedenfor."
   ]
  },
  {
   "cell_type": "code",
   "execution_count": 4,
   "metadata": {
    "execution": {
     "iopub.execute_input": "2020-08-22T20:21:04.675892Z",
     "iopub.status.busy": "2020-08-22T20:21:04.674892Z",
     "iopub.status.idle": "2020-08-22T20:21:04.687235Z",
     "shell.execute_reply": "2020-08-22T20:21:04.687235Z"
    }
   },
   "outputs": [],
   "source": [
    "from sympy.abc import x"
   ]
  },
  {
   "cell_type": "markdown",
   "metadata": {},
   "source": [
    "Nu har vi `x` importeret som en `sympy` variabel og kan dermed bruge den til at lave vores plot som vist nedenfor."
   ]
  },
  {
   "cell_type": "code",
   "execution_count": 5,
   "metadata": {
    "execution": {
     "iopub.execute_input": "2020-08-22T20:21:04.699548Z",
     "iopub.status.busy": "2020-08-22T20:21:04.698159Z",
     "iopub.status.idle": "2020-08-22T20:21:05.973031Z",
     "shell.execute_reply": "2020-08-22T20:21:05.977083Z"
    }
   },
   "outputs": [
    {
     "data": {
      "text/plain": [
       "<Figure size 640x480 with 1 Axes>"
      ]
     },
     "metadata": {},
     "output_type": "display_data"
    },
    {
     "data": {
      "text/plain": [
       "<sympy.plotting.plot.Plot at 0x69ad230>"
      ]
     },
     "execution_count": 5,
     "metadata": {},
     "output_type": "execute_result"
    }
   ],
   "source": [
    "plot(x**2)"
   ]
  },
  {
   "cell_type": "markdown",
   "metadata": {},
   "source": [
    "Det er også muligt at tegne flere funktioner ind i ét koordinatsystem. Det gør man ved at "
   ]
  },
  {
   "cell_type": "code",
   "execution_count": 6,
   "metadata": {
    "execution": {
     "iopub.execute_input": "2020-08-22T20:21:06.040844Z",
     "iopub.status.busy": "2020-08-22T20:21:06.035848Z",
     "iopub.status.idle": "2020-08-22T20:21:06.553938Z",
     "shell.execute_reply": "2020-08-22T20:21:06.553938Z"
    }
   },
   "outputs": [
    {
     "data": {
      "image/png": "[encoded data removed]",
      "text/plain": [
       "<Figure size 432x288 with 1 Axes>"
      ]
     },
     "metadata": {
      "filenames": {
       "image/png": "C:\\Users\\mabo\\Documents\\python-for-school\\python\\_build\\jupyter_execute\\funktioner_14_0.png"
      },
      "needs_background": "light"
     },
     "output_type": "display_data"
    },
    {
     "data": {
      "text/plain": [
       "<sympy.plotting.plot.Plot at 0xc66bd70>"
      ]
     },
     "execution_count": 6,
     "metadata": {},
     "output_type": "execute_result"
    }
   ],
   "source": [
    "plot(x**2, x)"
   ]
  },
  {
   "cell_type": "markdown",
   "metadata": {},
   "source": [
    "Vi kan også plotte inden for et bestemt område. F.eks. kan man se at i eksemplerne ovenfor, plottes x-aksen fra -10.0 til 10.0. Vi kan gøre aksen større eller mindre ved at specificere intervallet når vi kalder funktionen. Lad os prøve at plotte $x^2$ igen, men denne gang kun i intervallet -5.0 til 5.0"
   ]
  },
  {
   "cell_type": "code",
   "execution_count": 7,
   "metadata": {
    "execution": {
     "iopub.execute_input": "2020-08-22T20:21:06.604424Z",
     "iopub.status.busy": "2020-08-22T20:21:06.602421Z",
     "iopub.status.idle": "2020-08-22T20:21:07.059099Z",
     "shell.execute_reply": "2020-08-22T20:21:07.059099Z"
    }
   },
   "outputs": [
    {
     "data": {
      "image/png": "[encoded data removed]",
      "text/plain": [
       "<Figure size 432x288 with 1 Axes>"
      ]
     },
     "metadata": {
      "filenames": {
       "image/png": "C:\\Users\\mabo\\Documents\\python-for-school\\python\\_build\\jupyter_execute\\funktioner_16_0.png"
      },
      "needs_background": "light"
     },
     "output_type": "display_data"
    },
    {
     "data": {
      "text/plain": [
       "<sympy.plotting.plot.Plot at 0xbfcdd50>"
      ]
     },
     "execution_count": 7,
     "metadata": {},
     "output_type": "execute_result"
    }
   ],
   "source": [
    "plot(x**2, (x, -5, 5))"
   ]
  },
  {
   "cell_type": "markdown",
   "metadata": {},
   "source": [
    "Vi skal altså blot indsætte en parentes i stedet for kun at definere at det er variablen `x` vi vil plotte. For at gøre det helt klart, så hvis vi blot vil plotte $x^2$ og lade `sympy` tage sig af akse-værdierne, så skriver vi blot `plot(x**2)`. Men hvis vi vil styre akse-værdierne på x-aksen, så skriver vi altså `plot(x**2, (x, -5, 5))`."
   ]
  },
  {
   "cell_type": "markdown",
   "metadata": {},
   "source": [
    "Vi kan også godt styrer akse-værdierne for y-aksen og vi kan også gøre x-aksen så lang vi ønsker. Men det vil jeg gennemgå Funktioner for Gymnasier, da jeg ikke mener det er relavent for folkeskole elever. "
   ]
  },
  {
   "cell_type": "code",
   "execution_count": null,
   "metadata": {},
   "outputs": [],
   "source": []
  }
 ],
 "metadata": {
  "kernelspec": {
   "display_name": "Python 3",
   "language": "python",
   "name": "python3"
  },
  "language_info": {
   "codemirror_mode": {
    "name": "ipython",
    "version": 3
   },
   "file_extension": ".py",
   "mimetype": "text/x-python",
   "name": "python",
   "nbconvert_exporter": "python",
   "pygments_lexer": "ipython3",
   "version": "3.7.2"
  }
 },
 "nbformat": 4,
 "nbformat_minor": 2
}
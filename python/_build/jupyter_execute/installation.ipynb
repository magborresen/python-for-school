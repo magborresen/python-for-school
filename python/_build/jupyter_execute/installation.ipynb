{
 "cells": [
  {
   "cell_type": "markdown",
   "metadata": {},
   "source": [
    "# Installation"
   ]
  },
  {
   "cell_type": "markdown",
   "metadata": {},
   "source": [
    "Vi skal have installeret de komponenter der er nødvendige for at kunne gøre brug af Jupyter Notebooks. Den vigtigste ingrediens er selvfølgelig Python. Der er flere måder at installere Python på, men for at bruge command line/terminalen mindst muligt, så foreslår jeg at installere Python igennem Anaconda distributionen. Anaconda giver en grafisk interface, til installering af selve Python, biblioteker og Jupyter Notebooks. Det kan umiddelbart være skræmmende at benytte command line, hvis det er første gang. [Så derfor vil jeg anbefale at downloade Anaconda Pyton 3.x herfra](https://www.anaconda.com/products/individual)."
   ]
  },
  {
   "cell_type": "markdown",
   "metadata": {},
   "source": [
    "Installationen burde være rimelig gnidningsfri. \n",
    "\n",
    "Det smarte ved at bruge Anaconda er, at Anaconda Navigator følger med. Det betyder at i stedet for at benytte Windows Command Line eller MacOS Terminale, så kan vi benytte os af en grafisk nagivator. Desuden kan Jupyter Notebooks åbnes direkte her igennem. Jupyter Notebooks, burde komme som standard sammen med installationen af Anaconda. "
   ]
  }
 ],
 "metadata": {
  "kernelspec": {
   "display_name": "Python 3",
   "language": "python",
   "name": "python3"
  },
  "language_info": {
   "codemirror_mode": {
    "name": "ipython",
    "version": 3
   },
   "file_extension": ".py",
   "mimetype": "text/x-python",
   "name": "python",
   "nbconvert_exporter": "python",
   "pygments_lexer": "ipython3",
   "version": "3.7.2"
  }
 },
 "nbformat": 4,
 "nbformat_minor": 2
}
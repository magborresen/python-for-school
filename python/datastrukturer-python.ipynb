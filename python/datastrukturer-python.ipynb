{
 "cells": [
  {
   "cell_type": "markdown",
   "metadata": {},
   "source": [
    "# Datastrukturer i Python"
   ]
  },
  {
   "cell_type": "markdown",
   "metadata": {},
   "source": [
    "Uha, det lyder allerede som noget meget teknisk når man har ordet datastruktur i en overskrift. Men heldigvis er det rigtig simpelt takket være Python. Datastrukturer er en vigtig del af alle programmeringssprog. De sørger for at vi kan opbevarer en større mængde data end blot det der kan være i en variabel. I Python finder vi generelt 3 datastrukturer __Lister__, __Tuples__ og __Dictionaries__. I folkeskole matematik kunne jeg forestille mig at __lister__ godt kunne blive brugt. Generelt bruger jeg ikke selv __Tuples__ så meget, da jeg synes de to andre strukturer har flere fordele. Lad os kigge på dem én for én og se hvordan de virker. "
   ]
  },
  {
   "cell_type": "markdown",
   "metadata": {},
   "source": [
    "## Lister"
   ]
  },
  {
   "cell_type": "markdown",
   "metadata": {},
   "source": [
    "En liste er defineret ved hjælp af to klammer `[]`. Imellem de to klammer, har man så alt sin data. Dataen kan både være tal, decimaltal, tekst, variable eller en blanding af alle disse. Lister kan også gemmes som almindelige variable, hvilket gør at de er nemme at tilgå. Lad os prøve at definere en liste der indeholder tallene `1`, `2` og `3`. Vi gemmer den som `liste`."
   ]
  },
  {
   "cell_type": "code",
   "execution_count": 1,
   "metadata": {},
   "outputs": [],
   "source": [
    "liste = [1, 2, 3]"
   ]
  },
  {
   "cell_type": "markdown",
   "metadata": {},
   "source": [
    "Som det ses, så adskiller man sine data med et komma `,`. Lad os prøve at bruge `print()` funktionen på listen og se hvad der sker."
   ]
  },
  {
   "cell_type": "code",
   "execution_count": 2,
   "metadata": {},
   "outputs": [
    {
     "name": "stdout",
     "output_type": "stream",
     "text": [
      "[1, 2, 3]\n"
     ]
    }
   ],
   "source": [
    "print(liste)"
   ]
  },
  {
   "cell_type": "markdown",
   "metadata": {},
   "source": [
    "Vi får simpelthen bare hele listen ud... Men hvad nu hvis jeg gerne vil have fat i noget bestemt data i listen? Her kan vi bruge det vi kalder for indeksering. Vi skal blote skrive listens navn (`liste` i dette tilfælde) og specificere indenfor to klammer `[]` hvilken position vi ønsker at tilgå. Python benytter, som alle andre programmeringssprog, nul-indeksering. Det vil sige at vi starter fra 0. Da der i vores liste står `1` i første position, skal vi altså have fat i indeks `0`. Det gør vi ved"
   ]
  },
  {
   "cell_type": "code",
   "execution_count": 3,
   "metadata": {},
   "outputs": [
    {
     "name": "stdout",
     "output_type": "stream",
     "text": [
      "1\n"
     ]
    }
   ],
   "source": [
    "print(liste[0])"
   ]
  },
  {
   "cell_type": "markdown",
   "metadata": {},
   "source": [
    "Og vupti, så har vi vores første position.\n",
    "\n",
    "Hvis vi gerne vil have den sidste position i listen, så skal vi huske at vi starter med at tælle fra nul. I og med at vi har 3 stykker data i vores liste, så vil den sidste position altså være defineret som position `2`. Lad os prøve at printe den."
   ]
  },
  {
   "cell_type": "code",
   "execution_count": 4,
   "metadata": {},
   "outputs": [
    {
     "name": "stdout",
     "output_type": "stream",
     "text": [
      "3\n"
     ]
    }
   ],
   "source": [
    "print(liste[2])"
   ]
  },
  {
   "cell_type": "markdown",
   "metadata": {},
   "source": [
    "Fantastisk, det virker jo helt perfekt! Lad os for sjovs skyld, se hvad der sker, hvis vi giver et tal der er udenfor listens indeks, hvilket i dette tilfælde vil være `3`."
   ]
  },
  {
   "cell_type": "code",
   "execution_count": 5,
   "metadata": {},
   "outputs": [
    {
     "ename": "IndexError",
     "evalue": "list index out of range",
     "output_type": "error",
     "traceback": [
      "\u001b[1;31m---------------------------------------------------------------------------\u001b[0m",
      "\u001b[1;31mIndexError\u001b[0m                                Traceback (most recent call last)",
      "\u001b[1;32m<ipython-input-5-db96302ff4ae>\u001b[0m in \u001b[0;36m<module>\u001b[1;34m\u001b[0m\n\u001b[1;32m----> 1\u001b[1;33m \u001b[0mprint\u001b[0m\u001b[1;33m(\u001b[0m\u001b[0mliste\u001b[0m\u001b[1;33m[\u001b[0m\u001b[1;36m3\u001b[0m\u001b[1;33m]\u001b[0m\u001b[1;33m)\u001b[0m\u001b[1;33m\u001b[0m\u001b[1;33m\u001b[0m\u001b[0m\n\u001b[0m",
      "\u001b[1;31mIndexError\u001b[0m: list index out of range"
     ]
    }
   ],
   "source": [
    "print(liste[3])"
   ]
  },
  {
   "cell_type": "markdown",
   "metadata": {},
   "source": [
    "Vi får bare en fejl der siger at indekset ikke er inden for den rækkevidde listen har."
   ]
  },
  {
   "cell_type": "markdown",
   "metadata": {},
   "source": [
    "## Tuples"
   ]
  },
  {
   "cell_type": "code",
   "execution_count": null,
   "metadata": {},
   "outputs": [],
   "source": []
  }
 ],
 "metadata": {
  "kernelspec": {
   "display_name": "Python 3",
   "language": "python",
   "name": "python3"
  },
  "language_info": {
   "codemirror_mode": {
    "name": "ipython",
    "version": 3
   },
   "file_extension": ".py",
   "mimetype": "text/x-python",
   "name": "python",
   "nbconvert_exporter": "python",
   "pygments_lexer": "ipython3",
   "version": "3.7.2"
  }
 },
 "nbformat": 4,
 "nbformat_minor": 2
}

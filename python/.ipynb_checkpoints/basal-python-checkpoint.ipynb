{
 "cells": [
  {
   "cell_type": "markdown",
   "metadata": {},
   "source": [
    "# Start her"
   ]
  },
  {
   "cell_type": "markdown",
   "metadata": {},
   "source": [
    "Måske har du tæsket dig igennem mine forord og ved derfor allerede hvorfor jeg synes at Python i folkeskolen og gymnasiet er en god idé. Men hvis ikke, eller hvis du bare har lyst til at hører lidt mere omrking hvorfor jeg synes Python er så fedt. Så læs med her.\n",
    "\n",
    "Python er det vi kalder for en __General Purpose Programming Language__. Altså kort fortalt, et programmeringssprog som har mange anvendelser. I Pythons tilfælde er det dog bare utroligt mange anvendelser. Og der kommer flere dag for dag.\n",
    "\n",
    "Ikke nok med at vi kan bruge Python til at hjælpe os med matematikken i form af CAS. Jamen så kan vi faktisk også bygge hele webplatforme (hjemmesider og applikationer i webbrowseren) i Python. Instagram's hjemmeside er f.eks. bygget ved hjælp af Python biblioteket `Django`. Vi kan også bruge Python til at lave programmer på vores computer. Jeg skal senere vise hvordan vi kan benytte biblioteket `tkinter` til at lave en simpel lommeregner med en grafisk interface. Derudover kan Python også benyttes til noget lidt mere håndgribeligt. `circuit Python` er begyndt at vende indtog blandt nybegyndere og hobby folk til at programmere mikrokontrollere i elektriske kredsløb såsom Arduino. Det gør barrieren for at komme igang væsenligt mindre, da man ikke længere er nødsaget til at lære `C`.\n",
    "\n",
    "## Det er meget fint, men hvad så nu?\n",
    "\n",
    "Hvis man sidder på en Mac eller Linux computer vil Python allerede være præinstalleret. Hvis man sidder på en Windows computer derimod, skal Python installeres. Jeg vedhæfter et link til en guide for installation.\n",
    "\n",
    "Der findes 2 versioner af Python. Python 2 og Python 3. I denne notesbog, vil der dog blive brugt Python 3, da Python 2 ikke længere vil være supporteret fra udviklerne i 2020. \n",
    "\n",
    "For at kunne udarbejder matematik afleveringer og prøver med Python, foreslår jeg at installere Jupyter Notebooks. Dette gøres ved hjælp af Python indbyggede pakke distrubtionssystem kaldet pip. Jeg vedhæfter en guide til hvordan Jupyter Notebooks installeres, samt hvordan man bruger pip generelt. Når Python er installeret kræver pip ingen ekstra opsætning, og man vil kunne bruge funktionaliteten med det samme. pip sørger for at installere pakker automatisk og korrekt.\n",
    "\n",
    "Når Python, pip og Jupyter Notebooks er blevet sat op, kan vi begynde."
   ]
  },
  {
   "cell_type": "markdown",
   "metadata": {},
   "source": [
    "## Hvad er en variabel?\n",
    "\n",
    "En variabel i Python bliver brugt til at gemme værdier i. Det vil sige at det altså ikke fungere som i matematik hvor man f.eks. har en ukendt variabel. For at kunne bruge en variabel, skal den først deklareres. Det betyder i alt sin enkelthed bare at man fortæller Python f.eks. at `x = 3`. Hermed vil variablen `x` nu indeholde værdien `3`.\n",
    "\n",
    "Det er vigtigt at forstå hvad variabler er i Python da de er smarte at arbejde med i forhold til alt i matematik. Det er heldigvis ikke så besværligt. Variabler behøver heller ikke kun hedde enkelte bogstaver. Det vil sige at en variabel godt kan hedde `detHerErEnVariabel`. Generelt ser man bare gerne at man enten benytter sig af det der hedder _camelCase_ eller underscore `_`. Det skyldes at der ikke må være mellemrum i variabelnavne. _camelCase_ fungere ved at man har et variabelnavn der består af flere ord. Her skriver man det første ord med småt, i de efterfølgende ord skriver man det første bogstav med stort. Det tidligere eksempel på et variabel navn er for eksempel i _camelCase_. Det nemmeste er dog nok bare at sætte et underscore `_` mellem hvert ord.\n",
    "\n",
    "Jeg vil igennem denne guide bruge variabler, så kig med og se om brikkerne ikke hurtigt falder på plads. Nedenfor kan du se et eksempel på brug af en variabel."
   ]
  },
  {
   "cell_type": "code",
   "execution_count": 1,
   "metadata": {},
   "outputs": [
    {
     "name": "stdout",
     "output_type": "stream",
     "text": [
      "15\n"
     ]
    }
   ],
   "source": [
    "# Her deklarere vi vores variabel\n",
    "detHerErEnVariabel = 15\n",
    "\n",
    "# Vi kan efterfølgende skrive ud hvad vores variabel indeholder\n",
    "print (detHerErEnVariabel)"
   ]
  },
  {
   "cell_type": "markdown",
   "metadata": {},
   "source": [
    "Det smarte ved variable er også, at de gør det muligt at have flere outputs pr. celle i ens notebooks. Vi kan lave to variable og få dem begge ud som output fra samme celle."
   ]
  },
  {
   "cell_type": "code",
   "execution_count": 2,
   "metadata": {},
   "outputs": [
    {
     "name": "stdout",
     "output_type": "stream",
     "text": [
      "15\n",
      "17\n"
     ]
    }
   ],
   "source": [
    "# Her deklarere vi vores variabel\n",
    "detHerErEnVariabel = 15\n",
    "detHerErEnNyVariabel = 17\n",
    "\n",
    "# Vi kan efterfølgende skrive ud hvad vores variabel indeholder\n",
    "print (detHerErEnVariabel)\n",
    "print (detHerErEnNyVariabel)"
   ]
  },
  {
   "cell_type": "markdown",
   "metadata": {},
   "source": [
    "`print` funktionen gør det også muligt at print almindeligt tekst, med eller uden sin variabel. Det kræver bare at man sætter enten `\"\"` eller `''` rundt om sin tekst inde i parentesen."
   ]
  },
  {
   "cell_type": "code",
   "execution_count": 3,
   "metadata": {},
   "outputs": [
    {
     "name": "stdout",
     "output_type": "stream",
     "text": [
      "Det her er bare tekst\n"
     ]
    }
   ],
   "source": [
    "print(\"Det her er bare tekst\")"
   ]
  },
  {
   "cell_type": "markdown",
   "metadata": {},
   "source": [
    "## Konvertering af typer\n",
    "\n",
    "Vi kan også gøre det sammen med variable."
   ]
  },
  {
   "cell_type": "code",
   "execution_count": 5,
   "metadata": {},
   "outputs": [
    {
     "name": "stdout",
     "output_type": "stream",
     "text": [
      "Det her er vores variable 15\n"
     ]
    }
   ],
   "source": [
    "print(\"Det her er vores variable \" + str(detHerErEnVariabel))"
   ]
  },
  {
   "cell_type": "markdown",
   "metadata": {},
   "source": [
    "Som det kan ses i eksemplet ovenfor, så er det muligt at lægge et tal og et stykke tekst sammen. Det er det fordi vi bruger funktionen `str()`. Denne funktion tager et tal ind i parentesen og omdanner det til en tekst streng. \n",
    "\n",
    "Det er nødvendigt at gøre det på denne måde da Python ikke kan sætte en tekst streng og et tal sammen. Og det er netop det vi gør med det `+` vi har sat i eksemplet ovenfor. Det betyder basalt set at vi konkatenere to tekst strenge sammen. Hvis vi forsøger at gøre det uden `str` funtionen, så får vi en fejl"
   ]
  },
  {
   "cell_type": "code",
   "execution_count": 6,
   "metadata": {},
   "outputs": [
    {
     "ename": "TypeError",
     "evalue": "can only concatenate str (not \"int\") to str",
     "output_type": "error",
     "traceback": [
      "\u001b[1;31m---------------------------------------------------------------------------\u001b[0m",
      "\u001b[1;31mTypeError\u001b[0m                                 Traceback (most recent call last)",
      "\u001b[1;32m<ipython-input-6-b49371dd1c82>\u001b[0m in \u001b[0;36m<module>\u001b[1;34m\u001b[0m\n\u001b[1;32m----> 1\u001b[1;33m \u001b[0mprint\u001b[0m\u001b[1;33m(\u001b[0m\u001b[1;34m\"Det her er vores variable \"\u001b[0m \u001b[1;33m+\u001b[0m \u001b[0mdetHerErEnVariabel\u001b[0m\u001b[1;33m)\u001b[0m\u001b[1;33m\u001b[0m\u001b[1;33m\u001b[0m\u001b[0m\n\u001b[0m",
      "\u001b[1;31mTypeError\u001b[0m: can only concatenate str (not \"int\") to str"
     ]
    }
   ],
   "source": [
    "print(\"Det her er vores variable \" + detHerErEnVariabel)"
   ]
  },
  {
   "cell_type": "markdown",
   "metadata": {},
   "source": [
    "Vi ser ved fejlen at Python fortæller os at en tekst streng ikke kan konkateneres sammen med en `int`, hvilket står for __Integer__. Mens `str` står for __String__.\n",
    "\n",
    "Desuden viser det ovenstående eksempel at det er muligt at benytte variable som er blevet defineret i tidligere celler. Alle variable som bliver defineret i en Notebook er tilgængelige igennem alle celler i hele den Notebook. Eller, det er ikke helt rigtigt, for variablen er kun tilgængelig i celler efter den er blevet defineret. "
   ]
  },
  {
   "cell_type": "markdown",
   "metadata": {},
   "source": [
    "Man kan altid finde ud af hvilken type af variable man arbejder med, ved at bruge funktionen `type()` og indtaste sin variable i parentesen, som set nedenfor."
   ]
  },
  {
   "cell_type": "code",
   "execution_count": 8,
   "metadata": {},
   "outputs": [
    {
     "data": {
      "text/plain": [
       "int"
      ]
     },
     "execution_count": 8,
     "metadata": {},
     "output_type": "execute_result"
    }
   ],
   "source": [
    "type(detHerErEnVariabel)"
   ]
  },
  {
   "cell_type": "markdown",
   "metadata": {},
   "source": [
    "`detHerErEnVariabel` er typen __Integer__, altså et heltal. Hvilket vi også havde regnet med. Vi kan også regne med decimaltal, i computerens verden er det dog en helt anden mundfuld. Derfor kaldes decimaltal ikke for __Integers__, men istedet for __Float__."
   ]
  }
 ],
 "metadata": {
  "kernelspec": {
   "display_name": "Python 3",
   "language": "python",
   "name": "python3"
  },
  "language_info": {
   "codemirror_mode": {
    "name": "ipython",
    "version": 3
   },
   "file_extension": ".py",
   "mimetype": "text/x-python",
   "name": "python",
   "nbconvert_exporter": "python",
   "pygments_lexer": "ipython3",
   "version": "3.7.2"
  }
 },
 "nbformat": 4,
 "nbformat_minor": 2
}

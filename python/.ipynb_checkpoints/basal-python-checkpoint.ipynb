{
 "cells": [
  {
   "cell_type": "markdown",
   "metadata": {},
   "source": [
    "# Start her"
   ]
  },
  {
   "cell_type": "markdown",
   "metadata": {},
   "source": [
    "Måske har du tæsket dig igennem mine forord og ved derfor allerede hvorfor jeg synes at Python i folkeskolen og gymnasiet er en god idé. Men hvis ikke, eller hvis du bare har lyst til at hører lidt mere omrking hvorfor jeg synes Python er så fedt. Så læs med her.\n",
    "\n",
    "Python er det vi kalder for en __General Purpose Programming Language__. Altså kort fortalt, et programmeringssprog som har mange anvendelser. I Pythons tilfælde er det dog bare utroligt mange anvendelser. Og der kommer flere dag for dag.\n",
    "\n",
    "Ikke nok med at vi kan bruge Python til at hjælpe os med matematikken i form af CAS. Jamen så kan vi faktisk også bygge hele webplatforme (hjemmesider og applikationer i webbrowseren) i Python. Instagram's hjemmeside er f.eks. bygget ved hjælp af Python biblioteket `Django`. Vi kan også bruge Python til at lave programmer på vores computer. Jeg skal senere vise hvordan vi kan benytte biblioteket `tkinter` til at lave en simpel lommeregner med en grafisk interface. Derudover kan Python også benyttes til noget lidt mere håndgribeligt. `circuit Python` er begyndt at vende indtog blandt nybegyndere og hobby folk til at programmere mikrokontrollere i elektriske kredsløb såsom Arduino. Det gør barrieren for at komme igang væsenligt mindre, da man ikke længere er nødsaget til at lære `C`.\n",
    "\n",
    "## Det er meget fint, men hvad så nu?\n",
    "\n",
    "Hvis man sidder på en Mac eller Linux computer vil Python allerede være præinstalleret. Hvis man sidder på en Windows computer derimod, skal Python installeres. Jeg vedhæfter et link til en guide for installation.\n",
    "\n",
    "Der findes 2 versioner af Python. Python 2 og Python 3. I denne notesbog, vil der dog blive brugt Python 3, da Python 2 ikke længere vil være supporteret fra udviklerne i 2020. \n",
    "\n",
    "For at kunne udarbejder matematik afleveringer og prøver med Python, foreslår jeg at installere Jupyter Notebooks. Dette gøres ved hjælp af Python indbyggede pakke distrubtionssystem kaldet pip. Jeg vedhæfter en guide til hvordan Jupyter Notebooks installeres, samt hvordan man bruger pip generelt. Når Python er installeret kræver pip ingen ekstra opsætning, og man vil kunne bruge funktionaliteten med det samme. pip sørger for at installere pakker automatisk og korrekt.\n",
    "\n",
    "Når Python, pip og Jupyter Notebooks er blevet sat op, kan vi begynde."
   ]
  }
 ],
 "metadata": {
  "kernelspec": {
   "display_name": "Python 3",
   "language": "python",
   "name": "python3"
  },
  "language_info": {
   "codemirror_mode": {
    "name": "ipython",
    "version": 3
   },
   "file_extension": ".py",
   "mimetype": "text/x-python",
   "name": "python",
   "nbconvert_exporter": "python",
   "pygments_lexer": "ipython3",
   "version": "3.7.2"
  }
 },
 "nbformat": 4,
 "nbformat_minor": 2
}

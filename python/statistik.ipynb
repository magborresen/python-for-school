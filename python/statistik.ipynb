{
 "cells": [
  {
   "cell_type": "markdown",
   "metadata": {},
   "source": [
    "# Statistik\n",
    "\n",
    "Statistik er måske en af de vigtigste begreber inden for hverdags matematik. I min optik, bør der gøres meget mere ud af at lære statistik i folkeskolen. Men lad nu det ligge.\n",
    "\n",
    "Vi skal i denne artikel kigge på hvordan vi kan bruge Python til at hjælpe os med statistik. Ofte går statistik dog også ud på at finde den bedste måde at formidle data til andre på. Derfor kigger vi også på hvordan Python kan hjælpe os med at visualisere vores statistiske data så vi nemt kan forklare det til andre.\n",
    "\n",
    "Til vores held, er der i Python 3 et indbygget statistik bibliotek, som kan hjælpe os med alle de basale funktioner som man finder i folkeskole statistik. \n",
    "\n",
    "Så lad os starte med at importere det. Biblioteket hedder `statistics`, jeg importere det således, at jeg efterfølgende kan bruge forkortelsen `st`. Det gør jeg som nedenstående."
   ]
  },
  {
   "cell_type": "code",
   "execution_count": 3,
   "metadata": {},
   "outputs": [],
   "source": [
    "import statistics as st"
   ]
  },
  {
   "cell_type": "markdown",
   "metadata": {},
   "source": [
    "De mest anvendte termer inden for statistik i folkeskolen er __hyppighed, frekvens, middelværdi, typetal__ og __median__. Så lad os tage dem én ad gangen."
   ]
  },
  {
   "cell_type": "markdown",
   "metadata": {},
   "source": [
    "## Hyppighed"
   ]
  },
  {
   "cell_type": "markdown",
   "metadata": {},
   "source": [
    "Ved hyppighed kigger vi f.eks. på hvor mange gange det samme til optræder i vores datasæt. Datasættet er blot en reference til alle de tal vi er blevet opgivet. "
   ]
  }
 ],
 "metadata": {
  "kernelspec": {
   "display_name": "Python 3",
   "language": "python",
   "name": "python3"
  },
  "language_info": {
   "codemirror_mode": {
    "name": "ipython",
    "version": 3
   },
   "file_extension": ".py",
   "mimetype": "text/x-python",
   "name": "python",
   "nbconvert_exporter": "python",
   "pygments_lexer": "ipython3",
   "version": "3.7.2"
  }
 },
 "nbformat": 4,
 "nbformat_minor": 2
}
